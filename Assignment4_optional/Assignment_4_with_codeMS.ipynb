{
 "cells": [
  {
   "cell_type": "markdown",
   "source": [
    "## Analysis of 'Spotify App Reviews 2022' from Google Play Store"
   ],
   "metadata": {
    "collapsed": false
   }
  },
  {
   "cell_type": "code",
   "execution_count": 1,
   "outputs": [
    {
     "data": {
      "text/plain": "        Time_submitted                                             Review  \\\n0  2022-07-09 15:00:00  Great music service, the audio is high quality...   \n1  2022-07-09 14:21:22  Please ignore previous negative rating. This a...   \n2  2022-07-09 13:27:32  This pop-up \"Get the best Spotify experience o...   \n3  2022-07-09 13:26:45    Really buggy and terrible to use as of recently   \n4  2022-07-09 13:20:49  Dear Spotify why do I get songs that I didn't ...   \n\n   Rating  Total_thumbsup Reply  \n0       5               2   NaN  \n1       5               1   NaN  \n2       4               0   NaN  \n3       1               1   NaN  \n4       1               1   NaN  ",
      "text/html": "<div>\n<style scoped>\n    .dataframe tbody tr th:only-of-type {\n        vertical-align: middle;\n    }\n\n    .dataframe tbody tr th {\n        vertical-align: top;\n    }\n\n    .dataframe thead th {\n        text-align: right;\n    }\n</style>\n<table border=\"1\" class=\"dataframe\">\n  <thead>\n    <tr style=\"text-align: right;\">\n      <th></th>\n      <th>Time_submitted</th>\n      <th>Review</th>\n      <th>Rating</th>\n      <th>Total_thumbsup</th>\n      <th>Reply</th>\n    </tr>\n  </thead>\n  <tbody>\n    <tr>\n      <th>0</th>\n      <td>2022-07-09 15:00:00</td>\n      <td>Great music service, the audio is high quality...</td>\n      <td>5</td>\n      <td>2</td>\n      <td>NaN</td>\n    </tr>\n    <tr>\n      <th>1</th>\n      <td>2022-07-09 14:21:22</td>\n      <td>Please ignore previous negative rating. This a...</td>\n      <td>5</td>\n      <td>1</td>\n      <td>NaN</td>\n    </tr>\n    <tr>\n      <th>2</th>\n      <td>2022-07-09 13:27:32</td>\n      <td>This pop-up \"Get the best Spotify experience o...</td>\n      <td>4</td>\n      <td>0</td>\n      <td>NaN</td>\n    </tr>\n    <tr>\n      <th>3</th>\n      <td>2022-07-09 13:26:45</td>\n      <td>Really buggy and terrible to use as of recently</td>\n      <td>1</td>\n      <td>1</td>\n      <td>NaN</td>\n    </tr>\n    <tr>\n      <th>4</th>\n      <td>2022-07-09 13:20:49</td>\n      <td>Dear Spotify why do I get songs that I didn't ...</td>\n      <td>1</td>\n      <td>1</td>\n      <td>NaN</td>\n    </tr>\n  </tbody>\n</table>\n</div>"
     },
     "execution_count": 1,
     "metadata": {},
     "output_type": "execute_result"
    }
   ],
   "source": [
    "import time\n",
    "from warnings import simplefilter\n",
    "\n",
    "import matplotlib.pyplot as plt\n",
    "import pandas as pd\n",
    "from prettytable import PrettyTable\n",
    "from sklearn.tree import DecisionTreeClassifier\n",
    "from sklearn.feature_extraction.text import CountVectorizer\n",
    "from sklearn.linear_model import LogisticRegression\n",
    "from sklearn.metrics import accuracy_score\n",
    "from sklearn.model_selection import train_test_split\n",
    "from sklearn import svm\n",
    "from sklearn.neighbors import KNeighborsClassifier\n",
    "from sklearn.feature_extraction.text import TfidfVectorizer\n",
    "\n",
    "\n",
    "simplefilter(action='ignore', category=FutureWarning)\n",
    "\n",
    "def remove_punctuation(text):\n",
    "    import string\n",
    "    translator = str.maketrans('', '', string.punctuation)\n",
    "    return text.translate(translator)\n",
    "\n",
    "rev_df = pd.read_csv('reviews.csv')\n",
    "rev_df.head()"
   ],
   "metadata": {
    "collapsed": false,
    "pycharm": {
     "name": "#%%\n"
    }
   }
  },
  {
   "cell_type": "markdown",
   "source": [
    "Firstly I will clean up the dataset from two columns which are useless for this analyse\n",
    "and not necessary such as 'Time_submitted' and 'Reply' which mostly contained NaNs.\n",
    "Secondly I will remove punctuation from all reviews and later explain what which column means."
   ],
   "metadata": {
    "collapsed": false
   }
  },
  {
   "cell_type": "code",
   "execution_count": 2,
   "outputs": [
    {
     "data": {
      "text/plain": "                                              Review  Rating  Total_thumbsup\n0  Great music service the audio is high quality ...       5               2\n1  Please ignore previous negative rating This ap...       5               1\n2  This popup Get the best Spotify experience on ...       4               0\n3    Really buggy and terrible to use as of recently       1               1\n4  Dear Spotify why do I get songs that I didnt p...       1               1",
      "text/html": "<div>\n<style scoped>\n    .dataframe tbody tr th:only-of-type {\n        vertical-align: middle;\n    }\n\n    .dataframe tbody tr th {\n        vertical-align: top;\n    }\n\n    .dataframe thead th {\n        text-align: right;\n    }\n</style>\n<table border=\"1\" class=\"dataframe\">\n  <thead>\n    <tr style=\"text-align: right;\">\n      <th></th>\n      <th>Review</th>\n      <th>Rating</th>\n      <th>Total_thumbsup</th>\n    </tr>\n  </thead>\n  <tbody>\n    <tr>\n      <th>0</th>\n      <td>Great music service the audio is high quality ...</td>\n      <td>5</td>\n      <td>2</td>\n    </tr>\n    <tr>\n      <th>1</th>\n      <td>Please ignore previous negative rating This ap...</td>\n      <td>5</td>\n      <td>1</td>\n    </tr>\n    <tr>\n      <th>2</th>\n      <td>This popup Get the best Spotify experience on ...</td>\n      <td>4</td>\n      <td>0</td>\n    </tr>\n    <tr>\n      <th>3</th>\n      <td>Really buggy and terrible to use as of recently</td>\n      <td>1</td>\n      <td>1</td>\n    </tr>\n    <tr>\n      <th>4</th>\n      <td>Dear Spotify why do I get songs that I didnt p...</td>\n      <td>1</td>\n      <td>1</td>\n    </tr>\n  </tbody>\n</table>\n</div>"
     },
     "execution_count": 2,
     "metadata": {},
     "output_type": "execute_result"
    }
   ],
   "source": [
    "rev_df = rev_df.drop(columns=['Time_submitted', 'Reply'], axis=1)\n",
    "rev_df.Review = rev_df.apply(lambda record : remove_punctuation(record['Review']), axis=1)\n",
    "\n",
    "rev_df.head()"
   ],
   "metadata": {
    "collapsed": false,
    "pycharm": {
     "name": "#%%\n"
    }
   }
  },
  {
   "cell_type": "markdown",
   "source": [
    "`Review` - review text\n",
    "\n",
    "`Rating` - given score between 1 and 5\n",
    "\n",
    "`Total_thumbsup` - how many people find this review as helpful"
   ],
   "metadata": {
    "collapsed": false
   }
  },
  {
   "cell_type": "code",
   "execution_count": 3,
   "outputs": [
    {
     "data": {
      "text/plain": "<Figure size 640x480 with 1 Axes>",
      "image/png": "[encoded data removed]"
     },
     "metadata": {},
     "output_type": "display_data"
    }
   ],
   "source": [
    "help_df = rev_df['Rating'].value_counts()\n",
    "help_df = help_df.sort_index()\n",
    "help_df.plot(kind='bar', xlabel='Rating', ylabel='Count', rot=0)\n",
    "plt.show()"
   ],
   "metadata": {
    "collapsed": false,
    "pycharm": {
     "name": "#%%\n"
    }
   }
  },
  {
   "cell_type": "markdown",
   "source": [
    "As we can see on the chart above we can say that amount of 2 and 4 are similar\n",
    "also 1 and 5s are pretty similar and the rating 3 is used the least times, so\n",
    "we will assume that reviews with rating 3 are our reviews with neutral sentiment."
   ],
   "metadata": {
    "collapsed": false
   }
  },
  {
   "cell_type": "code",
   "execution_count": 4,
   "outputs": [
    {
     "name": "stdout",
     "output_type": "stream",
     "text": [
      "Rows with 'Rating' score 3: 6886\n",
      "Rows with 'Rating' score 3: 0\n"
     ]
    }
   ],
   "source": [
    "before = sum(rev_df.Rating == 3)\n",
    "rev_df = rev_df[rev_df.Rating != 3]\n",
    "after = sum(rev_df.Rating == 3)\n",
    "#short test\n",
    "print(\"Rows with 'Rating' score 3:\", before)\n",
    "print(\"Rows with 'Rating' score 3:\", after)"
   ],
   "metadata": {
    "collapsed": false,
    "pycharm": {
     "name": "#%%\n"
    }
   }
  },
  {
   "cell_type": "markdown",
   "source": [
    "We removed records with rating 3 and assigned it our rev_df dataset."
   ],
   "metadata": {
    "collapsed": false
   }
  },
  {
   "cell_type": "code",
   "execution_count": 5,
   "outputs": [
    {
     "data": {
      "text/plain": "0"
     },
     "execution_count": 5,
     "metadata": {},
     "output_type": "execute_result"
    }
   ],
   "source": [
    "rev_df.loc[rev_df.Rating <= 2, 'Rating'] = -1\n",
    "rev_df.loc[rev_df.Rating >= 4, 'Rating'] = 1\n",
    "\n",
    "to_limited_df = rev_df.copy()\n",
    "\n",
    "#short test:\n",
    "sum(rev_df[\"Rating\"]**2 != 1)"
   ],
   "metadata": {
    "collapsed": false,
    "pycharm": {
     "name": "#%%\n"
    }
   }
  },
  {
   "cell_type": "markdown",
   "source": [
    "We assigned values which were 'negative' so 1 and 2 to value -1, and the 'positive' ones\n",
    "such as 4 and 5 to 1."
   ],
   "metadata": {
    "collapsed": false
   }
  },
  {
   "cell_type": "code",
   "execution_count": 6,
   "outputs": [],
   "source": [
    "review_train, review_test, rating_train, rating_test = train_test_split(rev_df.Review, rev_df.Rating)\n",
    "\n",
    "vectorizer = CountVectorizer()\n",
    "\n",
    "vector_review_train = vectorizer.fit_transform(list(review_train))\n",
    "vector_review_test = vectorizer.transform(list(review_test))"
   ],
   "metadata": {
    "collapsed": false,
    "pycharm": {
     "name": "#%%\n"
    }
   }
  },
  {
   "cell_type": "markdown",
   "source": [
    "Next we use CountVectorizer() which is tool used to transform a given text into a vector of numbers.\n",
    "Transformation is based on frequency of each word that figure in the text."
   ],
   "metadata": {
    "collapsed": false
   }
  },
  {
   "cell_type": "code",
   "execution_count": 7,
   "outputs": [
    {
     "data": {
      "text/plain": "LogisticRegression(max_iter=1500)",
      "text/html": "<style>#sk-container-id-1 {color: black;background-color: white;}#sk-container-id-1 pre{padding: 0;}#sk-container-id-1 div.sk-toggleable {background-color: white;}#sk-container-id-1 label.sk-toggleable__label {cursor: pointer;display: block;width: 100%;margin-bottom: 0;padding: 0.3em;box-sizing: border-box;text-align: center;}#sk-container-id-1 label.sk-toggleable__label-arrow:before {content: \"▸\";float: left;margin-right: 0.25em;color: #696969;}#sk-container-id-1 label.sk-toggleable__label-arrow:hover:before {color: black;}#sk-container-id-1 div.sk-estimator:hover label.sk-toggleable__label-arrow:before {color: black;}#sk-container-id-1 div.sk-toggleable__content {max-height: 0;max-width: 0;overflow: hidden;text-align: left;background-color: #f0f8ff;}#sk-container-id-1 div.sk-toggleable__content pre {margin: 0.2em;color: black;border-radius: 0.25em;background-color: #f0f8ff;}#sk-container-id-1 input.sk-toggleable__control:checked~div.sk-toggleable__content {max-height: 200px;max-width: 100%;overflow: auto;}#sk-container-id-1 input.sk-toggleable__control:checked~label.sk-toggleable__label-arrow:before {content: \"▾\";}#sk-container-id-1 div.sk-estimator input.sk-toggleable__control:checked~label.sk-toggleable__label {background-color: #d4ebff;}#sk-container-id-1 div.sk-label input.sk-toggleable__control:checked~label.sk-toggleable__label {background-color: #d4ebff;}#sk-container-id-1 input.sk-hidden--visually {border: 0;clip: rect(1px 1px 1px 1px);clip: rect(1px, 1px, 1px, 1px);height: 1px;margin: -1px;overflow: hidden;padding: 0;position: absolute;width: 1px;}#sk-container-id-1 div.sk-estimator {font-family: monospace;background-color: #f0f8ff;border: 1px dotted black;border-radius: 0.25em;box-sizing: border-box;margin-bottom: 0.5em;}#sk-container-id-1 div.sk-estimator:hover {background-color: #d4ebff;}#sk-container-id-1 div.sk-parallel-item::after {content: \"\";width: 100%;border-bottom: 1px solid gray;flex-grow: 1;}#sk-container-id-1 div.sk-label:hover label.sk-toggleable__label {background-color: #d4ebff;}#sk-container-id-1 div.sk-serial::before {content: \"\";position: absolute;border-left: 1px solid gray;box-sizing: border-box;top: 0;bottom: 0;left: 50%;z-index: 0;}#sk-container-id-1 div.sk-serial {display: flex;flex-direction: column;align-items: center;background-color: white;padding-right: 0.2em;padding-left: 0.2em;position: relative;}#sk-container-id-1 div.sk-item {position: relative;z-index: 1;}#sk-container-id-1 div.sk-parallel {display: flex;align-items: stretch;justify-content: center;background-color: white;position: relative;}#sk-container-id-1 div.sk-item::before, #sk-container-id-1 div.sk-parallel-item::before {content: \"\";position: absolute;border-left: 1px solid gray;box-sizing: border-box;top: 0;bottom: 0;left: 50%;z-index: -1;}#sk-container-id-1 div.sk-parallel-item {display: flex;flex-direction: column;z-index: 1;position: relative;background-color: white;}#sk-container-id-1 div.sk-parallel-item:first-child::after {align-self: flex-end;width: 50%;}#sk-container-id-1 div.sk-parallel-item:last-child::after {align-self: flex-start;width: 50%;}#sk-container-id-1 div.sk-parallel-item:only-child::after {width: 0;}#sk-container-id-1 div.sk-dashed-wrapped {border: 1px dashed gray;margin: 0 0.4em 0.5em 0.4em;box-sizing: border-box;padding-bottom: 0.4em;background-color: white;}#sk-container-id-1 div.sk-label label {font-family: monospace;font-weight: bold;display: inline-block;line-height: 1.2em;}#sk-container-id-1 div.sk-label-container {text-align: center;}#sk-container-id-1 div.sk-container {/* jupyter's `normalize.less` sets `[hidden] { display: none; }` but bootstrap.min.css set `[hidden] { display: none !important; }` so we also need the `!important` here to be able to override the default hidden behavior on the sphinx rendered scikit-learn.org. See: https://github.com/scikit-learn/scikit-learn/issues/21755 */display: inline-block !important;position: relative;}#sk-container-id-1 div.sk-text-repr-fallback {display: none;}</style><div id=\"sk-container-id-1\" class=\"sk-top-container\"><div class=\"sk-text-repr-fallback\"><pre>LogisticRegression(max_iter=1500)</pre><b>In a Jupyter environment, please rerun this cell to show the HTML representation or trust the notebook. <br />On GitHub, the HTML representation is unable to render, please try loading this page with nbviewer.org.</b></div><div class=\"sk-container\" hidden><div class=\"sk-item\"><div class=\"sk-estimator sk-toggleable\"><input class=\"sk-toggleable__control sk-hidden--visually\" id=\"sk-estimator-id-1\" type=\"checkbox\" checked><label for=\"sk-estimator-id-1\" class=\"sk-toggleable__label sk-toggleable__label-arrow\">LogisticRegression</label><div class=\"sk-toggleable__content\"><pre>LogisticRegression(max_iter=1500)</pre></div></div></div></div></div>"
     },
     "execution_count": 7,
     "metadata": {},
     "output_type": "execute_result"
    }
   ],
   "source": [
    "model = LogisticRegression(solver='lbfgs', max_iter=1500)\n",
    "model.fit(vector_review_train, rating_train)"
   ],
   "metadata": {
    "collapsed": false,
    "pycharm": {
     "name": "#%%\n"
    }
   }
  },
  {
   "cell_type": "markdown",
   "source": [
    "We are creating model by using Logistic Regression which is used to predict the probability of a binary event figuring.\n",
    "To avoid warnings (which are not meaningful, only makes output worse looking) I'm using solver and max_iter."
   ],
   "metadata": {
    "collapsed": false
   }
  },
  {
   "cell_type": "code",
   "execution_count": 8,
   "outputs": [
    {
     "name": "stdout",
     "output_type": "stream",
     "text": [
      "Most positive words: ['1010', 'brilliant', 'love', 'easy', 'wonderful', 'amazing', 'best', 'awesome', 'loving', 'excellent']\n",
      "Most negative words: ['misinformation', 'worst', 'trash', 'horrible', 'rubbish', 'pointless', 'disappointing', 'greedy', 'garbage', 'pathetic']\n"
     ]
    }
   ],
   "source": [
    "words = list(zip(model.coef_[0], vectorizer.get_feature_names()))\n",
    "sorted_words = sorted(words, key=lambda x: x[0])\n",
    "\n",
    "most_positive_words = [word[1] for word in sorted_words[-10:]]\n",
    "most_negative_words = [word[1] for word in sorted_words[:10]]\n",
    "\n",
    "print('Most positive words:', most_positive_words)\n",
    "print('Most negative words:', most_negative_words)"
   ],
   "metadata": {
    "collapsed": false,
    "pycharm": {
     "name": "#%%\n"
    }
   }
  },
  {
   "cell_type": "markdown",
   "source": [
    "By using functions model.coef_, vectorizer.get_feature_names() and few more we\n",
    "are creating list of 10 most positive and negative words."
   ],
   "metadata": {
    "collapsed": false
   }
  },
  {
   "cell_type": "code",
   "execution_count": 9,
   "outputs": [
    {
     "name": "stdout",
     "output_type": "stream",
     "text": [
      "1.6031265258789062 s\n"
     ]
    }
   ],
   "source": [
    "begin = time.time()\n",
    "predictions = model.predict(vector_review_test)\n",
    "predictions_time_to_do = time.time() - begin\n",
    "print(predictions_time_to_do * 1000, 's')"
   ],
   "metadata": {
    "collapsed": false,
    "pycharm": {
     "name": "#%%\n"
    }
   }
  },
  {
   "cell_type": "markdown",
   "source": [
    "We are using .predict() function to predict the labels of the data values based\n",
    "on our trained model. We also use function time from time library to save time\n",
    "of evaluation for later to compare with limited dictionary."
   ],
   "metadata": {
    "collapsed": false
   }
  },
  {
   "cell_type": "code",
   "execution_count": 10,
   "outputs": [
    {
     "name": "stdout",
     "output_type": "stream",
     "text": [
      "[[0.0398737  0.9601263 ]\n",
      " [0.75306325 0.24693675]\n",
      " [0.2510072  0.7489928 ]\n",
      " ...\n",
      " [0.34682315 0.65317685]\n",
      " [0.99032622 0.00967378]\n",
      " [0.89091215 0.10908785]]\n"
     ]
    }
   ],
   "source": [
    "probability_predictions = model.predict_proba(vector_review_test)\n",
    "print(probability_predictions)"
   ],
   "metadata": {
    "collapsed": false,
    "pycharm": {
     "name": "#%%\n"
    }
   }
  },
  {
   "cell_type": "markdown",
   "source": [
    "By using model.predict_proba() function we are getting in return array which\n",
    "contains lists with class probabilities for the given data."
   ],
   "metadata": {
    "collapsed": false
   }
  },
  {
   "cell_type": "code",
   "execution_count": 11,
   "outputs": [
    {
     "name": "stdout",
     "output_type": "stream",
     "text": [
      "The most positive reviews:\n",
      "1. Ive been a premium subscriber since around April 2019 and have been very happy with the app Ive found spotify to be an excellent experience across all my devices My only reason to give them 4 stars and not 5 comes down solely to the fact that I dont yet have lyrics available on my phone but Ill certainly change it to a 5 once thats cleared up one day Thank you for the excellent experience so far Spotify Some lyrics would be nice though😉\n",
      "2. Theres such variety and available music that you can enjoy tremendous amounts of diversity I love that Old and new artists its wonderful Music to relax music to work out with music to inspire music to motivate Spotify is fantastic I like that I can share with my Husband too I also like that wherever I utilize Spotify my playlists remain as I make them coolreally happy with Spotify\n",
      "3. I love Spotify and I love how open Joe Rogan is As a Black man just a man btw I find him and his many guests to be delightful There are guests Im not inclined to listen to on his show but listening to differing opinions in my life has helped me along the greatly Wherever Joe puts up content like his podcast Ill definitely be there too Also thank you personally Spotify for all the wonderful work you do as well I often find the recommendations are awesome Cory Berisko\n",
      "4. I love this app its very easy to use and the great thing I like about it is I can make my own Playlist and access it at anytime its great this app is a keeper and I would highly recommend it to anyone who wants to find a good app to play music listen to podcasts and even church services are a whole lot more love love love it thank you\n",
      "5. I love Spotify I use it all the time I dont get the Premium because I dont ACTUALLY need it It is a GREAT music app I can link it up to other accounts and I can use It while using other accounts Spotify is just all around simply amazing Its my favorite just music app Other than Spotify I use YouTube Both are Superb and Excellent sources of music Top Notch Top Dollar Number One Im glad I had the opportunity to write this great review Have an amazing day and Take Care\n",
      "\n",
      "The most negative reviews:\n",
      "1. Garbage just straight trashcan dl it for Rogan and the majority of the time it doesnt load the podcast at all then when it does itll play whatever episode it wants 🤮 it happens on both my phones z fold 2 and s20 both 5g sooo annoying update still sucks 1272021 52621 still garbage 102721 still trash 11121 went to commercial 3 times in 10 min and started the episode from the start after every time Update 11022 still trash it wont load the right episode Fold 3\n",
      "2. Mobile spotify is dogwater I dont need to say why you know why and you think purposely making it bad will entice people to get premium It enticed me to uninstall and just use youtube and every other better music app and site Desktop spotify has become garbage too but bearable garbage Not this This isnt bearable I dont put my money into garbage let alone hot garbage thats on fire If you make it this bad for adusers then how much better is it for premium users Its not\n",
      "3. This updated yesterday and Ive had the worst experience ever It wont let me see whats currently playing skip or control it in any way even though I pay for premium It does not show up on my phone that anything is playing and I have to actively be on my phone for audio to play As soon my phone turns off it cuts out Horrible experience If this is not rectified I am cancelling subscription and moving to another platform Horrible update\n",
      "4. This is the worst app for podcasting awful at downloading awful at offline listening Awful for podcasts Always sucks at downloading never stays where I left off The offline mode sucks Skipping through ads starts the episode back over Wish Rogan never made a deal with you guys Never have an issue with Google podcasts Update 2022 still the worst podcast app I have to use Wouldnt use it if it wasnt for Rogan\n",
      "5. Trash absolute trash Deletes all Downloads very slow to load Burned 13Gigs of my 15gig available data even when i set the downloads to wifi onlylogs me out of the app randomly and cant get back in despite renewing passwordsi want my money back Apr162022 App keeps logging out malfunctioning deleting songs downloaded or moves them from SD card to internal memory Ive tried uninstalling and reinstalling restarting my phone etc and it constantly does the same thing This app sucks\n"
     ]
    }
   ],
   "source": [
    "reviews = list(zip(probability_predictions, review_test))\n",
    "sorted_reviews = sorted(reviews, key=lambda x: x[0][1])\n",
    "\n",
    "most_positive_reviews = [review[1] for review in sorted_reviews[-5:]]\n",
    "most_negative_reviews = [review[1] for review in sorted_reviews[:5]]\n",
    "\n",
    "print('The most positive reviews:')\n",
    "for x, review in enumerate(most_positive_reviews):\n",
    "    print(f'{x+1}. {review}')\n",
    "\n",
    "print('\\nThe most negative reviews:')\n",
    "for x, review in enumerate(most_negative_reviews):\n",
    "    print(f'{x+1}. {review}')"
   ],
   "metadata": {
    "collapsed": false,
    "pycharm": {
     "name": "#%%\n"
    }
   }
  },
  {
   "cell_type": "markdown",
   "source": [
    "Here we created list of 5 most positive and negative reviews."
   ],
   "metadata": {
    "collapsed": false
   }
  },
  {
   "cell_type": "code",
   "execution_count": 12,
   "outputs": [
    {
     "name": "stdout",
     "output_type": "stream",
     "text": [
      "Accuracy of predictions equals: 0.8850625137091468\n"
     ]
    }
   ],
   "source": [
    "predictions_accuracy_score = accuracy_score(rating_test, predictions)\n",
    "print('Accuracy of predictions equals:', predictions_accuracy_score)"
   ],
   "metadata": {
    "collapsed": false,
    "pycharm": {
     "name": "#%%\n"
    }
   }
  },
  {
   "cell_type": "markdown",
   "source": [
    "Accuracy_score function returns value of our prediction accuracy, which is\n",
    "about 88.7% which for this data is pretty good result."
   ],
   "metadata": {
    "collapsed": false
   }
  },
  {
   "cell_type": "code",
   "execution_count": 13,
   "outputs": [
    {
     "name": "stdout",
     "output_type": "stream",
     "text": [
      "Most positive words: ['waste', 'broke', 'even', 'disappointed', 'money', 'car', 'work', 'product', 'return', 'able']\n",
      "Most negative words: ['would', 'less', 'old', 'well', 'little', 'loves', 'great', 'perfect', 'love', 'easy']\n",
      "The most positive reviews:\n",
      "1. I very rarely leave reviews and if I do theyre almost never negative but I feel compelled in this instance as the Spotify app has got to be the worst app I have ever used Im on pay as you go with no Internet access unless Im on WiFi and all I use this app for is to listen to podcasts which I download in full before my work commute Its obvious it simply has not been designed with any consideration for a user like myself I would go as far as to state that its terrible for podcasts in general regardless of how you use your phone To give you some examples 1 When Im at work my phone will connect to the work WiFi Theres an internal authorisation process to let devices use Internet when on the company network What happens is that I cant play any podcasts if my phones WiFi is on  I press the play button but nothing happens I have two phones one authorised to use the network and one not and this happens on both of them I think what is taking place in the first instance is that our heavily filtered network will not let Spotify download ads and it completely throws it out of the loop In the second instance I think even though my phone is well aware it has no Internet access despite being connected to WiFi Spotify ignores this fact and still tries to download ads before playing my podcasts So every time Im still within the huge range of my companys WiFi I need to disable my phones WiFi before I can play my podcasts for the commute home After they start playing Im free to switch the WiFi back on But this isnt even the worst that this app does 2 Quite frequently right when I leave my companys WiFi range it always happens at almost the exact spot down to a few meters the podcast that is being currently played will stop losing its progress and the next one on the list will start playing This is especially aggravating when Im in the car and switching back to the podcast I was listening to and then finding the exact spot where I finished is impossible to do safely without stopping somewhere But this still isnt the worst of it 3 Recently the app started to randomly show all of my podcasts as not downloaded or actually deleting them Im still not sure what exactly happens as this only occurred 3 times so far but all instances within the last month The first time it happened Ive noticed as I walked out the door for work that my podcasts were gone I had to redownload them all before leaving  Im fortunate enough to be in a position where my bosses dont care what time I clock in but otherwise Id probably by quite irritated The next couple times it happened as I was trying to play my podcasts on my way home from work  but in those cases when I got home they annoyingly again started showing as downloaded and I could play them with no problems Mind you I have 40GB of free storage on my phone And then theres the absolutely shockingly unusable and ugly interface but I suppose it does fit the terrible Spotify logo Manually removing a downloaded podcast from my playlist and downloads is an unintuitive multistep process I cant even change the order my podcasts will play in once theyre on my playlist I couldnt find a way to loop the playlist either so if the last episode on your playlist is the first one youll want to play then youll have to manually start the list from the top once it finishes It can be supper annoying if this happens when youre on a motorway Its like whoever created this app hasnt actually used it It just blows my mind that a company as big as Spotify cant make an app that works is usable and doesnt look like it was designed in Excel actually you can do much prettier things in Excel than that\n",
      "2. Buggy too many adds the music wont even play properly It keeps stopping randomly Cant listen to a preview of a song anymore to make sure its the right one Its not even Shuffled it plays songs in the same order for every playlist It wont even play the whole of your playlist youd only get to listen to half of it because itll stop suddenly or start playing music that isnt even in it Cant even log in using password even after changing it I want to switch apps\n",
      "3. This app its very bad all the app need money you cant select the song you like to hear and only 6 times you can go to the next sound That is not fair you only want money money and money the ads are long for money this app is like pay to win but different YouTube music or YouTube is 10 times better than this app if you want money dont put it free in the PlayStore it doesnt have Sense\n",
      "4. This is just a waste of a good app yet again to make money the app is so bad after your trial is over that you will just have no choice to delete it because you cant listen to the music that you want to listen toand you cant even skip its just a waste Im sorry but Spotify is just for people with money guys not people who want to listen to music\n",
      "5. I honestly hate the fact that the car play feature is retired for some device that I need to buy car thing which is not even available in my country Its like you assume that users are supposed to use Google assistant which doesnt work 90 of the time or you expect us to have a car with android auto on my car which I dont Honestly your devs are a bit presumptuous about what people have to use this app in the car or do they just expect me to use my phone while driving to change songs\n",
      "\n",
      "The most negative reviews:\n",
      "1. Go to app for music Easy to find new music easy to find music you love easy to make play lists I do wish they would bring back the cadence running feature though That was pretty cool\n",
      "2. Love it Love it Love it i love Spotify I can listen to it and turn the screen off play a game or do something online and it continues to play without stopping pausing or shutting off I love it it is definitely a must have music app Thumbs up \n",
      "3. I love Spotify because of its simplicity Very easy to use and finding a song is very easy The quality of each song is super There is no useless features like Facebook The great thing is that there is no ads in spotify I highly recommend this app Love Spotify\n",
      "4. I love Spotify and I love the music all kind of music because I love the song called cut it just is very cool and I love the music you have a whole bunch of music and Spotify and Spotify should be sponsored me about 25 should be special to me so I love Spotify and Im 10 years old and I love listening to music and and I want to be when I grow up I want to be a rapper and then I dont want to be on Spotify and I hope you are see this message so by not see yall next time\n",
      "5. I love this app its very easy to use and the great thing I like about it is I can make my own Playlist and access it at anytime its great this app is a keeper and I would highly recommend it to anyone who wants to find a good app to play music listen to podcasts and even church services are a whole lot more love love love it thank you\n",
      "\n",
      "Accuracy of predictions equals: 0.6459749945163413\n",
      "+--------------------+---------------------------+-------------------------------+-------------------------------------------------+\n",
      "|                    | Dictionary with all words | Dictionary with limited words | All words difference with limited dictionary by |\n",
      "+--------------------+---------------------------+-------------------------------+-------------------------------------------------+\n",
      "|      Accuracy      |           88.51%          |             64.60%            |                  23.91% / 1.37x                 |\n",
      "| Time of evaluation |           1.60ms          |             0.93ms            |                  0.67ms / 1.72x                 |\n",
      "+--------------------+---------------------------+-------------------------------+-------------------------------------------------+\n"
     ]
    }
   ],
   "source": [
    "significant_words = ['love','great','easy','old','little','perfect','loves','well','able','car','broke','less','even','waste','disappointed','work','product','money','would','return']\n",
    "\n",
    "ratings_train, ratings_test, reviews_train, reviews_test = train_test_split(to_limited_df.Rating, to_limited_df.Review)\n",
    "\n",
    "vectorizer = CountVectorizer(vocabulary=significant_words)\n",
    "vector_train_rev = vectorizer.fit_transform(list(reviews_train))\n",
    "vector_test_rev = vectorizer.transform(list(reviews_test))\n",
    "\n",
    "model = LogisticRegression()\n",
    "model.fit(vector_train_rev, ratings_train)\n",
    "\n",
    "words = list(zip(model.coef_[0], vectorizer.get_feature_names()))\n",
    "sorted_words = sorted(words, key=lambda x: x[0])\n",
    "\n",
    "most_positive_words = [word[1] for word in sorted_words[:10]]\n",
    "most_negative_words = [word[1] for word in sorted_words[-10:]]\n",
    "\n",
    "print('Most positive words:', most_positive_words)\n",
    "print('Most negative words:', most_negative_words)\n",
    "\n",
    "begin = time.time()\n",
    "predictions_small = model.predict(vector_test_rev)\n",
    "predictions_small_time_to_do = time.time() - begin\n",
    "\n",
    "probability_predictions = model.predict_proba(vector_test_rev)\n",
    "\n",
    "reviews = list(zip(probability_predictions, reviews_test))\n",
    "sorted_reviews = sorted(reviews, key=lambda x: x[0][1])\n",
    "\n",
    "most_positive_reviews = [review[1] for review in sorted_reviews[:5]]\n",
    "most_negative_reviews = [review[1] for review in sorted_reviews[-5:]]\n",
    "\n",
    "print('The most positive reviews:')\n",
    "for x, review in enumerate(most_positive_reviews):\n",
    "    print(f'{x+1}. {review}')\n",
    "\n",
    "print('\\nThe most negative reviews:')\n",
    "for x, review in enumerate(most_negative_reviews):\n",
    "    print(f'{x+1}. {review}')\n",
    "\n",
    "predictions_small_accuracy_score = accuracy_score(ratings_test, predictions_small)\n",
    "print('\\nAccuracy of predictions equals:', predictions_small_accuracy_score)\n",
    "\n",
    "\n",
    "accuracy_all = predictions_accuracy_score * 100\n",
    "accuracy_limited = predictions_small_accuracy_score * 100\n",
    "accuracy_diff = accuracy_all - accuracy_limited\n",
    "accuracy_diff_x = accuracy_all / accuracy_limited\n",
    "time_all = predictions_time_to_do * 1000\n",
    "time_limited = predictions_small_time_to_do * 1000\n",
    "time_diff = (time_all - time_limited)\n",
    "time_diff_x = time_all / time_limited\n",
    "\n",
    "t = PrettyTable(['', 'Dictionary with all words', 'Dictionary with limited words', 'All words difference with limited dictionary by'])\n",
    "t.add_row(['Accuracy', f'{accuracy_all:.2f}%', f'{accuracy_limited:.2f}%', f'{accuracy_diff:.2f}% / {accuracy_diff_x:.2f}x'])\n",
    "t.add_row(['Time of evaluation', f'{time_all:.2f}ms', f'{time_limited:.2f}ms', f'{time_diff:.2f}ms / {time_diff_x:.2f}x'])\n",
    "print(t)"
   ],
   "metadata": {
    "collapsed": false,
    "pycharm": {
     "name": "#%%\n"
    }
   }
  },
  {
   "cell_type": "markdown",
   "source": [
    "Here we are doing the same things as we made in previous cells but just\n",
    "changing some things to make it all suitable for smaller dictionary. As we can\n",
    "see we are getting much worse accuracy of predictions than we got\n",
    "previously for bigger dictionary. The time of evaluation was only slightly\n",
    "different but accuracy dropped nearly 25%. In limited dictionary some 'positive'\n",
    "reviews in fact.\n",
    "\n",
    "Maybe our vocabulary was bad and that is cause of bad results."
   ],
   "metadata": {
    "collapsed": false
   }
  },
  {
   "cell_type": "markdown",
   "source": [
    "# Now lets jump to other types of classifiers and try them."
   ],
   "metadata": {
    "collapsed": false
   }
  },
  {
   "cell_type": "markdown",
   "source": [
    "## DecisionTreeClassifier\n",
    "\n",
    "The decision tree algorithm creates a node for every attribute in a dataset,\n",
    "with the most crucial attribute being placed at the top node. To evaluate, we\n",
    "begin at the top node and navigate through the tree by selecting the\n",
    "appropriate node that satisfies our condition. This continues until we reach a\n",
    "final node, known as a leaf node, which holds the prediction or result of the\n",
    "decision tree."
   ],
   "metadata": {
    "collapsed": false
   }
  },
  {
   "cell_type": "code",
   "execution_count": 14,
   "outputs": [
    {
     "name": "stdout",
     "output_type": "stream",
     "text": [
      "4.776954650878906 s\n",
      "Accuracy of predictions equals: 0.7947649338305184\n"
     ]
    }
   ],
   "source": [
    "tree_model = DecisionTreeClassifier()\n",
    "\n",
    "tree_model.fit(vector_review_train, rating_train)\n",
    "\n",
    "begin = time.time()\n",
    "tree_predictions = tree_model.predict(vector_review_test)\n",
    "tree_predictions_time_to_do = time.time() - begin\n",
    "print(tree_predictions_time_to_do * 1000, 's')\n",
    "\n",
    "tree_predictions_accuracy_score = accuracy_score(tree_predictions, rating_test)\n",
    "print('Accuracy of predictions equals:', tree_predictions_accuracy_score)"
   ],
   "metadata": {
    "collapsed": false,
    "pycharm": {
     "name": "#%%\n"
    }
   }
  },
  {
   "cell_type": "markdown",
   "source": [
    "## SupportVectorClassifier\n",
    "\n",
    "Algorithm creates a boundary or a hyperplane between different classes in the\n",
    "dataset, with the goal of maximizing the margin between the classes. This\n",
    "boundary is chosen in such a way that it maximally separates the different\n",
    "classes while also minimizing the misclassification errors. The training data\n",
    "points that are closest to the boundary are known as support vectors, and the\n",
    "algorithm uses these points to form the decision boundary."
   ],
   "metadata": {
    "collapsed": false
   }
  },
  {
   "cell_type": "code",
   "execution_count": 15,
   "outputs": [
    {
     "name": "stdout",
     "output_type": "stream",
     "text": [
      "36669.88492012024 s\n",
      "Accuracy of predictions equals: 0.8861592454485633\n"
     ]
    }
   ],
   "source": [
    "svc_model = svm.SVC()\n",
    "\n",
    "svc_model.fit(vector_review_train, rating_train)\n",
    "\n",
    "begin = time.time()\n",
    "svc_predictions = svc_model.predict(vector_review_test)\n",
    "svc_predictions_time_to_do = time.time() - begin\n",
    "print(svc_predictions_time_to_do * 1000, 's')\n",
    "\n",
    "svc_predictions_accuracy_score = accuracy_score(svc_predictions, rating_test)\n",
    "print('Accuracy of predictions equals:', svc_predictions_accuracy_score)"
   ],
   "metadata": {
    "collapsed": false,
    "pycharm": {
     "name": "#%%\n"
    }
   }
  },
  {
   "cell_type": "markdown",
   "source": [
    "## KNNClassifier\n",
    "\n",
    "The K-nearest Neighbors algorithm is a supervised learning method that can be\n",
    "used for classification, regression, and identifying outliers. It is a simple\n",
    "algorithm to implement, yet can accomplish advanced tasks. Additionally, it is\n",
    "known as a \"lazy\" algorithm since it does not require a separate training\n",
    "phase."
   ],
   "metadata": {
    "collapsed": false
   }
  },
  {
   "cell_type": "code",
   "execution_count": 16,
   "outputs": [
    {
     "name": "stdout",
     "output_type": "stream",
     "text": [
      "20544.881105422974 s\n",
      "Accuracy of predictions equals: 0.7100241280982672\n"
     ]
    }
   ],
   "source": [
    "knn_model = KNeighborsClassifier(n_neighbors=5)\n",
    "\n",
    "knn_model.fit(vector_review_train, rating_train)\n",
    "\n",
    "begin = time.time()\n",
    "knn_predictions = knn_model.predict(vector_review_test)\n",
    "knn_predictions_time_to_do = time.time() - begin\n",
    "print(knn_predictions_time_to_do * 1000, 's')\n",
    "\n",
    "knn_predictions_accuracy_score = accuracy_score(knn_predictions, rating_test)\n",
    "print('Accuracy of predictions equals:', knn_predictions_accuracy_score)"
   ],
   "metadata": {
    "collapsed": false,
    "pycharm": {
     "name": "#%%\n"
    }
   }
  },
  {
   "cell_type": "markdown",
   "source": [
    "Now lets compare these classifiers used with CountVectorizer()"
   ],
   "metadata": {
    "collapsed": false
   }
  },
  {
   "cell_type": "code",
   "execution_count": 17,
   "outputs": [
    {
     "name": "stdout",
     "output_type": "stream",
     "text": [
      "+-------------------------+----------+--------------------+\n",
      "|                         | Accuracy | Time of evaulation |\n",
      "+-------------------------+----------+--------------------+\n",
      "|    LogisticRegression   |  88.51%  |      0.00160s      |\n",
      "|  DecisionTreeClassifier |  79.48%  |      0.00478s      |\n",
      "| SupportVectorClassifier |  88.62%  |     36.66988s      |\n",
      "|      KNNClassifier      |  71.00%  |     20.54488s      |\n",
      "+-------------------------+----------+--------------------+\n"
     ]
    }
   ],
   "source": [
    "t = PrettyTable(['', 'Accuracy', 'Time of evaulation'])\n",
    "t.add_row(['LogisticRegression', f'{predictions_accuracy_score * 100:.2f}%', f'{predictions_time_to_do:.5f}s'])\n",
    "t.add_row(['DecisionTreeClassifier', f'{tree_predictions_accuracy_score * 100:.2f}%', f'{tree_predictions_time_to_do:.5f}s'])\n",
    "t.add_row(['SupportVectorClassifier', f'{svc_predictions_accuracy_score * 100:.2f}%', f'{svc_predictions_time_to_do:.5f}s'])\n",
    "t.add_row(['KNNClassifier', f'{knn_predictions_accuracy_score * 100:.2f}%', f'{knn_predictions_time_to_do:.5f}s'])\n",
    "print(t)"
   ],
   "metadata": {
    "collapsed": false,
    "pycharm": {
     "name": "#%%\n"
    }
   }
  },
  {
   "cell_type": "markdown",
   "source": [
    "As we can see the best result we got with LogisticRegression and SupportVectorClassifier,\n",
    "these two were pretty close to each other"
   ],
   "metadata": {
    "collapsed": false
   }
  },
  {
   "cell_type": "markdown",
   "source": [
    "Lets use TF-IDF Vectorizer instead of CountVectorizer and compare\n",
    "LogisticRegression and DecisionTreeClassifier results with this vectorizer and\n",
    "with CountVectorizer"
   ],
   "metadata": {
    "collapsed": false
   }
  },
  {
   "cell_type": "code",
   "execution_count": 18,
   "outputs": [],
   "source": [
    "vectorizer = TfidfVectorizer()\n",
    "\n",
    "vector_review_train = vectorizer.fit_transform(review_train)\n",
    "vector_review_test = vectorizer.transform(review_test)"
   ],
   "metadata": {
    "collapsed": false,
    "pycharm": {
     "name": "#%%\n"
    }
   }
  },
  {
   "cell_type": "code",
   "execution_count": 19,
   "outputs": [
    {
     "name": "stdout",
     "output_type": "stream",
     "text": [
      "1.0461807250976562 s\n",
      "Accuracy of predictions equals: 0.8903999415076406\n"
     ]
    }
   ],
   "source": [
    "model2 = LogisticRegression(solver='lbfgs', max_iter=1500)\n",
    "model2.fit(vector_review_train, rating_train)\n",
    "\n",
    "begin = time.time()\n",
    "tf_predictions = model2.predict(vector_review_test)\n",
    "tf_predictions_time_to_do = time.time() - begin\n",
    "print(tf_predictions_time_to_do * 1000, 's')\n",
    "\n",
    "tf_predictions_accuracy_score = accuracy_score(tf_predictions, rating_test)\n",
    "print('Accuracy of predictions equals:', tf_predictions_accuracy_score)"
   ],
   "metadata": {
    "collapsed": false,
    "pycharm": {
     "name": "#%%\n"
    }
   }
  },
  {
   "cell_type": "code",
   "execution_count": 20,
   "outputs": [
    {
     "name": "stdout",
     "output_type": "stream",
     "text": [
      "4.776954650878906 s\n",
      "Accuracy of predictions equals: 0.7947649338305184\n",
      "+-----------------------------------------------+----------+--------------------+\n",
      "|                                               | Accuracy | Time of evaulation |\n",
      "+-----------------------------------------------+----------+--------------------+\n",
      "|   LogisticRegression with CountVectorizer()   |  88.51%  |      0.00160s      |\n",
      "|   LogisticRegression with TfidfVectorizer()   |  89.04%  |      0.00105s      |\n",
      "| DecisionTreeClassifier with CountVectorizer() |  79.48%  |      0.00478s      |\n",
      "| DecisionTreeClassifier with TfidfVectorizer() |  79.48%  |      0.00847s      |\n",
      "+-----------------------------------------------+----------+--------------------+\n"
     ]
    }
   ],
   "source": [
    "tf_tree_model = DecisionTreeClassifier()\n",
    "\n",
    "tf_tree_model.fit(vector_review_train, rating_train)\n",
    "\n",
    "begin = time.time()\n",
    "tf_tree_predictions = tf_tree_model.predict(vector_review_test)\n",
    "tf_tree_predictions_time_to_do = time.time() - begin\n",
    "print(tree_predictions_time_to_do * 1000, 's')\n",
    "\n",
    "tf_tree_predictions_accuracy_score = accuracy_score(tree_predictions, rating_test)\n",
    "print('Accuracy of predictions equals:', tf_tree_predictions_accuracy_score)\n",
    "\n",
    "t = PrettyTable(['', 'Accuracy', 'Time of evaulation'])\n",
    "t.add_row(['LogisticRegression with CountVectorizer()', f'{predictions_accuracy_score * 100:.2f}%', f'{predictions_time_to_do:.5f}s'])\n",
    "t.add_row(['LogisticRegression with TfidfVectorizer()', f'{tf_predictions_accuracy_score * 100:.2f}%', f'{tf_predictions_time_to_do:.5f}s'])\n",
    "t.add_row(['DecisionTreeClassifier with CountVectorizer()', f'{tree_predictions_accuracy_score * 100:.2f}%', f'{tree_predictions_time_to_do:.5f}s'])\n",
    "t.add_row(['DecisionTreeClassifier with TfidfVectorizer()', f'{tf_tree_predictions_accuracy_score * 100:.2f}%', f'{tf_tree_predictions_time_to_do:.5f}s'])\n",
    "\n",
    "print(t)"
   ],
   "metadata": {
    "collapsed": false,
    "pycharm": {
     "name": "#%%\n"
    }
   }
  },
  {
   "cell_type": "markdown",
   "source": [
    "As we can see in table shown above in both cases accuracy is similar (in\n",
    "DecisionTreeClassifier even the same) but slightly better with TfidfVectorizer()."
   ],
   "metadata": {
    "collapsed": false
   }
  }
 ],
 "metadata": {
  "anaconda-cloud": {},
  "kernelspec": {
   "display_name": "PyCharm (Analityka)",
   "language": "python",
   "name": "pycharm-ce64a35d"
  },
  "language_info": {
   "codemirror_mode": {
    "name": "ipython",
    "version": 3
   },
   "file_extension": ".py",
   "mimetype": "text/x-python",
   "name": "python",
   "nbconvert_exporter": "python",
   "pygments_lexer": "ipython3",
   "version": "3.9.6"
  }
 },
 "nbformat": 4,
 "nbformat_minor": 4
}