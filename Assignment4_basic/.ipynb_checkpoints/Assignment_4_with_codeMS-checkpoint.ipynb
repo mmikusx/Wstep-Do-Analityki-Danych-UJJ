{
 "cells": [
  {
   "cell_type": "markdown",
   "metadata": {},
   "source": [
    "### Today we are going to perform the simple classification of the amazon reviews' sentiment.\n",
    "\n",
    "### Please, download the dataset amazon_baby.csv."
   ]
  },
  {
   "cell_type": "code",
   "execution_count": 1,
   "metadata": {},
   "outputs": [
    {
     "data": {
      "text/html": [
       "<div>\n",
       "<style scoped>\n",
       "    .dataframe tbody tr th:only-of-type {\n",
       "        vertical-align: middle;\n",
       "    }\n",
       "\n",
       "    .dataframe tbody tr th {\n",
       "        vertical-align: top;\n",
       "    }\n",
       "\n",
       "    .dataframe thead th {\n",
       "        text-align: right;\n",
       "    }\n",
       "</style>\n",
       "<table border=\"1\" class=\"dataframe\">\n",
       "  <thead>\n",
       "    <tr style=\"text-align: right;\">\n",
       "      <th></th>\n",
       "      <th>name</th>\n",
       "      <th>review</th>\n",
       "      <th>rating</th>\n",
       "    </tr>\n",
       "  </thead>\n",
       "  <tbody>\n",
       "    <tr>\n",
       "      <th>0</th>\n",
       "      <td>Planetwise Flannel Wipes</td>\n",
       "      <td>These flannel wipes are OK, but in my opinion ...</td>\n",
       "      <td>3</td>\n",
       "    </tr>\n",
       "    <tr>\n",
       "      <th>1</th>\n",
       "      <td>Planetwise Wipe Pouch</td>\n",
       "      <td>it came early and was not disappointed. i love...</td>\n",
       "      <td>5</td>\n",
       "    </tr>\n",
       "    <tr>\n",
       "      <th>2</th>\n",
       "      <td>Annas Dream Full Quilt with 2 Shams</td>\n",
       "      <td>Very soft and comfortable and warmer than it l...</td>\n",
       "      <td>5</td>\n",
       "    </tr>\n",
       "    <tr>\n",
       "      <th>3</th>\n",
       "      <td>Stop Pacifier Sucking without tears with Thumb...</td>\n",
       "      <td>This is a product well worth the purchase.  I ...</td>\n",
       "      <td>5</td>\n",
       "    </tr>\n",
       "    <tr>\n",
       "      <th>4</th>\n",
       "      <td>Stop Pacifier Sucking without tears with Thumb...</td>\n",
       "      <td>All of my kids have cried non-stop when I trie...</td>\n",
       "      <td>5</td>\n",
       "    </tr>\n",
       "  </tbody>\n",
       "</table>\n",
       "</div>"
      ],
      "text/plain": [
       "                                                name  \\\n",
       "0                           Planetwise Flannel Wipes   \n",
       "1                              Planetwise Wipe Pouch   \n",
       "2                Annas Dream Full Quilt with 2 Shams   \n",
       "3  Stop Pacifier Sucking without tears with Thumb...   \n",
       "4  Stop Pacifier Sucking without tears with Thumb...   \n",
       "\n",
       "                                              review  rating  \n",
       "0  These flannel wipes are OK, but in my opinion ...       3  \n",
       "1  it came early and was not disappointed. i love...       5  \n",
       "2  Very soft and comfortable and warmer than it l...       5  \n",
       "3  This is a product well worth the purchase.  I ...       5  \n",
       "4  All of my kids have cried non-stop when I trie...       5  "
      ]
     },
     "execution_count": 1,
     "metadata": {},
     "output_type": "execute_result"
    }
   ],
   "source": [
    "import pandas as pd\n",
    "import time\n",
    "from sklearn.linear_model import LogisticRegression\n",
    "from warnings import simplefilter\n",
    "simplefilter(action='ignore', category=FutureWarning)\n",
    "\n",
    "def remove_punctuation(text):\n",
    "    import string\n",
    "    translator = str.maketrans('', '', string.punctuation)\n",
    "    return text.translate(translator)\n",
    "\n",
    "baby_df = pd.read_csv('amazon_baby.csv')\n",
    "baby_df.head()"
   ]
  },
  {
   "cell_type": "markdown",
   "metadata": {},
   "source": [
    "## Exercise 1 (data preparation)\n",
    "a) Remove punctuation from reviews using the given function.   \n",
    "b) Replace all missing (nan) revies with empty \"\" string.  \n",
    "c) Drop all the entries with rating = 3, as they have neutral sentiment.   \n",
    "d) Set all positive ($\\geq$4) ratings to 1 and negative($\\leq$2) to -1."
   ]
  },
  {
   "cell_type": "code",
   "execution_count": 2,
   "metadata": {},
   "outputs": [
    {
     "data": {
      "text/plain": [
       "True"
      ]
     },
     "execution_count": 2,
     "metadata": {},
     "output_type": "execute_result"
    }
   ],
   "source": [
    "#a)\n",
    "baby_df.review = remove_punctuation(baby_df.review.str)\n",
    "\n",
    "#short test: \n",
    "baby_df[\"review\"][4] == 'All of my kids have cried nonstop when I tried to ween them off their pacifier until I found Thumbuddy To Loves Binky Fairy Puppet  It is an easy way to work with your kids to allow them to understand where their pacifier is going and help them part from itThis is a must buy book and a great gift for expecting parents  You will save them soo many headachesThanks for this book  You all rock'\n",
    "remove_punctuation(baby_df[\"review\"][4]) == 'All of my kids have cried nonstop when I tried to ween them off their pacifier until I found Thumbuddy To Loves Binky Fairy Puppet  It is an easy way to work with your kids to allow them to understand where their pacifier is going and help them part from itThis is a must buy book and a great gift for expecting parents  You will save them soo many headachesThanks for this book  You all rock'\n",
    "\n",
    "# We are using function given above to remove punctuation from reviews."
   ]
  },
  {
   "cell_type": "code",
   "execution_count": 3,
   "metadata": {},
   "outputs": [
    {
     "data": {
      "text/plain": [
       "True"
      ]
     },
     "execution_count": 3,
     "metadata": {},
     "output_type": "execute_result"
    }
   ],
   "source": [
    "#b)\n",
    "baby_df.review = baby_df.review.fillna('')\n",
    "\n",
    "#short test:\n",
    "baby_df[\"review\"][38] == baby_df[\"review\"][38]\n",
    "\n",
    "# By using function .fillna('') we are replacing nan values with empty string ''."
   ]
  },
  {
   "cell_type": "code",
   "execution_count": 4,
   "metadata": {},
   "outputs": [
    {
     "data": {
      "text/plain": [
       "0"
      ]
     },
     "execution_count": 4,
     "metadata": {},
     "output_type": "execute_result"
    }
   ],
   "source": [
    "#c)\n",
    "baby_df = baby_df.drop(baby_df[baby_df.rating == 3].index)\n",
    "baby_df.head()\n",
    "\n",
    "#short test:\n",
    "sum(baby_df[\"rating\"] == 3)\n",
    "\n",
    "# Using function .drop() we are droping all entries with rating value = 3 because they have neutral sentiment"
   ]
  },
  {
   "cell_type": "code",
   "execution_count": 5,
   "metadata": {},
   "outputs": [
    {
     "data": {
      "text/plain": [
       "0"
      ]
     },
     "execution_count": 5,
     "metadata": {},
     "output_type": "execute_result"
    }
   ],
   "source": [
    "#d)\n",
    "baby_df.loc[baby_df.rating <= 2, 'rating'] = 1\n",
    "baby_df.loc[baby_df.rating >= 4, 'rating'] = -1\n",
    "\n",
    "#short test:\n",
    "sum(baby_df[\"rating\"]**2 != 1)\n",
    "\n",
    "# We are setting positive ratings to 1 and negative to -1 by using function .loc"
   ]
  },
  {
   "cell_type": "markdown",
   "metadata": {},
   "source": [
    "## CountVectorizer\n",
    "In order to analyze strings, we need to assign them numerical values. We will use one of the simplest string representation, which transforms strings into the $n$ dimensional vectors. The number of dimensions will be the size of our dictionary, and then the values of the vector will represent the number of appereances of the given word in the sentence."
   ]
  },
  {
   "cell_type": "code",
   "execution_count": 6,
   "metadata": {},
   "outputs": [
    {
     "name": "stdout",
     "output_type": "stream",
     "text": [
      "['adore', 'and', 'apples', 'bananas', 'dislike', 'hate', 'like', 'oranges', 'they', 'we']\n",
      "[[0 0 1 0 0 0 1 0 0 1]\n",
      " [0 0 0 0 0 1 0 1 0 1]\n",
      " [1 0 0 1 0 0 0 0 0 0]\n",
      " [0 1 1 0 0 0 2 1 0 1]\n",
      " [0 0 0 1 1 0 0 0 1 0]]\n"
     ]
    }
   ],
   "source": [
    "from sklearn.feature_extraction.text import CountVectorizer\n",
    "\n",
    "vectorizer = CountVectorizer()\n",
    "reviews_train_example = [\"We like apples\",\n",
    "                   \"We hate oranges\",\n",
    "                   \"I adore bananas\",\n",
    "                   \"We like like apples and oranges\",\n",
    "                   \"They dislike bananas\"]\n",
    "\n",
    "X_train_example = vectorizer.fit_transform(reviews_train_example)\n",
    "\n",
    "print(vectorizer.get_feature_names())\n",
    "print(X_train_example.todense())\n",
    "\n"
   ]
  },
  {
   "cell_type": "code",
   "execution_count": 7,
   "metadata": {},
   "outputs": [
    {
     "name": "stdout",
     "output_type": "stream",
     "text": [
      "[[0 0 0 1 0 0 1 0 1 0]\n",
      " [0 1 1 1 0 1 0 1 0 1]\n",
      " [0 0 0 1 0 0 0 0 0 1]]\n"
     ]
    }
   ],
   "source": [
    "reviews_test_example = [\"They like bananas\",\n",
    "                   \"We hate oranges bananas and apples\",\n",
    "                   \"We love bananas\"] #New word!\n",
    "\n",
    "X_test_example = vectorizer.transform(reviews_test_example)\n",
    "\n",
    "print(X_test_example.todense())"
   ]
  },
  {
   "cell_type": "markdown",
   "metadata": {},
   "source": [
    "We should acknowledge few facts. Firstly, CountVectorizer does not take order into account. Secondly, it ignores one-letter words (this can be changed during initialization). Finally, for test values, CountVectorizer ignores words which are not in it's dictionary."
   ]
  },
  {
   "cell_type": "markdown",
   "metadata": {},
   "source": [
    "## Exercise 2 \n",
    "a) Split dataset into training and test sets.     \n",
    "b) Transform reviews into vectors using CountVectorizer. "
   ]
  },
  {
   "cell_type": "code",
   "execution_count": 8,
   "metadata": {
    "collapsed": true
   },
   "outputs": [],
   "source": [
    "#a)\n",
    "from sklearn.model_selection import train_test_split\n",
    "\n",
    "ratings_train, ratings_test, reviews_train, reviews_test = train_test_split(baby_df.rating, baby_df.review)\n",
    "\n",
    "# Here with help of train_test_split function we are splitting data into training and test sets"
   ]
  },
  {
   "cell_type": "code",
   "execution_count": 9,
   "metadata": {
    "pycharm": {
     "name": "#%%\n"
    }
   },
   "outputs": [],
   "source": [
    "#b)\n",
    "vectorizer = CountVectorizer()\n",
    "\n",
    "vector_train_rev = vectorizer.fit_transform(list(reviews_train))\n",
    "\n",
    "vector_test_rev = vectorizer.transform(list(reviews_test))\n",
    "\n",
    "# Next we use CountVectorizer() which is tool used to transform a given text into a vector of numbers. Transformation is based on\n",
    "# frequency of each word that figure in the text."
   ]
  },
  {
   "cell_type": "markdown",
   "metadata": {},
   "source": [
    "## Exercise 3 \n",
    "a) Train LogisticRegression model on training data (reviews processed with CountVectorizer, ratings as they were).   \n",
    "b) Print 10 most positive and 10 most negative words."
   ]
  },
  {
   "cell_type": "code",
   "execution_count": 10,
   "metadata": {},
   "outputs": [
    {
     "data": {
      "text/html": [
       "<style>#sk-container-id-1 {color: black;background-color: white;}#sk-container-id-1 pre{padding: 0;}#sk-container-id-1 div.sk-toggleable {background-color: white;}#sk-container-id-1 label.sk-toggleable__label {cursor: pointer;display: block;width: 100%;margin-bottom: 0;padding: 0.3em;box-sizing: border-box;text-align: center;}#sk-container-id-1 label.sk-toggleable__label-arrow:before {content: \"▸\";float: left;margin-right: 0.25em;color: #696969;}#sk-container-id-1 label.sk-toggleable__label-arrow:hover:before {color: black;}#sk-container-id-1 div.sk-estimator:hover label.sk-toggleable__label-arrow:before {color: black;}#sk-container-id-1 div.sk-toggleable__content {max-height: 0;max-width: 0;overflow: hidden;text-align: left;background-color: #f0f8ff;}#sk-container-id-1 div.sk-toggleable__content pre {margin: 0.2em;color: black;border-radius: 0.25em;background-color: #f0f8ff;}#sk-container-id-1 input.sk-toggleable__control:checked~div.sk-toggleable__content {max-height: 200px;max-width: 100%;overflow: auto;}#sk-container-id-1 input.sk-toggleable__control:checked~label.sk-toggleable__label-arrow:before {content: \"▾\";}#sk-container-id-1 div.sk-estimator input.sk-toggleable__control:checked~label.sk-toggleable__label {background-color: #d4ebff;}#sk-container-id-1 div.sk-label input.sk-toggleable__control:checked~label.sk-toggleable__label {background-color: #d4ebff;}#sk-container-id-1 input.sk-hidden--visually {border: 0;clip: rect(1px 1px 1px 1px);clip: rect(1px, 1px, 1px, 1px);height: 1px;margin: -1px;overflow: hidden;padding: 0;position: absolute;width: 1px;}#sk-container-id-1 div.sk-estimator {font-family: monospace;background-color: #f0f8ff;border: 1px dotted black;border-radius: 0.25em;box-sizing: border-box;margin-bottom: 0.5em;}#sk-container-id-1 div.sk-estimator:hover {background-color: #d4ebff;}#sk-container-id-1 div.sk-parallel-item::after {content: \"\";width: 100%;border-bottom: 1px solid gray;flex-grow: 1;}#sk-container-id-1 div.sk-label:hover label.sk-toggleable__label {background-color: #d4ebff;}#sk-container-id-1 div.sk-serial::before {content: \"\";position: absolute;border-left: 1px solid gray;box-sizing: border-box;top: 0;bottom: 0;left: 50%;z-index: 0;}#sk-container-id-1 div.sk-serial {display: flex;flex-direction: column;align-items: center;background-color: white;padding-right: 0.2em;padding-left: 0.2em;position: relative;}#sk-container-id-1 div.sk-item {position: relative;z-index: 1;}#sk-container-id-1 div.sk-parallel {display: flex;align-items: stretch;justify-content: center;background-color: white;position: relative;}#sk-container-id-1 div.sk-item::before, #sk-container-id-1 div.sk-parallel-item::before {content: \"\";position: absolute;border-left: 1px solid gray;box-sizing: border-box;top: 0;bottom: 0;left: 50%;z-index: -1;}#sk-container-id-1 div.sk-parallel-item {display: flex;flex-direction: column;z-index: 1;position: relative;background-color: white;}#sk-container-id-1 div.sk-parallel-item:first-child::after {align-self: flex-end;width: 50%;}#sk-container-id-1 div.sk-parallel-item:last-child::after {align-self: flex-start;width: 50%;}#sk-container-id-1 div.sk-parallel-item:only-child::after {width: 0;}#sk-container-id-1 div.sk-dashed-wrapped {border: 1px dashed gray;margin: 0 0.4em 0.5em 0.4em;box-sizing: border-box;padding-bottom: 0.4em;background-color: white;}#sk-container-id-1 div.sk-label label {font-family: monospace;font-weight: bold;display: inline-block;line-height: 1.2em;}#sk-container-id-1 div.sk-label-container {text-align: center;}#sk-container-id-1 div.sk-container {/* jupyter's `normalize.less` sets `[hidden] { display: none; }` but bootstrap.min.css set `[hidden] { display: none !important; }` so we also need the `!important` here to be able to override the default hidden behavior on the sphinx rendered scikit-learn.org. See: https://github.com/scikit-learn/scikit-learn/issues/21755 */display: inline-block !important;position: relative;}#sk-container-id-1 div.sk-text-repr-fallback {display: none;}</style><div id=\"sk-container-id-1\" class=\"sk-top-container\"><div class=\"sk-text-repr-fallback\"><pre>LogisticRegression(max_iter=1100)</pre><b>In a Jupyter environment, please rerun this cell to show the HTML representation or trust the notebook. <br />On GitHub, the HTML representation is unable to render, please try loading this page with nbviewer.org.</b></div><div class=\"sk-container\" hidden><div class=\"sk-item\"><div class=\"sk-estimator sk-toggleable\"><input class=\"sk-toggleable__control sk-hidden--visually\" id=\"sk-estimator-id-1\" type=\"checkbox\" checked><label for=\"sk-estimator-id-1\" class=\"sk-toggleable__label sk-toggleable__label-arrow\">LogisticRegression</label><div class=\"sk-toggleable__content\"><pre>LogisticRegression(max_iter=1100)</pre></div></div></div></div></div>"
      ],
      "text/plain": [
       "LogisticRegression(max_iter=1100)"
      ]
     },
     "execution_count": 10,
     "metadata": {},
     "output_type": "execute_result"
    }
   ],
   "source": [
    "#a)\n",
    "model = LogisticRegression(solver='lbfgs', max_iter=1100)\n",
    "model.fit(vector_train_rev, ratings_train)\n",
    "\n",
    "# We are creating model by using Logistic Regression which is used to predict the probability of a binary event figuring.\n",
    "# To avoid warnings (which are not meaningful, only makes output worse looking) I'm using solver and max_iter."
   ]
  },
  {
   "cell_type": "code",
   "execution_count": 11,
   "metadata": {},
   "outputs": [
    {
     "name": "stdout",
     "output_type": "stream",
     "text": [
      "Most positive words: ['ply', 'lifesaver', 'excellent', 'rich', 'wonderfully', 'skeptical', 'downside', 'pleased', 'vminnovations', 'amazing']\n",
      "Most negative words: ['useless', 'poor', 'unusable', 'worthless', 'falsely', 'disappointing', 'poorly', 'unacceptable', 'dissapointed', 'worst']\n"
     ]
    }
   ],
   "source": [
    "#b)\n",
    "words = list(zip(model.coef_[0], vectorizer.get_feature_names()))\n",
    "sorted_words = sorted(words, key=lambda x: x[0])\n",
    "\n",
    "most_positive_words = [word[1] for word in sorted_words[:10]]\n",
    "most_negative_words = [word[1] for word in sorted_words[-10:]]\n",
    "\n",
    "print('Most positive words:', most_positive_words)\n",
    "print('Most negative words:', most_negative_words)\n",
    "\n",
    "#hint: model.coef_, vectorizer.get_feature_names()\n",
    "\n",
    "# By using functions given in hint and few more we are creating list of 10 most positive and negative words."
   ]
  },
  {
   "cell_type": "markdown",
   "metadata": {},
   "source": [
    "## Exercise 4 \n",
    "a) Predict the sentiment of test data reviews.   \n",
    "b) Predict the sentiment of test data reviews in terms of probability.   \n",
    "c) Find five most positive and most negative reviews.   \n",
    "d) Calculate the accuracy of predictions."
   ]
  },
  {
   "cell_type": "code",
   "execution_count": 12,
   "metadata": {},
   "outputs": [
    {
     "name": "stdout",
     "output_type": "stream",
     "text": [
      "[ 1 -1 -1 ... -1  1 -1]\n"
     ]
    }
   ],
   "source": [
    "#a)\n",
    "begin = time.time()\n",
    "predictions = model.predict(vector_test_rev)\n",
    "predictions_time_to_do = time.time() - begin\n",
    "print(predictions)\n",
    "\n",
    "# We are using .predict() function to predict the labels of the data values based on our trained model. We also use function\n",
    "# time from time library to save time of evaluation for next exercise."
   ]
  },
  {
   "cell_type": "code",
   "execution_count": 13,
   "metadata": {},
   "outputs": [
    {
     "name": "stdout",
     "output_type": "stream",
     "text": [
      "[[3.36868778e-03 9.96631312e-01]\n",
      " [9.99026401e-01 9.73599198e-04]\n",
      " [9.99916360e-01 8.36399324e-05]\n",
      " ...\n",
      " [9.92946755e-01 7.05324493e-03]\n",
      " [4.40884771e-01 5.59115229e-01]\n",
      " [9.81438199e-01 1.85618014e-02]]\n"
     ]
    }
   ],
   "source": [
    "#b)\n",
    "probability_predictions = model.predict_proba(vector_test_rev)\n",
    "print(probability_predictions)\n",
    "\n",
    "#hint: model.predict_proba()\n",
    "\n",
    "# By using predict_proba() function we are getting in return array which contains lists with class probabilities for the\n",
    "# given data."
   ]
  },
  {
   "cell_type": "code",
   "execution_count": 14,
   "metadata": {},
   "outputs": [
    {
     "name": "stdout",
     "output_type": "stream",
     "text": [
      "The most positive reviews:\n",
      "1. This is a review of the 2012 Bumbleride Flite in Ruby color Our baby is 4 weeks now and we got the stroller shortly before she was born Its our only strollerWe live in a city and I wanted a stroller with a small footprint both open and closed that is also lightweight Even smaller than the City Mini which is a popular stroller in our neighborhood To me this meant an umbrella stroller But I wanted to find one that we could use from birthThis stroller really fit the bill The most similar stroller is actually the recent model Maclaren Quest which also fully reclinesI only tried the Quest in the store so I dont have real world experience with it but the Quest is definitely a better stroller in two ways It folds more smoothly and uses a clever onehand folding mechanism and the recline uses a latch that you can also do with one hand and goes even more horizontal than the FliteThe Flite folds and unfolds pretty easily but you have to get the hang of it Once youre pro it is just possible to do with one hand but its easiest with two It folds very compactly locks closed automatically and unlocks automatically when you unfold leans upright against the wall and has a handy builtin carrying handle You can toss it into the car without a thought There was an issue in previous years where one of the folding bars could fold unexpectedly but this issue is goneThe recline uses a draw strap so needs two hands and doesnt go 100 flat but its flatter than a car seat for example The back actually goes quite horizontal the issue is more that the seat bottom that supports the upper legs is angled up and that you cant adjust you can adjust the incline of the back and of the part that supports the lower legs of an older child Bumbleride says its safe from birth and we even mentioned it to a chiropractor who said if anything its probably better to be a little inclined I definitely recommend using a Snuzzler not the little infant headrest that Bumbleride supplies Most important we used it with our newborn from 2 or 3 weeks and I can report that shes perfectly comfortable and cozy and falls right asleep as we stroll Bumbleride used to sell a bassinet accessory for this stroller but it is practically a little bassinet alreadyI think the suspension works pretty well although its hard to tell what youd feel in the seat compared to what I feel in my arms as we stroll It certainly maneuvers great and the small size is beneficial I was even in a small bookstore the other day with her You can stroll with one hand even on bumpy sidewalks The light weight is great for curbs We rolled up a big grassy hill in a park and it was fine I imagine strollers with bigger wheels could be smoother on some terrains but I really dont think the kid cares if anything she probably likes the movement At some point you have to lift the wheels over big bumps but this must be true of all strollers at some pointTo me the bottom basket is plenty The trick of course is to load it from the front You can put a heavy blanket and a new package of diapers not a case of course in there at the same timeThe canopy isnt huge but its helpful The peekaboo window works great when the seat is reclined you look right down at her face The rain cover sold separately since 2012 is a nice oneThe Flite seems to weigh more than the stated 14lbs as others have noted I think its between 1516lbs obviously with the wheels and canopy attached But for all I know all stroller manufacturers understate their weights To me it does feel a little lighter than the City Mini and about the same as the Quest which is in line with what their respective weights are supposed to beThe Flites most unique feature is you can put a car seat in it This the Quest cant do This must be one of the most compact and lightest strollers with that feature We first tried the Graco SnugRide Click Connect 35 and realized Bumbleride doesnt recommend this model it sort of fits but not perfectly Then we tried the Graco SnugRide Classic Connect 30 which fits fine but we finally wound up with the Chicco KeyFit 30 which we really like and fits really snugly When you close the carseats canopy and the stollers canopy the baby can be completely enclosed except for a little crack on the sides You can securely lift the whole stroller by the carseats handle handy for curbs You do need to use the supplied strap to secure the carseat to the stroller My one minor annoyance with the Flite is that as you can imagine for a stroller like this you need to remove the supplied carseat adapter bar to fold the stroller and then theres no place to store the bar it just kind of hangs around in the trunk of the car I imagine some carseat and stroller or SnapNGo combinations such as strollers made by car seat manufacturers would be more convenient in that the car seat just snaps inout and then you can fold the stroller if youre going to be doing that really often but we didnt find a stroller we liked that worked that way Its by no means difficult with the Flite and many other strollercar seat systems work the exact same way In any case the car seat feature has been handy when were actually driving someplace so we dont have to wake the baby to put her in the stroller and so shes enclosed more completely in there such as a trip to the doctor followed by sleeping in the waiting room We also wanted the feature because we thought the baby might not be cozy enough just in the stroller as a newborn but after the first week or so we dont find ourselves using the carseat just for more support when strolling around the neighborhood rather we put the baby directly in the stroller now so its lighter to maneuver and simpler for us and I think the baby likes having a little more space in there On the other hand she turned out to be tall for her age at 23 weeksEverything about the stroller feels both durable and friendly from the aluminum tubing to the rubber parts to the straps to the fabricBumblerides customer service seems excellent based on their Facebook page one phone call I had with them to ask a question before the purchase and another email exchange to ask another question after the purchaseThe 2013 model apparently has a bigger canopy and a harness that is harder for toddlers to release and that lets you detach the shoulder straps from the waist straps I suppose that could be handy although we havent had any difficulties with the Flites harnessIn the end we just liked the looks and feel of this stroller compared to the Quest and the car seat feature Weve really enjoyed the stroller in practice and so has the baby as far as we can tell It is for sure a reliable way to put her to sleep I strongly recommend it I think its a unique stroller if youre looking for this combination of qualities and features Perhaps I will update this review in years to come after weve had a chance to try it on public transportation and with the seatback upright once our daughter is older\n",
      "2. I am so HAPPY I brought this item for my 7 months old granddaughter SHE ABSOLUTELY LOVES IT I love it too she is a little einstein herself and she loves this discovery center It is full of entertaining fun and keeps her busy when I need a break to do other things around the house or cook or whatever I take time also to help her learn the different activities it has She love the panda bears seesaw and the leaf with the teether rings she bites that thing like CRAZY as much as the blue flexy teething ring She already knows how to take them off to use it She also like the penquin spin ball and the spinning parrot bird She still learning about how to hit the drum that is in front of the lion The only complaint I have about the puppet lion is they should make it more removable to be taking off and on She had a tough time to reach out to touch it so had to find away to detach it off so she can also have a chance to play with that now I place it back on the pole with she not playing with it I use it as a puppet to play and tease her with she loves it She also loves the 3 bi colored chipped rings that moves from one side to another which helps with colors and number learning Most of all she loves the little music box that has 3 variety of music to listen to from classical to mumba it sound like ha ha she already learning how to dance to the tunes and I love to dance with her also It also has three levels to raise higher and to choose from and it spins and turn in all directions for her to play with any of the activities GREAT What tickles me the most is my son HER DAD said to me a couple of weeks ago Mom I need a Baby Einstein too because I always holding her and I need to do my things too I laughed and said Why do you think I brought this particular activity center to help her with her motor and learning skills and to keep her busy when I need to do my things around the home In one word FANTASTIC work Baby Einstein Manufacturer Company GREAT WORK on this product I will be looking to purchase more Baby Einstein products in the near future One of my girlfriends mentioned she will keep this product in mind as a baby gift if she needs one in the future due to my recommendation and baby stories I shared with her I told her come to Amazon for good products and a good buying price you cant lose here I have another favorite place I like to buy things from and when I cant find what I want there I always come here now Amazon is my other favorite place to buy now Good quality with good prices and steals GO AMAZON\n",
      "3. My dad just bought this car seat for memy son as the next step after his infant carrier Hes large for his age and at 11 months it was time for us to upgrade My dad made the purchase at Sams Club and the price was a lot lower than Amazon  I love Amazon but wanted to put that out there as an FYI  if you have Sams near you or Costco  these seats are sold there as well try there first to get a better priceSo out the box the first impression of the seat was that it seemed sturdy easy to use and had minimal bells and whistles with my Chicco KeyFit infant carrier Im not used to bells and whistles so thats fine by me I took it out in the living room and just started looking over the seat and reading through the manual to familiarize myself with all the features how to adjust everything how to recline the seat love this feature etc I tend to think some of the negative comments here may be due to skipping over this process I feel its a best practice to check out a product of this nature to make sure you have as much knowledge as possible before getting upset that it doesnt fit properly in your car  anyway After reviewing the seat fiddling with the straps and the handy recline feature and understanding the basics of installation we took it to the car to test out the fit My son is still REAR FACING so my review is based on that installation I cannot yet speak to forward facing installationMy car only has LATCH in the center seat so thats where we installed the car seat its the safest spot anyway My dad and I strapped it in together and it was relatively easy to install The LATCH strap feeds acrossunder the seat cushion same if you use seat belt installation then you click in each of the 2 LATCH hooks and tighten the seat and youre done However this method didnt provide a very tight fit and we werent completely comfortable leaving it that way NOTE I have read that you should test the security of the seat installation by trying to move the seat at the point of attachment LATCH or seat belt NOT at the back of the seat when rear facing when a seat is installed rear facing that part of the seat will always have more movement and its not the most accurate test of a secure installationAt that point we decided to use the foam noodle technique to see if that could get the seat tighter Plus the back seat of my car has a slight incline as I think most cars do so even having the car seat in the fully reclined position which is recommended in the manaul for rear facing installation my son would have still been more upright than Id like So we got out a chunk of compressed foam to level out the seat base about 4x8 and installed the carseat on top of that It fit like a glove The seat wasnt going anywhere  it was really tight and secure now I was 110 pleased and confident with the installation and felt very secure and atease putting my son in the new car seatAs for the seat itself Ive seen a few comments here and elsewhere that say the fabric and the padding are inferior I didnt get that impression at all I feel like the seat is very comfortable and sufficiently padded I like the inclusion of side impact protection at the head The straps are also very easy to adjust and have soft pads at the shoulders I havent had to move the straps to different positions other than loosening or tightening there are 3 positions for the buckle the strap in the seat not the harness straps and the instruction manual seemed pretty straight forward if you need to make that adjustment As for the harness straps they are adjustable by simply raising and lowering the back of the seat with the little red levers at each side of the head rest You twist in the handles and lift or lower the back of the seat and the shoulder straps move with it So extremely easy With my son strapped in I feel he is very secure and the seat is the right size and shape for him Its pretty simple to get the straps on him properly and he seems comfortable I like that there is a small pillow included as well  kind of a nice feature for longer drivesI havent yet taken the seat cushion completely off but from what I can tell it seems like it would be pretty easy Of course youd have to deal with the harness straps which I think is the most difficult part of taking off any car seat cushion The cover is attached with little elastic loops that hook onto the plastic seat base  just taking off a few of those loops during the installation process and then reattaching them was pretty simpleThe arm rests are really cool too As my son gets bigger Im sure hell put them to more use but for the now the option of easily folding them up is really nice And the removeable cup holder is easy to use Again a feature better suited for an older child but really nice to haveOverall Im very pleased with this seat and the qualitysafetylongevity for the price I really couldnt beat it  Ive been looking for a car seat to replace the infant carrier for a while now and I just havent found one thats a 3 in 1 seat for less than 150 or so I had decided to get a convertible seat and then buy a booster once he outgrew that Now that I have seen this seat in person and spent some time with it I can say that I would pay 150 for it but knowing I got it for 8000 is even better Such a steal I definitely recommend this seat\n",
      "4. We have 7 month old twins and have used it since day 1 In short it is an excellent stroller for Twins highly recommended It has very high build quality and a lot of great little added featuresFirst of all if you have babies I would highly recommend the Kolcraft Contours Tandem Car Seat Attachment It allows you to put most brands of car seats on this strollera great idea You can put 2 of these attachments on so both car seats will fitThe stroller itself drives very nicely its easy to push considering how big it is and rides very smoothly The wheels allow for quick turns and the handle is nicely padded for extended use It has a very large storage area underneath with plenty of space There are some great extras they thought of that are nice to have There are handles on each side that an older child can hold on to Our 3yearold likes holding the handle and walking next to the stroller The stroller folds open and closed fairly easily I love that its backandfront and not sidebyside Some of our friends with sidebyside strollers complain about being able to fit through doors and things like that We never have that problemWhen attaching the seats that come in the stroller there are many different positions you can put them infacing each other both forward and so on Its easy to detach and reattach the seats The seats are comfortable and have a 5point harness that seems to have a wide range of adjustable positions Its easy to adjust the back position of the seats and footrests as well I wish the shades were a little wider on topsometimes it doesnt block as much sun as I would like But its not terrible The seats also have detachable cupholders which is useful The stroller comes with an iPod adapter but it seems fairly cheap and gimmickyweve never used it it seems kind of silly Overall the stroller is very wellbuilt sturdy and we love itThe only negative is with both seats in place the stroller does not collapse very well You really have to remove one of the seats to get it to fully collapse which is a nuisance especially when youre trying to manage 2 babies However Im not sure if they could have designed it any differentlyOverall we are very pleased and have recommended this stroller to a number of our friends If you have Twins especially I highly recommend this stroller\n",
      "5. Were keeping this stroller After much research we settled on the Kolcraft Tandem double stroller and returned it immediately My todder was too tall for the seat at 2 years old so we knew our days were limited in use Now we have the Phil  Teds and LOVE LOVE LOVE it Its my practical every day stroller AND my jogging stroller and performs beautifullyHeres what Im dealing with a very tall toddler just over 2 years a very big and heavy 5 month old and a Mazda 3 5door vehicleIll touch on a few subjects and wont try to reiterate whats already been saidSize Folded down its definitely more compact than the Graco that fits our infant seat I have a small car so I needed something that folded down nicely This takes up a lot less room than the other one and like the other reviewer folds down much easier than my single jogger Kool StrideKool StopSeats Regular seat will fit my toddler for a while  shes about 3 feet tall and 30 lbs She also has no problem climbing in and out by herself It can be difficult getting my little guy in the back seat but I just have to be careful and watch his head on the bar Only bummer is my toddler never really fit well in the doubles seat on the front section too tall Never had a problem with the newborns feet hitting her bottom but her head always hit the bar at the top of the doubles seat Since my little one is big we just put him in back before they recommended and just stuffed blankets to support his head but definitely no jogging with him only quick trips or walks Havent gotten to the point where my little guys feet hit the diaper bag but my JJ Cole bag fits fine for now Might eventually get the bag that goes with it One trick about the little extensions for putting the doubles kit on the front is a keeping it in the Lazy Ted bag that we leave in the car or 2 tucking them into the mesh pockets on the back section of the cargo space Works fine for me and that way I always have them if I need them like if I want to put my newborn in the front seat but dont want to adjust the straps  I just pop on the doubles kit on the frontShading Yup sunhats is the way to go My toddler is tall enough that if the sun is high in the sky the shade does a good job I purchased the ProtectABub shade the other day for the doubles seat but havent used it Looks like it works pretty well but I bring hats anyway The rain cover that came with it is worthless as far as I can tell Thought about buying the double shade but havent decided yetEase of use Fantastic Im pushing two heavy children and I am small I use as a jogger light jogging but on hills in Valley Forge Park and as my every day stroller Maneuvers wonderfully As a jogger its easy to lock wheel  I get faster and faster every time Wish the handlebar came out It adjusts up and down but not out unfortunately design flaw in my opinion As an every day stroller it can be tricky at times I just have to put my toddler in it first then the newborn and take the newborn out first and then the toddler so it doesnt tip Once the kids are in the car I can take as long as I need but its usually quick The doubles seat clicks off quickly as does the front toddler bar I usually rest the handlebar on my shoe so the road doesnt chew it up another design flaw that the handlebar has to be down in order to fold upThe Lazy Ted is amazing If you didnt get this and you have a toddler and newborn get it It folds up in a nice bag and you leave it in the car along with the stroller When youre somewhere and think man I wish I had a bouncy seat voila you do Just grab the doubles seat and the lazy ted bars assemble and youre good to go Weve used it several times in the last few months and are so glad to have it  playing tennis our newborn sat in the seat and our toddler chased after our balls for us at our friends house who doesnt have kids the beach house etcCustomer Service is GREAT We bought the Graffiti Sports model that came with the doubles kit and Lazy Ted One of the pieces in the Lazy Ted broke as soon as we got it and although I was annoyed that I had to pay shipping to Michigan they replaced the entire thing and even gave me a new bar for the front since I had accidentally included it in the bag And then they shipped to me free so it cost all of 7 or 8 dollars to shipReally glad I got this stroller Its worth the money and very versatile for our active lifestyle\n",
      "\n",
      "The most negative reviews:\n",
      "1. I had a frustrating experience with these two similar but different Nuby straw style sippy cups  I first purchased a two pack of the Mega Sipper with Straw cups at TJ Maxx after a friend who is a Speech Therapist recommended straws over traditional sippys  At first I was annoyed at the number of pieces but since I had been using the DR Brown training cupswhich also has 5 pieces not including the capsince my son was 6 months old I was used to disassembling cleaning and reassembling numerous pieces  I found that if I pulled apart the three piece strawvalve and stuck them on the prongs of the top rack of my dishwasher they cleaned up well  Honestly I have gotten lazy and do not always take out the top of the straw and it seems to clean just fine still in lid  The cups did not leak but did occasionally spray when opened after building up pressureand sometimes would gather liquid in the top part even when not closed so watch out for that  The cup was a little big and held more liquid then we needed and the middle was too big for my son to grab with one hand  But overall a good cup  My son had no problem transitioning from the Dr Brown training cups which also required a good deal of suction  He never used a bottle so maybe that is why we didnt have issue as some did which cups that require heavy suction  So a couple months later when at Marshalls I picked up a pack of two Nuby FlipIt cups that also included two of the snack cups  I liked that the FlipIt cups had a nice narrow middle and were a bit smaller and seemed easier to hold and the design was practically the same so I figured I would have no problems  Plus I was looking to get some snack cups and the price was certainly right on the 4piece setso it seemed like a no brainer  Was I wrong The three piece straw system was practically identical but the flip closure was slightly different than on the mega sipper and these leaked horribly from day one  All over the place  Constantly no matter what I did Ugh Sometimes it seemed like it was coming from the flip top sometimes from the straw and sometimes from around the sealI never could quite figure out why they leaked so bad  Totally annoying I kept using them simply because I needed them but was cleaning up puddles all over the house  Then a week or so later I noticed that one of the tops had a crack on the flip part which made the leaking even worsethrew it out but kept the straw pieces for back up to the better mega sippers  I kept the one nonbroken FlipIt cup and use it only for water but will probably throw it out as soon as I get more sippy cups  OhBTW as far as the snack cups go they are also poorly designed and basically useless as my son started pulling the top off the first day and dumping out the contents with an accompanying dramatic UhOh  After a couple weeks the lids are so loose that they come off on his wrists after he pulls his hand out  I am still using them because I have not yet replaced them but I might as well be handing him an open bowl of cereal to carry around  Still searching for a good snack cup that has a screw on topI think playtex makes one  So the bottom line is that the Nuby NoSpill FlipIt cup is NOT goodleaks horribly Dont waste your money It is too bad because I like the design and size  If you like this style of cupstraw system which we do then try the The Nuby Mega Sipper  It is a far better product and I will be buying more of them to replace the lousy FlipIt Cup\n",
      "2. I would recommend in the strongest possible way no one ever buy this product The other reviews of this product are all too kind and they say so in their descriptions All of them point out that the product does not work smoothly or seem to do anything magically different they also seem to give 3 stars without comparing the product to anything else I have compared the product to something elsea regular trash canand the regular trash can was better And the regular trash can didnt even have a lid on it A family friend also purchased this thing and has the exact same complaints Namely that the lid gets stuck that you have to hunch over and shove the diapers into the pail and that you have to buy replacement bags every month or few weeks In the end this thing is a waste of money and is simply worse than a regular old trash can Detailed descriptions belowThe Munchkin1 There are major issues with the lid The lid is supposed to keep out odors while sprinkling a tiny really tiny amount of baking soda as you close it and initiating a mechanical twist of the bag to further seal off the odors However the lid is constantly fighting with the mechanics that twist the bag creating starting when then bag gets about half full a series of sounds reminiscent of small arms fire Crackcrack crackcrack  You will live in constant fear of a late night gun battle playing out in the childs room leading to a screaming sleepy cranky baby Closing the lid twists the top part of the bag in a ring of rubber sharklike teeth thereby closing off the bag as well However the lid will often simply get stuck open because these rubber teeth put too much pressure on the mechanics of the lid This forces you to stick your hand into the pail itself and move the bag around to relieve the pressure so the lid will close Think about ityou have to stick your hand into the very closure intended to keep odors out Very often you have to decide between fixing the lid or picking up a now grumpy baby2 The rubber teeth are a pain Often the rubber teeth create to much counter pressure to the closing of the lid and the entire process comes to a plastic cracking halt Even if the lid works correctly you still have to shove the diaper through the rubber teeth You can not just drop a diaper in instead you have to jam it through the teeth Every time you change a diaper you have to bend down and shove your hand through a set of rubber teeth two feet off the floor And two feet off the floor is correct This thing barely comes up to my kneecaps Think about iteven when working 100 correctly you have to bend over two feet and jam your fist partially through a set of rubber teeth How is that better than dropping a diaper into a bucket3 Whats the deal with the bags I meanfor serious A bag lasts you maybe 4 days at a max and more like 48 hours Munchkin wants you to fork out whatever bucks a month for replacement bags I think this is the entire reason for the mechanical twisting of the bags and not to keep in smells The tops of the bags have plastic ring you set into the top of the pail and which then snaps into place The replacement bags are only 510 bucks a box but it seems like a real scam I have tried two things A I wondered what would happen if I reused one of the Munchkin bags Nothing bad happened at all I dumped the diapers into the outside trash and put the bag back No smells no nastiness nothing bad happened at all I used the same bag for two weeks rather than two days After two weeks of us there were still no smells B I then decided to try a regular trash bag It worked fine You just have to leave a bit of the bag sticking out beyond the lid to make sure the rubber teeth dont pull the thing completely into the pail when you close the lid4 The baking soda does nothing A novel idea sure But like the twisting of the bags it seems like a gimmick The level of baking soda dropped into the bag when you close the lid is minor and the baking soda compartment is totally closed off I do not see how either is doing much to absorb odorsAlternativesThe only alternative I have used is an old plastic trash can with an open bag in it and no lid I dropped diapers in it for 5 days without emptying it No smells whatsoever Half the time it was nice out and we had the windows open The other half of the time it was 90 degrees and the air conditioning was on In both cases it worked out fine No smellsConclusionsDo not buy this munchkin monstrosity Every time you use it you will wonder if the lid will close or start making cracking noises as it struggles to twist the bag Buy a trashcan with a lid Maybe one with a step lid And if your kid makes a smelly one Empty the trash can Why would you want to keep that stuff inside a nursery anyway The munchkin is a gimmicky thing and not worth it at all It seems like a great idea but in actuality the thing does not work\n",
      "3. I am so incredibly disappointed with the stroller I just dont even know where to begin  First of all I have four children and have been through many strollers  This stroller hands down is the worst stroller I have ever owned  I really wanted a double stroller that was somewhat compact but that would also accommodate an infant car seat  The Aria twin claims to be able to do thisCONS So first a foremost I would NEVER place an infant car seat on this stroller  Even with a Peg Perego infant car seat it is really unsteady while on the stroller  The tray the car seat rests on is super flimsy as in worse than a super cheap 40 dollar stroller In general the entire stroller is made of really flimsy cheapo plastic With two small children in it one that weights 22 pounds and the other only 15 pounds the stroller is really difficult to steer  When attempting to turn the entire plastic frame twists and feels like it is going to brake  It feels like trying to turn with two 100 pound kids overloading the stroller It feels like a really cheapo stroller From day one the storage basket under the kids has dragged on the ground  Yes it is installed correctly  I even called Peg Perego but they said there was nothing they could do  So now it has a giant hole in it and cannot be use Since about the second week we owned the stroller the tires on the wheels of the stroller keep randomly popping off  I will be walking in the mall and hear a thumpthumpthump sound only to see a tire half hanging on tot he wheel The cup holder is worthless and will not fit anything at all except maybe a small water bottle The sun shades are really really short I had to buy extensionsPRO It does fold very compactly as in much smaller than most single strollersI really wanted to love this stroller  I kept making excuses for it but finally just gave up  At this point my husband refuses to use it  We really have been through many strollers and none are perfect  However if you are looking for a somewhat compact but nice double stroller I would recommend looking at the Baby Jogger City Mini which is what I ended up buying to replace this stroller or maybe the Combi double stroller which our friends have and seem to really enjoy  I would not waste money on the Aria twin  I spent over 300 dollars on this stroller and cant even attempt to resell it because after less than a year of use it is basically trash which is what it wound up being  I dont know about other Peg Perego products but after my experience with this stroller I can honestly say Im not going to gamble my money on the brand again\n",
      "4. First off I did manage to find this product for 20 less at the big box store than the price here Secondly this product is horribly manufactured  Absolute waste of money  The only thing Ill give it credit for is the assembly instruction sheet is as clear cut as Ive come across in assembleathome baby products  But thats where the quality ends  In the first step I noticed the foot pieces did not attach as described in the instructions and this is because the 3 pieces in question were supposed to be uniform to fit in the same manner in all 3 places  But poor manufacturing threw that uniformity out of the window  One piece fit fine the second piece not so much and the third piece not at all  Theyre supposed to snap into place but I noticed the 3 supposedly identical pieces slightly varied in size on the locking parts causing one piece to fit where it was supposed to but the other 2 not to  All pieces on this product snap into place using the old indented tab system for locking into slots  These tabs are so flimsy and brittle they cracked when trying to snap them into position  And even the ones that didnt crack fit so loosely I have serious choking concerns in how easy itd be for a child to simply pull them loose  Also the little key ring items have cheap stickers on them that dissolve and flake off when you wash them  Another choking concernFinally the musical element to this product the little box with the mirror and 3 animals on it suffers from faulty design that makes it unusable with the product  Every other part to this product snaps into place except for this one piece  The assembly sheet instructs you to sit this piece into place and turn two keys on the bottom side to lock it into place on the entertainment center effectively forming a clamp that locks the music box onto the center  The problem is the gap between the key and the bottom of the music box that forms this clamp lock is just under 18 wide and the slot you slide it into to turn the key and lock it onto has an edge thats a little over 14 thick  This makes it impossible to turn the key and lock the music box onto the entertainment center as the instruction sheet clearly states you should be able to do  Very poorly manufactured  This makes the audio portion of the product essentially useless as a whole  And Id be willing to bet all units of this product suffer from the same faulty form  Im extremely disappointed not only with this but the clear choking hazards I see with the other loose fitting parts and peeling flaking dissolving stickers on the key ring  Will definitely be taking this product back for a full refund  I cant stress enough how much anyone considering this product should steer clear of it  Blatant failure of quality and safety control on the manufacturers part\n",
      "5. The first monitor broke within 1 month of use the talk back feature would not work We sent it back to Summer Infant and they sent a replacement 4 days after using the replacement the monitor stopped working in the middle of the night I woke at random to check on my newborn baby only to discover that it was not working I would not have been able to hear the baby if she had cried during that time The monitor would not turn on or off just had a blue screen We were going to send it back but then when the battery died and we plugged it in the next day it suddenly worked again We gave it another shot 2 weeks later the same thing happened and the monitor stopped working in the middle of the night while we were sleeping I called Summer Infant and there was no apology for the 2 failed products They were not concerned that this safety tool had failed I asked for a refund but was told that I could only exchange it for another of the same model Despite having had 2 failed monitors in the same month I said that I did not want the same model as it was unreliable and not safe I had to argue with the customer service rep who refused to let me speak to a supervisor or manager Finally she said they would bend the rules and let me get a different monitor but I had to pay the difference in price The price she quoted me for the alternate monitor was 35 more than the cost of the monitor on AmazoncomLong story short this monitor is crap and cant be trusted The company does not seem to care about customer satisfaction or child safety Nor do they stand by their products DO NOT BUY THIS MONITOR GO WITH THE MOTOROLA BRAND Better product or significantly better customer care\n"
     ]
    }
   ],
   "source": [
    "#c)\n",
    "reviews = list(zip(probability_predictions, reviews_test))\n",
    "sorted_reviews = sorted(reviews, key=lambda x: x[0][1])\n",
    "\n",
    "most_positive_reviews = [review[1] for review in sorted_reviews[:5]]\n",
    "most_negative_reviews = [review[1] for review in sorted_reviews[-5:]]\n",
    "\n",
    "print('The most positive reviews:')\n",
    "for x, review in enumerate(most_positive_reviews):\n",
    "    print(f'{x+1}. {review}')\n",
    "\n",
    "print('\\nThe most negative reviews:')\n",
    "for x, review in enumerate(most_negative_reviews):\n",
    "    print(f'{x+1}. {review}')\n",
    "\n",
    "#hint: use the results of b)\n",
    "\n",
    "# By using results of exercise 4b) here we are creating list of 5 most positive and negative reviews."
   ]
  },
  {
   "cell_type": "code",
   "execution_count": 15,
   "metadata": {},
   "outputs": [
    {
     "name": "stdout",
     "output_type": "stream",
     "text": [
      "Accuracy of predictions equals: 0.9306515064287085\n"
     ]
    }
   ],
   "source": [
    "#d) \n",
    "from sklearn.metrics import accuracy_score\n",
    "\n",
    "predictions_accuracy_score = accuracy_score(ratings_test, predictions)\n",
    "print('Accuracy of predictions equals:', predictions_accuracy_score)\n",
    "\n",
    "# Accuracy_score function returns value of our prediction accuracy, which is about 93% which is good."
   ]
  },
  {
   "cell_type": "markdown",
   "metadata": {},
   "source": [
    "## Exercise 5\n",
    "In this exercise we will limit the dictionary of CountVectorizer to the set of significant words, defined below.\n",
    "\n",
    "\n",
    "a) Redo exercises 2-5 using limited dictionary.   \n",
    "b) Check the impact of all the words from the dictionary.   \n",
    "c) Compare accuracy of predictions and the time of evaluation."
   ]
  },
  {
   "cell_type": "code",
   "execution_count": 16,
   "metadata": {
    "collapsed": true
   },
   "outputs": [],
   "source": [
    "significant_words = ['love','great','easy','old','little','perfect','loves','well','able','car','broke','less','even','waste','disappointed','work','product','money','would','return']"
   ]
  },
  {
   "cell_type": "code",
   "execution_count": 17,
   "metadata": {},
   "outputs": [
    {
     "name": "stdout",
     "output_type": "stream",
     "text": [
      "Most positive words: ['loves', 'perfect', 'love', 'easy', 'great', 'well', 'little', 'able', 'old', 'car']\n",
      "Most negative words: ['less', 'product', 'would', 'even', 'work', 'money', 'broke', 'waste', 'return', 'disappointed']\n",
      "[-1 -1 -1 ... -1 -1  1]\n",
      "[[0.94169382 0.05830618]\n",
      " [0.96269487 0.03730513]\n",
      " [0.99377773 0.00622227]\n",
      " ...\n",
      " [0.78635742 0.21364258]\n",
      " [0.95218482 0.04781518]\n",
      " [0.46477727 0.53522273]]\n",
      "The most positive reviews:\n",
      "1. Background Ive been using Grovia diapers for four years when I bought them they were called grobaby I have 6 shells and 12 inserts I purchased them for my oldest daughter and used them only part time for 25 years until she was potty trained She still needed pullups at night for a long time so I used these until she was ready to go without She was probably 30lbs when she stopped wearing them and they fit well They were stored for a year until I had my other daughter who is now 55 months and exclusively CDd I didnt use them for either girl until about a month old since I had tiny babiesPros Theyre mostly organic When they were new they were so soft and thick Now theyre definitely worn in and not so soft anymoreI love how easy they are to use As a first time CDer these were perfect Just snap the inserts in strap on baby Easy for pretty much anyone No stuffing unstuffing folding etcI love that Im able to reuse the shells a couple of times until theyre stinky or pooped in or too wet Some people didnt find this to be true but after four years of use I can confidently say its possible and happens often for meI find them easy to wash and love that the insert and shell are separate since I machine dry the inserts and line dry the shells which has helped to prolong their life Contrary to some reviews I dont find it difficult to clean poop from shells It just agitates out of the mesh in the washing machineOne size Although I didnt use these diapers for my tiny babies they are absolutely a birth to potty training diaper My oldest was 30lbs when she stopped wearing them almost four yrs old She has always been a small kid with no chunk though so Im not sure how long a thicker baby could wear them forDesigns and colours are cute nothing obnoxious and I like that the snaps match the shell colour Makes all those snaps less noticeable The snaps are very well made and strong not one has come loose or fallen offVersatile Not only can you use one shell multiple times before needing to wash it but you can also use the shells as covers for prefolds and other diapers needing covers I used prefolds quite a bit during my daughters first few months can get a more custom fit on tiny babies and I found them to be extra soft on that delicate new skin I didnt bother buying a bunch of sized covers for my prefolds and used the grovia shells instead They worked perfectlyGreat for travelshopping etc You can leave the house with an extra shell and a few inserts instead of 34 whole diapers since the shells can be reused Ive been out with only one shell before and I was glad I had these I quickly rinsed the poop out of the shell dried under the air drier in a public bathroom and snapped in a new insert in less than 5 minutesSoft shells soft elastic on the legs very few red marksFew blowouts or leaks Ive only experienced a few leaks and I think this is mainly because some inserts were too long for the shell in its smallest setting When the shell went up in size the issue was fixed Also the aplix tabs Velcro stuff makes these diapers super custom and snug great for putting a CD on a squirmy baby The aplix also happens to be a conCons the Velcro tabs This is probably due to the fact that theyre 4 years old but the tabs are starting to curl up and not stick so well This only began to happen but may have began sooner if I had CDd exclusively the first time I can switch them out for snaps so I may do that eventually since the rest of the shell is in perfect conditionHolds stink The inserts are still in good condition but Ive had problems with the nasty ammonia smell They really seem to hold the stink so stripping and a religious wash routine has been key to keep them fresh smelling Maybe this has been my own fault because I had no idea what I was doing in the beginning but who knowsI sun bleach them regularly so they still look good but they need to be machine dried for at least 20 minutes to stay softAbsorbency My biggest issue with these diapers is that they arent absorbent enough My kids are heavy wetters so Ive never been able to use these at night Even with the booster Also when wet the inserts ripple up or buckle and dont seem very comfortable My babys bum gets red marks on it if left on too long from the ripples of the top layer of the insert I use the bumgenius freetimes with microfiber inserts at night and have no issues Although Id rather have a natural fabric next to my daughters bum at night the microfiber wicks the moisture away so well and we dont have to double upConsistency On the smallest size some inserts are too long for the rise of the diaper and poke out which can cause leakage The inserts arent uniform in size which isnt a huge issue but some are longer or wider than others which is just a bit annoyingOn the bulky side My bumgenius freetimes are less bulky but not by much This doesnt bother me too much since it makes perfect sense that a cloth diaper be bulkier than an uber trim disposableVerdict love them enough to buy more but would probably get the snaps next time I love that Velcro is easier to use but the diapers would last much longer with snaps Im also curious as to how the new grovias compare to the old ones I very much recommend these\n",
      "2. I did many hours of research reading reviews and watching YouTube videos on the umbrella strollers out there  I wasnt able to see this stroller in person so I went on the reviews and videos  I did go to Babys R Us to check out the competition in the same price range and they were definitely not as nice  I just wasnt happy with what I was seeing and for the high prices I expect to be satisfied  I originally made my mistake by registering for the The First Years Ignite Umbrella Stroller  Though it was a 90 cheaper I really wanted to love it but hated it and returned itMy husband put the Inglesina stroller together while I was at work  I came home and saw it and was WOW this stroller is beautiful  Heres whyPlush cushioned seating for my 8 month old  The other stroller First Years you could feel the metal frame behind the back support  The Inglesina you  DONTLooks and feels well built and is a great qualityThe canopy is awesome  Its adjustable  You can pull it down and over your baby to block ALL the sun  You can take it off  Or just adjust to the amount you preferCanopy has a peekaboo window to see your little oneCanopy is waterproofThe back of the canopy has a snap pocket for items such as phone keys pacifiers snack s etc  This stroller comes with its own rain cover  It fits perfectly clipped from top bar and clipped right down to the wheel bars  Wont blow around  And there are little vents on the side of cover so your little one gets some fresh airIts a 5 point harness with cushioned shoulder strapsIt has a great depth to the seating compared to the First Years  My son weighs 21lbs at 8 months old and is 29  He looks very comfortable in the Inglesina  He looked like he was going to fall over and out in the First Year strollerThe back reclines fully so your little one can take a napThe edge of the seat is adjustable if your babys feetlegs are not over the edge yet  It can be put in a straight up position or kept straight out  or you can bend it downwards to 45 degreesIt has a nonfoam body bar so no pieces will come off if your baby decides to bite it  It is soft and bendable so baby wont hurt self if heshe bends forward  It can come off fully with a push of a button  Nice part about it is that it can stay on stroller when you close it up  Its also nice to attach toys to or for your little one to pull themselves up and hold on toWheel are great  Rides smooths  Turns nicely and you can turn it with one handThe handles are nice and tall  Im 57 and my husband is 62 and its great for us both  Also our feet dont hit the back wheels of the stroller like some of the others on the marketIt comes with a cup holder for mommy and daddy that fits mostThe basket under the seat is a nice size  Appropriate size for an umbrella stroller  Its easy to access unless the seat is reclined The stroller frame bars are out of the way of the basket making it easy to access the basketThe fabric is washableIts very easy to fold and lock  Also very easy to open Can use this till my son is 55 lbsIts very lightweight  Only weighing 15 lbs and has a rubber hand carrying strap when its closed upFits in my Chevy Equinox trunk perfectlyBought the JL Childress Gate Check Bag for traveling on the airplane at 929 and it fits perfectAlso bought the JL Childress Side Sling Stroller Cargo Net for 999 and it fits perfect on the side  Doesnt drooped or interfere with the wheels Good to hold babys toys etcAnything I dont like about it NOTHING  Honestly I cant find anything but will give an update in future on how its doing  Overall its a great purchase for the Amazon price of 14999  Were happy and my son is happy and comfortable too  Im very happy with my purchase its exactly what I was looking for  I would definitely recommend this umbrella stroller\n",
      "3. i purchased the black BUILT NY diaper bag and i will say its amazing the lightest diaper bag i own i guess you could say i have an addiction to diaper bags or maybe more like i just cant seem to find the perfect one either its too big or too small too heavy or too bulky but this one is perfect i was using my petunia pickle bottom bag before i got this one delivered and right when this one came i hurried and transferred all into the new ny built bag and at first i was thinking not all is going to fit but i  was wrong it all fit and there is still extra room and oh my it is amazingly light i love the material of the diaper bag i have nothing like it i have plenty of skip hop diaper bags i love that they hook to the stroller  this one also fits around my peg perego stroller perfectly by just adjusting the strap i love that this bag is waterproof i have had a few times milk dump in the inside of my bags and yuck the inside of the black built ny is a bright light baby blue its verynice i give this bag a perfect A score love it love it it holds a great amount and still has room for more i have inside 3 pullups for my 2 12 year old and about 5 diapers for my 1 year old and bottle of milk a water bottle a few toys a container of gold fish baby food sippy cup and an extra bottle im sure it could fit a change of clothes but i have a separate bag for my xtra change of clothes i love it and dont think i will be searching for a new diaper bag anymore\n",
      "4. Before you buy test out any walker on your babyI have a tall baby who has been mistaken for a one year old since he was 4 months old  When he was 5 months my husband my baby and I went shopping for a walker  Initially we planned on buying the Combi walker that resembles a car  Although it was nice looking it only had 2 height settings and even the highest setting could not accomodate my son whos knees were bent as he strolled around the store aisle  Since the store did not have any other walkers that were sturdy we went home discouraged  I decided to search the internet for other brands that we didnt consider and someone recommended this one  Not only did people  their babies love it but it was  cheaper than the carWhy I love it1 Height settings It has 3 of them and the lowest is the height of the tallest on the Combi  The middle setting is perfect for him and it makes us feel good to know that there is still a higher setting left2 Sturdy  Its really well put together all around  My son bumps into the furniture all of the time and the walker never tilts  He also tries to reach for things sometimes stretching toward the floor and the walker does not budge  It also has brake pads below it which is an added safety feature  The plastic that is made out of is very good quality unlike a wobbly Jeep walker that we saw in the store constructed out of cheap and thin plastic3 The tray play center  It has 3 settings of music animal sounds and a combination of the two and he loves to play with it  In fact I love to play with it  Lots of lights music drum beats animal noises  Its really easy to install it one quick snap and very easy to remove not easy for baby to remove so your baby can use it when hes out of the walker or after he grows out of it  My only concern after looking at this website is the color of it  mine is light green and yellow and the one pictured here is multicolored  Color really doesnt matter to me but if it matters to you you may want to look into it further4 The walker easily flattens with the pull of a lever and press of a button for easy transport or for storage5 Baby loves itWhat I dont like so much which is why I took off a star1 Adjusting the height setting can be tricky  There is also no indicator that tells you which setting you are on so it may take several tries before you figure out which setting its on  I usually eye it2  Although it flattens easily for transport there is no lock to keep it that way so even though its flat it opens right back up as you carry it3  Putting the fabric on the seat when you put it together for the first time can be painful to your fingers  But once its done its done  Hopefully it will never get dirtyI highly recommend this walker\n",
      "5. I just finished reading reviews and I am one who is still using the old version of GroBaby diapers I have been using them for 16 months and still love them They are holding up so nicely There is not one part of any of them that is falling apart I never have odor issues I use rocking green detergent  which I recommend My son will be two in August and I have worried about the size They for the most part are one size but I dont know many cloth diapers that fit newborns However I can see a larger child outgrowing these before potty training Maybe they will continue to fit they have fit my son longer so far than I thought they would a girl I think will be different because it was the top of the diaper that was barely covering his peepee but I dont ever have leakage problems during the dayI own three types of cloth diapers Grobaby Bum Genius and gDiaper I love them all for different reasons but after 16 months of cloth diapering on a daily basis I grab GroBaby for day and bumgenius for night with two soak pads My gDiapers hardly get usedI am now expecting another baby in January so decided to look at more GroBaby diapers and see they are now GroVia and Im totally excited to stock up on some new cute snap prints I have a blog and totally recommend these diapers on my blogThere easy to use easy to rinse easy to wash and dry easy to assemble I love that you have the option of disposable inserts though I dont recommend applying the sticky part to the snap I apply it to the netting of the inside of the diaper and it doesnt gum up the snap but maybe they have changed that too I just grab one shell and two inserts tucked in my purse for any outing and Im pretty much good for a day No need to carry a big bag full of huge fluffy diapers I classify these as a luxury cloth diaper tho most are anymore I just especially think these are so easy compact userfriendlyI cant say enough about them  No they are not perfect I have yet to find any perfect diaper cloth or disposable but these are top on my list of must haves\n",
      "\n",
      "The most negative reviews:\n",
      "1. I really like this shopping cart bag EXCEPT that the zipper that holds this bag together when not in use broke after 2 uses  Since the 2nd use happened after the end of the 30 day return policy AND since I had already used the product of course I did  how else would it break the seller would not accept a return  BabyAge was the seller I purchased through on Amazon and I DO NOT RECOMMEND THEM  The product of course also was at fault so I also contacted BuggyBagg and after a couple voicemails  emails to them I did not receive a return call or return email\n",
      "2. I am a researchaholic in general and have researched many different baby products over the past 5 years due to being a mother of 3 and wanting to get the best for the price and not wanting to settle for less  I live in the Northeast US so it gets really cold and the weather changes frequently and in extremes on a daily if not hourly basis  Anyway here are the brands Ive usedowed andor researched extensively and the comparisonsJolly Jumper Arctic Sneak A Peek Infant Car Seat Cover JJAJolly Jumper Sneak A Peek Infant Car Seat Cover JJSummer Infant Poshpouch SPCozy Car Seat Microfiber and Fleece Cover CCBabys Cozy World Microfiber  Fleece Carrier Cover BC yes the CC and the BC are differentJJ Cole infantoriginal bundle me JJCJJ Cole toddler bundle me  JJTOKJolly Jumper Artic JJA is awesome I would rate it the best one out of all  It is a shower cap cover for the infant car seat it has a blanket inside that you can velcro closed to keep the babys face covered and warm and you can velcro it up to stay open when the baby when you put the baby in the car out of weathers elements  It has two zippers which allow you to open the carrier and easily access the baby keep the baby from over heating and you can also flap the middle piece down to keep it completely off the baby  The blanket is a nice feature of this cover  You can use it alone with the flap open on a warmer day and you can also flap it down away from the baby as well when not in use  Another nice thing about the blanket is you can wrap it around baby to keep them warm there is enough material on both sides to do this  Some reviewers of this and other carriers stated that there were gaps around the handle this is true of mostly all the shower cap covers except you can adjust it to cover these gaps  Also you can take the wrap around blanket and cover the baby as well as feed it through the gaps on the sides to close them if the cover cannot be adjusted to fit around the bottom to close that area  The outer portion is nylon like a jacket and it is waterproof the fleece is substantial and it keeps the infant very warm This is an expensive carrier but well worth the money  This is top notchJolly Jumper is just like the carrier described above but without the attached blanket  Again overall an excellent carrier  It is not that much less than the JJA and no matter what climate I would pay the extra money for the JJA just because you can use the blanket alone with the flap of the outer portion of the JJ out and it is a very nice feature to have in the coverSummer Infant Poshpouch SP is another shower cap cover for the infant carseat but it has an opening in the top with no flap to velcro over babys face  I owned this before the JJA and here are some differences  It is a much thinner material the fleece isnt as substantial and the outer portion is not waterproof or nylon but a fleece polyester material  The opening is rather large and I felt as though breezeswind would go right through the hole and it is definitely not as effective in making the baby too warm esp in colder conditions  To remedy this problem I put a blanket on under the cover and the baby seemed better on 30 degree days from the house to the car but not to take a walk  I also had to put a hat and make sure the blanket was high on baby to cover the babys neck or use something to make sure babys neck was covered due to the hole being so big  It also gaps more on the side then the JJA and the JJ  The SP only has one zipper to unzip the baby when inside  And when you want to keep the baby inside the carrier you really have to take the whole thing off to leave the baby in to not be covered  And it is hard to get the baby out without pushing it asideAND MOST IMPORTANTLY  PLEASE SEE  it was very scary when I discovered that when you place it on correctly and put it over the infant carseat I would put my infant carseat into the holster and it WOULD NOT I repeat WOULD NOT lATCH INTO THE BASE  There was no way of knowing this unless you checked I check my baby each time to make sure the carseat is latched in just by habit but it would not even be partially latched just completely unlatched  I felt this was unacceptable  Even when I tried to adjust it by pulling the bottom portion where the babys feet would be up the cover bc of the elastic would just come up bunch and be partially off with a gap under the babys feet so I feel this carrier is a COMPLETE WASTE OF MONEY  I paid 23 the cost of the JJACozy Car Seat Microfiber and Fleece Cover CC A lot of people think this is the BC and it is the same price but it is not  It is a cheap spin off of the BC even though it is the same price  The fabric is less substantial it is honestly more like the SP  Not worth the money and dont make the mistake of getting itBabys Cozy World Microfiber  Fleece Carrier Cover BC Is BABYS COZY WORLD uses a type of microfiber called microsuede which is a soft fabric made from synthetic fibers that are an imitation to suede  It seems like it is a good bang for your buck coming in around twenty dollars which is half of the JJA  The only thing is if you live in a really rainy climate I dont think it would be as waterproof being microsuede as the JJ or the JJA material  Another reviewer stated that the BABYS COZY WORLD is reversible which I am not sure how it can be reversible deeming that it does have a flap that goes over the infants face like the CC JJA and JJThe reviewer also stated that the BC has pacifier clips which would be a nice feature for toys as well and that is is very thick for all weather and it is the same price as the CC  ONE THING that many reviews said about the CC and the BC is that the zippers can be dangerous bc they line up in the same place as a newborns eyes and have the potential for scratching the cornea  With the JJ and the JJA the zippers do not seem as though they would reach this far  Maybe the CC and the BC have larger zippers that might spin around in opposite directions esp if it is reversible  It does have the zippers on both sides to unzip and expose the infant nicely when inside and do not want the infant to overheat while in the carrier  For the price this seems like it would be a good carrier as well and I would rate the the BC a close second and very comparable to the JJ but does not have a blanket feature like the JJAJJ Cole infantoriginal bundle me JJCis what I owned with my first child who was a premature infant and I only got about 7 months of use out of this cover  That is why I got the toddler JJ cole after  It is a different type of carrier than all the others that are reviewed above being that it is not a shower cap style it has an underside to the carrier that is placed under the harness straps and then a layer goes over the baby and is zippered down and around the bottom  FIRST OF ALL THIS IS DANGEROUS which I never knew as a new mom and why they even CAN SELL them as carseat covers is beyond me because if you get into an accident it compresses under the infant because of the added bulk between the seat and the child it is like the infant is wearing a jacket so there is more room in between the harness and the infant deeming it unsafe  Also JJ cole now has the lite JJ cole and says that it passed crash tests but The Bundle me Lites openings do not come anywhere near the hip straps of the harness meaning they would be improperly routed thus creating slack  Here is a picture  No certified carseat technicians recommend this aftermarket product for the carseat  Any many if not all carseat companies state if an aftermarket product is used inside the carseat between the harness and baby it will void all guarantees for safety  NOT GOODJJ Cole toddler JJT  Had this mostly with my first child and second and would not use now dt the same reason above with the JJ  But it could be nice with a stroller  The only thing is you do need a hat and something to cover the babys neck as wellIn summary1The Jolly Jumper Artic JJA wins the race I am very very please with this product esp the blanket aspect that I think is well worth itThe JJ is basically the same product as the JJA but without the blanket2The Babys Cozy World Microfiber  Fleece Carrier Cover BC but make sure it is the BC and not the CC when you purchase it comes in a close second esp for the priceHope this review is helpful to you and you now wont have to go through the countless hours of research and will be getting a great product while not wasting any of your time or money on another worthless baby item\n",
      "3. beware that the quality is not as good as it looks in the picture the fabric is thin and the quality is not what u would expected based on the pictures we are not satisfy and requested a return but what even worse is the seller will not pay for any return shipping cost consider we have paid 20 shipping on buying and it seems like we will be paying another 20 for return shipping after all it seems we will be paying 40 up front out of pocket in order to get our 60 back now we dont even know if should keep it or return it it sounded like a very good deal at the very beginning but think twice before buying you dont want to end up in the same boat as we are in now i would rather have paid a 100 and bought this from target or somewhere else where i can return it and get exact 100 back if i dont feel satisfy\n",
      "4. Babyhaven knew that the items were never taken out their boxes and definitely not used however they gave me no consideration for a return I understand that they have a return policy but Im sure exceptions have been made  These were purchased to keep our kitty from opening bedroom doors but we had to put him down before we could install the product  We placed them in a closet and just found them  As one can imagine after losing a member of our family my first thought was not in returning the items  We found the package this weekend and thought we would at least attempt a return  But because they were purchased over 30 days ago we are unable to return them  This company should consider the condition of the item in the return before just flat out denying the return I will not be purchasing any additional items from this company\n",
      "5. I loved all the features of the car seat  It is an awesome car seat and you could take it from one car to another and adjust from rearfacing infant to forward facing 4 yo in a minute or two  The features are awesomeI purchased this about a week ago  Although I loved the ease of use for me I was unhappy with my 2 yos posture  regardless of the incline used  I decided to return it  As a PT Im particular about posture  The back of the seat is more curved than out Chicco key fit with the legs slightly elevated and therefore creating a rounded postureI was SHOCKED  when I went to return the item purchased through AMAZON LLC  that I couldnt print a return label  Turns out this is a NON returnable item  Its not that you would even have to pay for the return shipping  you cant return it AT ALL  I even double checked and the vendor was definitely AMAZON  Not an outside VendorAs someone who buys thousands of dollars worth of stuff directly from Amazon I was really surprised  Ive never encountered anything like this and Ive returned things in the past  It is usually very simpleI dont think there was any warning when I bought it that it was non returnable  I definitely cant find any sort of warning on product page nowDouble check with the vendor before you buy this if you think there is even the slightest chance you will want to return it\n",
      "\n",
      "Accuracy of predictions equals: 0.7420600652465937\n"
     ]
    }
   ],
   "source": [
    "#a)\n",
    "ratings_train, ratings_test, reviews_train, reviews_test = train_test_split(baby_df.rating, baby_df.review)\n",
    "\n",
    "vectorizer = CountVectorizer(vocabulary=significant_words)\n",
    "vector_train_rev = vectorizer.fit_transform(list(reviews_train))\n",
    "vector_test_rev = vectorizer.transform(list(reviews_test))\n",
    "\n",
    "model = LogisticRegression()\n",
    "model.fit(vector_train_rev, ratings_train)\n",
    "\n",
    "words = list(zip(model.coef_[0], vectorizer.get_feature_names()))\n",
    "sorted_words = sorted(words, key=lambda x: x[0])\n",
    "\n",
    "most_positive_words = [word[1] for word in sorted_words[:10]]\n",
    "most_negative_words = [word[1] for word in sorted_words[-10:]]\n",
    "\n",
    "print('Most positive words:', most_positive_words)\n",
    "print('Most negative words:', most_negative_words)\n",
    "\n",
    "begin = time.time()\n",
    "predictions_small = model.predict(vector_test_rev)\n",
    "predictions_small_time_to_do = time.time() - begin\n",
    "print(predictions_small)\n",
    "\n",
    "probability_predictions = model.predict_proba(vector_test_rev)\n",
    "print(probability_predictions)\n",
    "\n",
    "reviews = list(zip(probability_predictions, reviews_test))\n",
    "sorted_reviews = sorted(reviews, key=lambda x: x[0][1])\n",
    "\n",
    "most_positive_reviews = [review[1] for review in sorted_reviews[:5]]\n",
    "most_negative_reviews = [review[1] for review in sorted_reviews[-5:]]\n",
    "\n",
    "print('The most positive reviews:')\n",
    "for x, review in enumerate(most_positive_reviews):\n",
    "    print(f'{x+1}. {review}')\n",
    "\n",
    "print('\\nThe most negative reviews:')\n",
    "for x, review in enumerate(most_negative_reviews):\n",
    "    print(f'{x+1}. {review}')\n",
    "\n",
    "predictions_small_accuracy_score = accuracy_score(ratings_test, predictions)\n",
    "print('\\nAccuracy of predictions equals:', predictions_small_accuracy_score)\n",
    "\n",
    "# Here we are doing the same things as we made in previous exercise but just changing some things to make it all suitable\n",
    "# for smaller dictionary. As we can see we are getting much worse accuracy of predictions than we got previously for bigger\n",
    "# dictionary."
   ]
  },
  {
   "cell_type": "code",
   "execution_count": 18,
   "metadata": {},
   "outputs": [
    {
     "name": "stdout",
     "output_type": "stream",
     "text": [
      "Word love has impact 1.35384\n",
      "Word great has impact 0.93066\n",
      "Word easy has impact 1.17989\n",
      "Word old has impact 0.08545\n",
      "Word little has impact 0.50522\n",
      "Word perfect has impact 1.48577\n",
      "Word loves has impact 1.70031\n",
      "Word well has impact 0.50842\n",
      "Word able has impact 0.21353\n",
      "Word car has impact 0.06432\n",
      "Word broke has impact 1.74317\n",
      "Word less has impact 0.19440\n",
      "Word even has impact 0.52768\n",
      "Word waste has impact 2.01560\n",
      "Word disappointed has impact 2.33960\n",
      "Word work has impact 0.63603\n",
      "Word product has impact 0.31028\n",
      "Word money has impact 0.89007\n",
      "Word would has impact 0.33559\n",
      "Word return has impact 2.14440\n"
     ]
    }
   ],
   "source": [
    "#b)\n",
    "for word, coeff in zip(vectorizer.get_feature_names(), model.coef_[0]):\n",
    "    print('Word {0} has impact {1:.5f}'.format(word, abs(coeff)))\n",
    "\n",
    "# Here we can see what impact every word from our smaller dictionary had."
   ]
  },
  {
   "cell_type": "code",
   "execution_count": 19,
   "metadata": {},
   "outputs": [
    {
     "name": "stdout",
     "output_type": "stream",
     "text": [
      "+--------------------+---------------------------+-------------------------------+---------------------------------------------+\n",
      "|                    | Dictionary with all words | Dictionary with limited words | All words better than limited dictionary by |\n",
      "+--------------------+---------------------------+-------------------------------+---------------------------------------------+\n",
      "|      Accuracy      |           93.07%          |             74.21%            |                18.86% / 1.25x               |\n",
      "| Time of evaluation |           8.20ms          |             2.32ms            |                5.88ms / 3.54x               |\n",
      "+--------------------+---------------------------+-------------------------------+---------------------------------------------+\n"
     ]
    }
   ],
   "source": [
    "#c)\n",
    "from prettytable import PrettyTable\n",
    "accuracy_all = predictions_accuracy_score * 100\n",
    "accuracy_limited = predictions_small_accuracy_score * 100\n",
    "accuracy_diff = accuracy_all - accuracy_limited\n",
    "accuracy_diff_x = accuracy_all / accuracy_limited\n",
    "time_all = predictions_time_to_do * 1000\n",
    "time_limited = predictions_small_time_to_do * 1000\n",
    "time_diff = (time_all - time_limited)\n",
    "time_diff_x = time_all / time_limited\n",
    "\n",
    "t = PrettyTable(['', 'Dictionary with all words', 'Dictionary with limited words', 'All words better than limited dictionary by'])\n",
    "t.add_row(['Accuracy', f'{accuracy_all:.2f}%', f'{accuracy_limited:.2f}%', f'{accuracy_diff:.2f}% / {accuracy_diff_x:.2f}x'])\n",
    "t.add_row(['Time of evaluation', f'{time_all:.2f}ms', f'{time_limited:.2f}ms', f'{time_diff:.2f}ms / {time_diff_x:.2f}x'])\n",
    "print(t)\n",
    "\n",
    "#hint: %time, %timeit\n",
    "\n",
    "# As we can see in simple table shown below using dictionary with all words has almost 20% better accuracy of prediction\n",
    "# but on the other hand it is also 3.5x times slower to predict it than on dictionary with only 20 words.\n"
   ]
  }
 ],
 "metadata": {
  "anaconda-cloud": {},
  "kernelspec": {
   "display_name": "PyCharm (Analityka)",
   "language": "python",
   "name": "pycharm-ce64a35d"
  },
  "language_info": {
   "codemirror_mode": {
    "name": "ipython",
    "version": 3
   },
   "file_extension": ".py",
   "mimetype": "text/x-python",
   "name": "python",
   "nbconvert_exporter": "python",
   "pygments_lexer": "ipython3",
   "version": "3.9.6"
  }
 },
 "nbformat": 4,
 "nbformat_minor": 4
}
