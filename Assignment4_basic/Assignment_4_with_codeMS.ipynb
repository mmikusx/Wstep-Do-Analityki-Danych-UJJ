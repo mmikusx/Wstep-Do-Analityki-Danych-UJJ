{
 "cells": [
  {
   "cell_type": "markdown",
   "metadata": {},
   "source": [
    "### Today we are going to perform the simple classification of the amazon reviews' sentiment.\n",
    "\n",
    "### Please, download the dataset amazon_baby.csv."
   ]
  },
  {
   "cell_type": "code",
   "execution_count": 1,
   "metadata": {},
   "outputs": [
    {
     "data": {
      "text/plain": "                                                name  \\\n0                           Planetwise Flannel Wipes   \n1                              Planetwise Wipe Pouch   \n2                Annas Dream Full Quilt with 2 Shams   \n3  Stop Pacifier Sucking without tears with Thumb...   \n4  Stop Pacifier Sucking without tears with Thumb...   \n\n                                              review  rating  \n0  These flannel wipes are OK, but in my opinion ...       3  \n1  it came early and was not disappointed. i love...       5  \n2  Very soft and comfortable and warmer than it l...       5  \n3  This is a product well worth the purchase.  I ...       5  \n4  All of my kids have cried non-stop when I trie...       5  ",
      "text/html": "<div>\n<style scoped>\n    .dataframe tbody tr th:only-of-type {\n        vertical-align: middle;\n    }\n\n    .dataframe tbody tr th {\n        vertical-align: top;\n    }\n\n    .dataframe thead th {\n        text-align: right;\n    }\n</style>\n<table border=\"1\" class=\"dataframe\">\n  <thead>\n    <tr style=\"text-align: right;\">\n      <th></th>\n      <th>name</th>\n      <th>review</th>\n      <th>rating</th>\n    </tr>\n  </thead>\n  <tbody>\n    <tr>\n      <th>0</th>\n      <td>Planetwise Flannel Wipes</td>\n      <td>These flannel wipes are OK, but in my opinion ...</td>\n      <td>3</td>\n    </tr>\n    <tr>\n      <th>1</th>\n      <td>Planetwise Wipe Pouch</td>\n      <td>it came early and was not disappointed. i love...</td>\n      <td>5</td>\n    </tr>\n    <tr>\n      <th>2</th>\n      <td>Annas Dream Full Quilt with 2 Shams</td>\n      <td>Very soft and comfortable and warmer than it l...</td>\n      <td>5</td>\n    </tr>\n    <tr>\n      <th>3</th>\n      <td>Stop Pacifier Sucking without tears with Thumb...</td>\n      <td>This is a product well worth the purchase.  I ...</td>\n      <td>5</td>\n    </tr>\n    <tr>\n      <th>4</th>\n      <td>Stop Pacifier Sucking without tears with Thumb...</td>\n      <td>All of my kids have cried non-stop when I trie...</td>\n      <td>5</td>\n    </tr>\n  </tbody>\n</table>\n</div>"
     },
     "execution_count": 1,
     "metadata": {},
     "output_type": "execute_result"
    }
   ],
   "source": [
    "import pandas as pd\n",
    "import time\n",
    "from sklearn.linear_model import LogisticRegression\n",
    "from warnings import simplefilter\n",
    "simplefilter(action='ignore', category=FutureWarning)\n",
    "\n",
    "def remove_punctuation(text):\n",
    "    import string\n",
    "    translator = str.maketrans('', '', string.punctuation)\n",
    "    return text.translate(translator)\n",
    "\n",
    "baby_df = pd.read_csv('amazon_baby.csv')\n",
    "baby_df.head()"
   ]
  },
  {
   "cell_type": "markdown",
   "metadata": {},
   "source": [
    "## Exercise 1 (data preparation)\n",
    "a) Remove punctuation from reviews using the given function.   \n",
    "b) Replace all missing (nan) revies with empty \"\" string.  \n",
    "c) Drop all the entries with rating = 3, as they have neutral sentiment.   \n",
    "d) Set all positive ($\\geq$4) ratings to 1 and negative($\\leq$2) to -1."
   ]
  },
  {
   "cell_type": "code",
   "execution_count": 2,
   "metadata": {},
   "outputs": [
    {
     "data": {
      "text/plain": "True"
     },
     "execution_count": 2,
     "metadata": {},
     "output_type": "execute_result"
    }
   ],
   "source": [
    "#a)\n",
    "baby_df.review = remove_punctuation(baby_df.review.str)\n",
    "\n",
    "#short test: \n",
    "baby_df[\"review\"][4] == 'All of my kids have cried nonstop when I tried to ween them off their pacifier until I found Thumbuddy To Loves Binky Fairy Puppet  It is an easy way to work with your kids to allow them to understand where their pacifier is going and help them part from itThis is a must buy book and a great gift for expecting parents  You will save them soo many headachesThanks for this book  You all rock'\n",
    "remove_punctuation(baby_df[\"review\"][4]) == 'All of my kids have cried nonstop when I tried to ween them off their pacifier until I found Thumbuddy To Loves Binky Fairy Puppet  It is an easy way to work with your kids to allow them to understand where their pacifier is going and help them part from itThis is a must buy book and a great gift for expecting parents  You will save them soo many headachesThanks for this book  You all rock'\n",
    "\n",
    "# We are using function given above to remove punctuation from reviews."
   ]
  },
  {
   "cell_type": "code",
   "execution_count": 3,
   "metadata": {},
   "outputs": [
    {
     "data": {
      "text/plain": "True"
     },
     "execution_count": 3,
     "metadata": {},
     "output_type": "execute_result"
    }
   ],
   "source": [
    "#b)\n",
    "baby_df.review = baby_df.review.fillna('')\n",
    "\n",
    "#short test:\n",
    "baby_df[\"review\"][38] == baby_df[\"review\"][38]\n",
    "\n",
    "# By using function .fillna('') we are replacing nan values with empty string ''."
   ]
  },
  {
   "cell_type": "code",
   "execution_count": 4,
   "metadata": {},
   "outputs": [
    {
     "data": {
      "text/plain": "0"
     },
     "execution_count": 4,
     "metadata": {},
     "output_type": "execute_result"
    }
   ],
   "source": [
    "#c)\n",
    "baby_df = baby_df.drop(baby_df[baby_df.rating == 3].index)\n",
    "baby_df.head()\n",
    "\n",
    "#short test:\n",
    "sum(baby_df[\"rating\"] == 3)\n",
    "\n",
    "# Using function .drop() we are droping all entries with rating value = 3 because they have neutral sentiment"
   ]
  },
  {
   "cell_type": "code",
   "execution_count": 5,
   "metadata": {},
   "outputs": [
    {
     "data": {
      "text/plain": "0"
     },
     "execution_count": 5,
     "metadata": {},
     "output_type": "execute_result"
    }
   ],
   "source": [
    "#d)\n",
    "baby_df.loc[baby_df.rating <= 2, 'rating'] = 1\n",
    "baby_df.loc[baby_df.rating >= 4, 'rating'] = -1\n",
    "\n",
    "#short test:\n",
    "sum(baby_df[\"rating\"]**2 != 1)\n",
    "\n",
    "# We are setting positive ratings to 1 and negative to -1 by using function .loc"
   ]
  },
  {
   "cell_type": "markdown",
   "metadata": {},
   "source": [
    "## CountVectorizer\n",
    "In order to analyze strings, we need to assign them numerical values. We will use one of the simplest string representation, which transforms strings into the $n$ dimensional vectors. The number of dimensions will be the size of our dictionary, and then the values of the vector will represent the number of appereances of the given word in the sentence."
   ]
  },
  {
   "cell_type": "code",
   "execution_count": 6,
   "metadata": {},
   "outputs": [
    {
     "name": "stdout",
     "output_type": "stream",
     "text": [
      "['adore', 'and', 'apples', 'bananas', 'dislike', 'hate', 'like', 'oranges', 'they', 'we']\n",
      "[[0 0 1 0 0 0 1 0 0 1]\n",
      " [0 0 0 0 0 1 0 1 0 1]\n",
      " [1 0 0 1 0 0 0 0 0 0]\n",
      " [0 1 1 0 0 0 2 1 0 1]\n",
      " [0 0 0 1 1 0 0 0 1 0]]\n"
     ]
    }
   ],
   "source": [
    "from sklearn.feature_extraction.text import CountVectorizer\n",
    "\n",
    "vectorizer = CountVectorizer()\n",
    "reviews_train_example = [\"We like apples\",\n",
    "                   \"We hate oranges\",\n",
    "                   \"I adore bananas\",\n",
    "                   \"We like like apples and oranges\",\n",
    "                   \"They dislike bananas\"]\n",
    "\n",
    "X_train_example = vectorizer.fit_transform(reviews_train_example)\n",
    "\n",
    "print(vectorizer.get_feature_names())\n",
    "print(X_train_example.todense())\n",
    "\n"
   ]
  },
  {
   "cell_type": "code",
   "execution_count": 7,
   "metadata": {},
   "outputs": [
    {
     "name": "stdout",
     "output_type": "stream",
     "text": [
      "[[0 0 0 1 0 0 1 0 1 0]\n",
      " [0 1 1 1 0 1 0 1 0 1]\n",
      " [0 0 0 1 0 0 0 0 0 1]]\n"
     ]
    }
   ],
   "source": [
    "reviews_test_example = [\"They like bananas\",\n",
    "                   \"We hate oranges bananas and apples\",\n",
    "                   \"We love bananas\"] #New word!\n",
    "\n",
    "X_test_example = vectorizer.transform(reviews_test_example)\n",
    "\n",
    "print(X_test_example.todense())"
   ]
  },
  {
   "cell_type": "markdown",
   "metadata": {},
   "source": [
    "We should acknowledge few facts. Firstly, CountVectorizer does not take order into account. Secondly, it ignores one-letter words (this can be changed during initialization). Finally, for test values, CountVectorizer ignores words which are not in it's dictionary."
   ]
  },
  {
   "cell_type": "markdown",
   "metadata": {},
   "source": [
    "## Exercise 2 \n",
    "a) Split dataset into training and test sets.     \n",
    "b) Transform reviews into vectors using CountVectorizer. "
   ]
  },
  {
   "cell_type": "code",
   "execution_count": 8,
   "metadata": {
    "collapsed": true
   },
   "outputs": [],
   "source": [
    "#a)\n",
    "from sklearn.model_selection import train_test_split\n",
    "\n",
    "ratings_train, ratings_test, reviews_train, reviews_test = train_test_split(baby_df.rating, baby_df.review)\n",
    "\n",
    "# Here with help of train_test_split function we are splitting data into training and test sets"
   ]
  },
  {
   "cell_type": "code",
   "execution_count": 9,
   "metadata": {
    "pycharm": {
     "name": "#%%\n"
    }
   },
   "outputs": [],
   "source": [
    "#b)\n",
    "vectorizer = CountVectorizer()\n",
    "\n",
    "vector_train_rev = vectorizer.fit_transform(list(reviews_train))\n",
    "\n",
    "vector_test_rev = vectorizer.transform(list(reviews_test))\n",
    "\n",
    "# Next we use CountVectorizer() which is tool used to transform a given text into a vector of numbers. Transformation is based on\n",
    "# frequency of each word that figure in the text."
   ]
  },
  {
   "cell_type": "markdown",
   "metadata": {},
   "source": [
    "## Exercise 3 \n",
    "a) Train LogisticRegression model on training data (reviews processed with CountVectorizer, ratings as they were).   \n",
    "b) Print 10 most positive and 10 most negative words."
   ]
  },
  {
   "cell_type": "code",
   "execution_count": 10,
   "metadata": {},
   "outputs": [
    {
     "data": {
      "text/plain": "LogisticRegression(max_iter=1100)",
      "text/html": "<style>#sk-container-id-1 {color: black;background-color: white;}#sk-container-id-1 pre{padding: 0;}#sk-container-id-1 div.sk-toggleable {background-color: white;}#sk-container-id-1 label.sk-toggleable__label {cursor: pointer;display: block;width: 100%;margin-bottom: 0;padding: 0.3em;box-sizing: border-box;text-align: center;}#sk-container-id-1 label.sk-toggleable__label-arrow:before {content: \"▸\";float: left;margin-right: 0.25em;color: #696969;}#sk-container-id-1 label.sk-toggleable__label-arrow:hover:before {color: black;}#sk-container-id-1 div.sk-estimator:hover label.sk-toggleable__label-arrow:before {color: black;}#sk-container-id-1 div.sk-toggleable__content {max-height: 0;max-width: 0;overflow: hidden;text-align: left;background-color: #f0f8ff;}#sk-container-id-1 div.sk-toggleable__content pre {margin: 0.2em;color: black;border-radius: 0.25em;background-color: #f0f8ff;}#sk-container-id-1 input.sk-toggleable__control:checked~div.sk-toggleable__content {max-height: 200px;max-width: 100%;overflow: auto;}#sk-container-id-1 input.sk-toggleable__control:checked~label.sk-toggleable__label-arrow:before {content: \"▾\";}#sk-container-id-1 div.sk-estimator input.sk-toggleable__control:checked~label.sk-toggleable__label {background-color: #d4ebff;}#sk-container-id-1 div.sk-label input.sk-toggleable__control:checked~label.sk-toggleable__label {background-color: #d4ebff;}#sk-container-id-1 input.sk-hidden--visually {border: 0;clip: rect(1px 1px 1px 1px);clip: rect(1px, 1px, 1px, 1px);height: 1px;margin: -1px;overflow: hidden;padding: 0;position: absolute;width: 1px;}#sk-container-id-1 div.sk-estimator {font-family: monospace;background-color: #f0f8ff;border: 1px dotted black;border-radius: 0.25em;box-sizing: border-box;margin-bottom: 0.5em;}#sk-container-id-1 div.sk-estimator:hover {background-color: #d4ebff;}#sk-container-id-1 div.sk-parallel-item::after {content: \"\";width: 100%;border-bottom: 1px solid gray;flex-grow: 1;}#sk-container-id-1 div.sk-label:hover label.sk-toggleable__label {background-color: #d4ebff;}#sk-container-id-1 div.sk-serial::before {content: \"\";position: absolute;border-left: 1px solid gray;box-sizing: border-box;top: 0;bottom: 0;left: 50%;z-index: 0;}#sk-container-id-1 div.sk-serial {display: flex;flex-direction: column;align-items: center;background-color: white;padding-right: 0.2em;padding-left: 0.2em;position: relative;}#sk-container-id-1 div.sk-item {position: relative;z-index: 1;}#sk-container-id-1 div.sk-parallel {display: flex;align-items: stretch;justify-content: center;background-color: white;position: relative;}#sk-container-id-1 div.sk-item::before, #sk-container-id-1 div.sk-parallel-item::before {content: \"\";position: absolute;border-left: 1px solid gray;box-sizing: border-box;top: 0;bottom: 0;left: 50%;z-index: -1;}#sk-container-id-1 div.sk-parallel-item {display: flex;flex-direction: column;z-index: 1;position: relative;background-color: white;}#sk-container-id-1 div.sk-parallel-item:first-child::after {align-self: flex-end;width: 50%;}#sk-container-id-1 div.sk-parallel-item:last-child::after {align-self: flex-start;width: 50%;}#sk-container-id-1 div.sk-parallel-item:only-child::after {width: 0;}#sk-container-id-1 div.sk-dashed-wrapped {border: 1px dashed gray;margin: 0 0.4em 0.5em 0.4em;box-sizing: border-box;padding-bottom: 0.4em;background-color: white;}#sk-container-id-1 div.sk-label label {font-family: monospace;font-weight: bold;display: inline-block;line-height: 1.2em;}#sk-container-id-1 div.sk-label-container {text-align: center;}#sk-container-id-1 div.sk-container {/* jupyter's `normalize.less` sets `[hidden] { display: none; }` but bootstrap.min.css set `[hidden] { display: none !important; }` so we also need the `!important` here to be able to override the default hidden behavior on the sphinx rendered scikit-learn.org. See: https://github.com/scikit-learn/scikit-learn/issues/21755 */display: inline-block !important;position: relative;}#sk-container-id-1 div.sk-text-repr-fallback {display: none;}</style><div id=\"sk-container-id-1\" class=\"sk-top-container\"><div class=\"sk-text-repr-fallback\"><pre>LogisticRegression(max_iter=1100)</pre><b>In a Jupyter environment, please rerun this cell to show the HTML representation or trust the notebook. <br />On GitHub, the HTML representation is unable to render, please try loading this page with nbviewer.org.</b></div><div class=\"sk-container\" hidden><div class=\"sk-item\"><div class=\"sk-estimator sk-toggleable\"><input class=\"sk-toggleable__control sk-hidden--visually\" id=\"sk-estimator-id-1\" type=\"checkbox\" checked><label for=\"sk-estimator-id-1\" class=\"sk-toggleable__label sk-toggleable__label-arrow\">LogisticRegression</label><div class=\"sk-toggleable__content\"><pre>LogisticRegression(max_iter=1100)</pre></div></div></div></div></div>"
     },
     "execution_count": 10,
     "metadata": {},
     "output_type": "execute_result"
    }
   ],
   "source": [
    "#a)\n",
    "model = LogisticRegression(solver='lbfgs', max_iter=1100)\n",
    "model.fit(vector_train_rev, ratings_train)\n",
    "\n",
    "# We are creating model by using Logistic Regression which is used to predict the probability of a binary event figuring.\n",
    "# To avoid warnings (which are not meaningful, only makes output worse looking) I'm using solver and max_iter."
   ]
  },
  {
   "cell_type": "code",
   "execution_count": 11,
   "metadata": {},
   "outputs": [
    {
     "name": "stdout",
     "output_type": "stream",
     "text": [
      "Most positive words: ['lifesaver', 'saves', 'thankful', 'amazed', 'rich', 'excellent', 'worry', 'breeze', 'pleasantly', 'perfect']\n",
      "Most negative words: ['unacceptable', 'unusable', 'worthless', 'intelligent', 'useless', 'theory', 'poorly', 'disappointing', 'dissapointed', 'worst']\n"
     ]
    }
   ],
   "source": [
    "#b)\n",
    "words = list(zip(model.coef_[0], vectorizer.get_feature_names()))\n",
    "sorted_words = sorted(words, key=lambda x: x[0])\n",
    "\n",
    "most_positive_words = [word[1] for word in sorted_words[:10]]\n",
    "most_negative_words = [word[1] for word in sorted_words[-10:]]\n",
    "\n",
    "print('Most positive words:', most_positive_words)\n",
    "print('Most negative words:', most_negative_words)\n",
    "\n",
    "#hint: model.coef_, vectorizer.get_feature_names()\n",
    "\n",
    "# By using functions given in hint and few more we are creating list of 10 most positive and negative words."
   ]
  },
  {
   "cell_type": "markdown",
   "metadata": {},
   "source": [
    "## Exercise 4 \n",
    "a) Predict the sentiment of test data reviews.   \n",
    "b) Predict the sentiment of test data reviews in terms of probability.   \n",
    "c) Find five most positive and most negative reviews.   \n",
    "d) Calculate the accuracy of predictions."
   ]
  },
  {
   "cell_type": "code",
   "execution_count": 12,
   "metadata": {},
   "outputs": [
    {
     "name": "stdout",
     "output_type": "stream",
     "text": [
      "[-1 -1 -1 ... -1 -1 -1]\n"
     ]
    }
   ],
   "source": [
    "#a)\n",
    "begin = time.time()\n",
    "predictions = model.predict(vector_test_rev)\n",
    "predictions_time_to_do = time.time() - begin\n",
    "print(predictions)\n",
    "\n",
    "# We are using .predict() function to predict the labels of the data values based on our trained model. We also use function\n",
    "# time from time library to save time of evaluation for next exercise."
   ]
  },
  {
   "cell_type": "code",
   "execution_count": 13,
   "metadata": {},
   "outputs": [
    {
     "name": "stdout",
     "output_type": "stream",
     "text": [
      "[[9.93564437e-01 6.43556330e-03]\n",
      " [9.99999998e-01 1.59579556e-09]\n",
      " [9.99999880e-01 1.19526503e-07]\n",
      " ...\n",
      " [9.99814359e-01 1.85641203e-04]\n",
      " [9.94388893e-01 5.61110684e-03]\n",
      " [9.76840033e-01 2.31599670e-02]]\n"
     ]
    }
   ],
   "source": [
    "#b)\n",
    "probability_predictions = model.predict_proba(vector_test_rev)\n",
    "print(probability_predictions)\n",
    "\n",
    "#hint: model.predict_proba()\n",
    "\n",
    "# By using predict_proba() function we are getting in return array which contains lists with class probabilities for the\n",
    "# given data."
   ]
  },
  {
   "cell_type": "code",
   "execution_count": 14,
   "metadata": {},
   "outputs": [
    {
     "name": "stdout",
     "output_type": "stream",
     "text": [
      "The most positive reviews:\n",
      "1. updated 32213 After extensive research trial and error and even a class on cloth diapering at the local birth center I settled on the Grovia system and have not regretted that decision My son is now 22 months and we have been using Grovia since about 8 weeks We have lots of cloth diapering friends so I have had the chance to see lots of cloth diapers in action and I am very glad that I invested in grovia to begin with Here are the products we use why we like them and in some cases how they could be improved There is a lot of material covered in this review I am doing it this way because I wish there had been something comprehensive like this on Amazon when I was shopping for my diaper stuff If you are considering buying a Grovia system this will be helpful for you If you are looking for a comprehensive review on just one item other reviews may be more suitableOur total system consists of the followingEssentials17 Hybrid shells in a variety of prints and solids  6 velcro and 11 snapGroVia Hybrid Snap Shell Diaper Cloud One Size36 Organic Grovia InsertsGroVia Certified Organic Cotton Soaker Pad 2 PackMagic Stick diaper ointmentMagic Stick All Natural Diaper Ointment Clear Net Wt 2 ozBrabantia Pedal BinBrabantia Pedal Bin 30 Liter  with plastic inner bucket White 2876402 Ubbi diaper pail washable linersUbbi Cloth Diaper Pail Liner36 Grovia WipesGroVia Cotton Cloth Wipes 12 countDiaper DetergentTiny Bubbles Detergent Net Wt 60 oz Yellow BoxNonessentials we use these items for convenienceDiaper scraper Make My Day Two Birds Silicone Spatula and Scraper Set BlackDiaper sprayer bumGenius Diaper SprayerWipe Warmer perfectly fits grovia wipes Prince Lionheart Premium Wipe Warmer2 waterproof changing pad covers Carters Keep Me Dry Flannel Bassinet Pad Ecru24 washcloths for top layer of changing padMartex Hospitality Washcloths  24Pack White1 little pottyBABYBJOumlRN Little Potty  WhiteDisposable Biodegradable diapers for backup and travel Broody Chick 100 Natural Fully Compostable Diapers Jumbo Box Junior 265  551 lbs 96CountDisposable overnight diapers for heavy wetters Seventh Gen  Baby Overnight Diapers Stage 4 24 Count Pack of 4  96 total diapersTriple Paste Diaper Ointment for use with disposablesTriple Paste Medicated Ointment for Diaper Rash 16OunceThere are a number of items that we have tried but did not find useful and either returned donated or gave away There was quite a bit of trial and error and research that went into the above system I have only listed the items that work beautifully and will simplify your cloth diapering effortsI will jump right in with some gripesCloth diapering is not cheap and despite industry claims I have not realized cost savings in the first year as compared to buying premium disposable diapers at Costco When you add up the cost of the diapers and accessories the cost of your time doing all those extra loads of laundry or paying a diaper service the cost of the resources to wash and dry all those loads and the cost of all the special cloth friendly accoutrements necessary to care for the diapers without ruining them it really adds up If you are going to use the system for more than once child then you will realize some significant savings be sure to buy genderneutral covers if that is your intention The bigger motivation to cloth diaper at least for me is the dramatically reduced environmental impact and health benefits of cloth diapering Conventional disposable diapers are loaded with toxins that pollute the earth the workers that produce them and of course your baby Not to mention that it takes over 500 years for regular disposables to break down in the environment That means that your babies dirty diapers will still be polluting the earth when your great great great great grandchildren are born Talk about a crappy legacy to leave behindNow the good stuffI chose Grovia because of the convenience and simplicity of the whole system I knew that if I was going to cloth diaper it would need to be as simple and easy as possible even if that meant I would pay a bit more up front There is a massive amount of information about cloth diapering on the net and much of it is overly complicated Cloth diapering does not have to be complicated You can simplify things quite a bit by sticking with one brand one systemHaving said that the grovia system was too big hard and bulky for our 10 pound newborn and Grovia products are pretty trim compared to most cloth diapering systems so we ended up using disposables for the first couple of months It would look like he was sleeping on an incline because the grovia insert was so thick under his bum Other cloth brands have special newborn sized diapers and inserts but I chose not to invest the money for newborn cloth diapers that would only be used for a short time We used Broody Chick 100 compostable disposable diapers for that period and the added convenience of the disposables was great during that initial difficult phase We had some minor problems with diaper rash during that time but the Triple Paste always cleared it up in a day then we would go back to the Grovia Magic StickI breastfeed our baby so the diaper changes are more frequent than formula fed babies I wanted enough diapers to last three days I did not want to do an extra load of laundry every two days I kept adding covers inserts and wipes until I had enough to last three days hence the numbers above If I had known in the beginning how many covers and inserts were going to be required I would have saved some money by buying some of the larger Grovia combo dealsThe 30 liter Brabantia garbage pail is all steel easy to clean and self sealing no stink outside the pail and the perfect size for three days worth of Grovia wipes covers inserts and changing pads It has an inner plastic pail with handle that makes trips to the laundry room a breeze The Ubbi cloth pail liners are the only ones that fit the Brabantia pail snugly and I turn them inside out and wash them right along with the diapers I have two so they can be rotated For anyone wondering the dimensions on the Ubbi cloth pail liner are 33x17 and are NOT the size of a typical tall kitchen garbage bagI primarily used the 6 velcro covers more convenient than snaps through 11 months when our baby was finally able to figure out how to open them and they are pretty worn looking velcro tabs at this point Then I transitioned into primarily using the 9 snap covers and keeping the velcro covers only as backup Grovia has a service that will remove the velcro tabs and replace with snaps for 5 a diaper I wish they would offer a service to just replace the worn looking velcro but I am happy with the durability of ALL the covers They have held up better than I expectedOur son gets a lot of time in nature We dont worry about his clothing or diapers getting dirty if he is having a great experience The darker colors and the patterned shells hide dirt and grass soiling better than the light solid shells The gentle cloth diaper detergents arent great at getting out dirt or grass stains either If I had to do it over I would not buy any light colored solid coversWe bought some Grovia Booster pads to try before we went to the disposable overnight diapers but our guy would soak through the regular Soaker Pad and the Booster Pad and wake up with wet clothes and bedding There just wasnt enough absorbency for our breast fed baby Changing him several times a night just added to the stress of those early days so we transitioned over to the disposables for night time and have been happy with that choice ever sinceThe Grovia Magic Stick is truly brilliant It is all natural effective and does not require you to dip your fingers into diaper ointment while wrangling a diaper onto a squirming baby several times a day It also does not adversely affect the absorbency of cloth diapers they way regular ointments do Do not use the Triple paste or any regular diaper ointment with your cloth diapers The waxes and petroleum oils in regular diaper ointments coat the cotton fibers and prevent them from absorbing liquids We tried several top rated natural ointments for our occasional diaper rash but Triple Paste worked where the natural ones failed We used it sparingly whenever bumps appeared which was pretty rare compared to our disposable diapering friendsGrovia wipes are fantastic I wrote a separate review on these that compared the three types of wipes I bought Grovia wipes were the best of the three and they work with the Prince Lionheart wipe warmer perfectlyThe Prince Lionheart Premium Wipe Warmer is the perfect size for the Grovia wipes and will hold a stack of about 15 wipes folded in half and stacked We load a stack of wipes and then fill the wipe warmer with water from the tap We do not use any wipe solution and we have had very little problem with diaper rash 95 of the world cleans their bums with water alone no paper and it works beautifully We stopped using the warming function after 5 months and baby does not mind the cool wipes at all At this point it is basically a nice looking easy to sanitize box to keep the wipes moist on the counterLittle Potty We started our son on his Little Potty when he was about three months old Whenever he would cue that he was going we would take him to his potty to go Now at 12 months we take him to his potty after every meal and when he cues and he uses the potty pretty consistently It is easier to dump and rinse the little potty contents into the toilet than it is to change and wash his diapers so we encourage him to use his little potty as much as possible He gets lots of positive feedback and interaction when he makes it to the potty so he enjoys using it At 12 months he is very comfortable sitting on a potty to pee or poo We keep the Little Potty on the bathroom counter and stand with him while he is sitting on it I have seen lots of people start out with the Little Potty on the floor but if you have the counter space in your bathroom this will save your knees and back and make it easier for you to interact with your baby while on the potty In another month or two we will transition it to the floor for his useGrovia Little Bubbles diaper detergent I have used the 5 top rated diaper detergents and honestly I cant tell a lick of difference between them I do a prewash with 12 indicated amount detergent and then a full wash with extra rinse using the full amount per detergent instructions of detergent The most important thing is that you use a detergent designed for cloth diapers Regular detergents have enzymes that will deteriorate the waterproof barriers in your cloth diapers Cloth diaper detergents also do not have the dyes and perfumes that can irritate baby skin I am currently using Grovia detergent and it is at least as good as the other top rated diaper detergents I cant say that it is anymore effective at removing stains than the others My diaper inserts are stained but they are clean soft and have no smell whatsoever when they come out of the dryer I have always used cloth diaper detergent and I have never had to strip them I use 14 ounces of wool dryer balls to dry my inserts and wipes The dryer balls shaved ten minutes off the 80 minute dry cycle required to get a load of diapers dry It takes only 70 minutes with the added wool ballsBum Genius Diaper Sprayer We bought this but after reading stories of flimsy parts and flooding disasters we replaced the hose and a couple other flimsy parts with higher quality metal plumbing pieces and have not had any problems for the past yearCarters Keep Me Dry Flannel Bassinet Pad This is my mid layer on the changing pad I have three layers on my changing pad at all times Bottom Layer changing pad cover that came with the pad Middle layer Carters Keep my Dry pad Top Layer Cotton washcloth The washcloth gets changed about twice per day and does the heavy work in this set up It catches all the drips smudges and bits that accompany diaper changing The Carters catch everything else and help keep the diaper pad cover looking fresh It gets changed about once per week The changing pad cover itself gets changed about once per month This three layer set up makes it easy and fastto keep the changing pad clean and fresh All of these layers get tossed into the cloth diaper bin and are washed right along with my cloth diapersI will come back from time to time to update this review I hope it was helpful for those trying to wade through all the cloth diapering info out there and find a simple but effective set upThanks for reading\n",
      "2. We love our Vista with PiggyBack  There are answers I wrote for someone considering the PiggyBack to be shared between twins with a newborn riding  We use the PiggyBack on a 2011 Vista  I have no reason to think it would work differently with an earlier model but havent tried it How easily does the Vista maneuver with the piggyback board and bassinetcar seat toddler seatI found it an easy one handed push with my infant in carseat up until she hit the 30 inch height limit around 12 months even when my 4550 lb preschooler was on the PiggyBack  With the toddler seat forward facing rare as Ill detail below its still an easy one handed push with my 54 lb kindergartener on the PiggyBack with my almost 30 lb toddler in the toddler seat  With the seat rearfacing our typical setup DH still jogs pushed our 85lbs of kids plus 1015lbs of stuff  I find it harder to push with that much weight when the toddler seat is rearfacing and Im more likely to push our K kid to walk when hes feeling lazy and these are often distances that he walks when his sister isnt around  I will sometimes push the 100lbs and the only thing Ive tried that was easier was a double Bob with similar amounts of kid weight  On smooth surfaces I still find it easy to push even one handed How tall a child can the toddler seat accommodate I understand the canopy on the latest model is height adjustable but its not clear what the new height limit might beWhen hes allowed to sit in the seat my 45 inch kindergartener still fits in our 2012 toddler seat but barely  He is over the advertised weight limit though  We did it recently when he was tired and his sister wanted to ride the PiggyBack How tall a child can the piggyback comfortably accommodate and does the child tend to bump their headdo parents often bump their feet on the boardThe handle on the Vista goes around the childs back  I 52 could fit fine on the PiggyBack but Im worried Id break it if I rode it regularly With the PiggyBack the 55 lb weight limit is all you need to worry about  Neither me 52 nor dh 64 ever bump our feet on the piggy back  We only use it with the handle extended all the way to give the kid enough space  As I said dh runs with it regularly which I personally dont think is good for our stroller  He typically pushes it one handed when we are just walking and tends to be slightly offcenter  Im not sure if thats his style or his accommodation to the PiggyBack  When Ive asked he said hes never kicked it though Has anyone used the piggyback for two children and does the stroller handle well with two children riding the boardIve never put 2 children on the board at once  The handle goes on either side of the board and the board has a 55 lb weight limit  Im not sure there would be side to side space for 2 kids at once but I dont think the issue would be handling since it handles fine with 55 lbs of kid on the PiggyBack  I suspect you are pushing the weight limit on the PiggyBack for 2 kids to ride at once if your kids are pushing the 35 lb weight limit on the RumbleSeat individually How easy is it to switch between the bassinet and toddler seat  eg if midouting we need to carry the baby to allow an older sibling to sitYou dont have anywhere to put the bassinet or carseat if you need to switch mid outing  We put our baby in the toddler seat all the way reclined a few times pretty early and UppaBaby sells an insert for it that you could pull out if a big kid needed to ride and you wanted to wear the baby  We brought the toddler seat when we were concerned about our preschooler on the PiggyBack for a couple day long walking outings  The reality though is we never had him get too tired for the PiggyBack even when he was often too tired to walkDo you prefer the baby in the bassinet or carseat or does it not make a difference  I found the older child had more room to ride with the carseat  adaptor than the bassinet and we liked the flexibility of using the vista as our snap n go as well since its so much easier to pushWhy do you keep the toddler seat rearfacing  That seems weirdWe keep the toddler seat rearfacing because about the time we might have forwardfaced our toddler she started riding the PiggyBack as the more mobile kid in her nanny share and just because she wants to be like her big brother  At 20 months she rides the PiggyBack while he walks more often than she rides in the seat though her brother didnt give up the seat until she was born when he was 35y so each kid is different  For such a small toddler its easier to hold onto the seat with the footrest all the way up like you would for a just learning to sit up baby in the upright position than it is to hold onto the handle bars which our older preschooler did from the start  That isnt an option when the seat is forward facing  We just leave the seat rearfacing so she has her PiggyBack handrail and so when both kids are riding they can face each other and interact which they both love  If we expected her to be in the toddler seat for an extended period of time though wed probably turn it forward facingIf I could change anything about the PiggyBack Id want it designed to hold up to 75 lbs because our son would probably like the option of riding long into the future and as he nears the weight limit I can tell that the PiggyBack wheels dont roll quite as well now when hes one not an issue when its just my 20 month old daughter  That said he was 54 lbs at his last pediatrician visit and he might have gained more than a pound in the last few months when Ive noticed that its starting to get harder to push with him on the PiggyBackSeeing how much our toddler loves the PiggyBack though and the ease of adding a friend without a car has given us even more value than I expected and if I had to make the purchase again Id do it in a heartbeat\n",
      "3. If I could give this nursing cover 10 stars I would in a heartbeat I got this when I was pregnant with my 3rd baby Hes 10 weeks old now and I keep finding more and more ways to use this  First off its a wonderful nursing cover and very comfortable for me to use It completely covers me all around plus the wind cant blow it off or anything like that so it helps me stay completely modest and feel at ease with nursing while out and about The pillow helps to create just a little extra cushion that also brings the babys head up just enough that I dont always have to be trying to prop my arm up with my leg when it gets tired Theres enough room for the baby to move around without getting tangled up plus my son cant kick it off me because hes laying on the pillow which keeps the rest of the cover in place Theres a little bit of wire in the top so if you want you can pull it out a little bit when putting it on so you can see the baby but not so much that you feel anyone walking by can see everything too but I like that I can just pull the back of the cover down a bit more and take that away if I want With the wire out I can actually burp my baby underneath the cover while making sure hes getting some air His head can also fit through if I have the wire out enough which means if he wants to stay cuddled up on my chest I can bring his head out while keeping a blanket over him The first couple times you put it on it can take a little bit more as youre figuring out how it works best for you but after just one or two times its a breeze I also like how theres a pocket on one side of the pillow to tuck all the fabric in But what I love the most about this is that there really are multiple uses for itWhen my son falls asleep while nursing if hes super comfy and I dont want to put him down I can take the cover off by reaching behind me and taking it off from the back over my head and then I can put it down over my son and I can then swaddle him up in it So it works as a pillow and swaddle blanketIf hes wanting some tummy time while were out and I dont have a blanket on me I can lay this down with the outside down put his chest on the pillow with his arms over it andif its a little chillyI can use the rest of the blanket part to lay it over him to keep him warm He LOVES this So it can also be used for a tummy time blanket and pillow Another use is as a car seat cover It can get a little chilly here still so I have a nice car seat cover with elastic around the bottom to put over his car seat However sometimes I forget it or its being washed The Covillow easily drapes over it The pillow keeps is weighed down and the opening for your head comes right to where the car seat handle is so it is still easily gripped I have a snap n go stroller and when the car seat is in this I can have the pillow on the side away from the stroller handle and then on the side by the stroller handle I can tuck the fabric intoaround the stroller and it keeps it on even better which is great because it also gets really windy hereI was a little apprehensive about paying so much for a nursing cover but decided to chance it since being comfortable while nursing in public is important to me I can honestly say that I have already gotten more than my moneys worth  There are so many ways to use this and I keep finding more the longer I have it Ive already had one friend see me using it and order it for her own baby and at least two more friends who wished theyd gotten it with their kids when they were babies I highly recommend the Covillow\n",
      "4. I got this stroller for my daughter prior to the birth of her first baby Heres what she has to say about the BAgileI would give 45 stars if I could I have had the bagile since my son was born almost eight months ago and overall we are very satisfied with this stroller From my test drives of other strollers and watching my friends struggle with their more complex stroller systems it seems that every stroller has some issues  but this stroller seems about as good as they come We use it for long walks through the park quick errands in the car and when traveling I originally wanted the Uppababy Vista  I liked the idea of the bassinet and the seat switching directions I now know that I would have barely used either of these features and am thankful my father got us this stroller before we splurged on the VistaOk the pros The weight This thing is so light I easily pull it out of the trunk with one hand when I have groceries or other items in the other The foldability So easy Hit the button pull the handle Love it and do it with one hand all the time I hear that the safety button isnt on the city mini so this is an advantage of the bagile The ridesuspension are tops Smooth and comfortable for baby and momdad Works on all smooth services Not so great on gravel and grass Doesnt work on sand Maneuverability is great Also I believe that the wheel base is narrower than the city mini so easier to move through tight spaces Nice giant canopy Nice height of handle and walking clearance I am 58 husband is 6 The combo with the bsafe This may be the biggest advantage over the city mini The adaptors come with the stroller click right into place and the bsafe car seat snaps in with no effort It is so easy The adaptors are also very minimalist so we just keep them on the stroller at all times and use them when we need them The car seat adaptors for the city mini for many of the most popular car seats are big bulky and have to be taken off for folding and of course using the stroller independent of the car seat I know a couple friends that say their car seats are basically balancing on the city mini adaptor and dont feel secure at all But on the bagile the bsafe feels completely solid and secure I also didnt even think about getting a snap and go because this combo worked so well and of course you have all the benefits of an allpurpose stroller with great suspension This also allowed baby when tiny to face me which was really nice Finally the canopy of the bsafe and bagile work together to cover baby completely when the car seat is installed For people who really want a complete travel system I cant imagine a better combo than this Contrary to what another review says my bagile does stand on its own when folded just fine Great travel stroller Light enough easy to fold great travel bag for purchase separately One thing to know you have to remove the car seat adaptors for loading into the travel bag This isnt a problem for us and adds maybe 30 seconds on the jetway when we are folding our stroller for gatecheckingAnd the cons My brakes are sticky This is my biggest complaint about this stroller I frequently have to click and unclick the brakes three or four times for the brakes to release The under stroller storage area is a bit cramped My diaper bag wont fit The wheels are hard plastic rather than foam filled They seem to be holding up thus far but well see The seat back doesnt get quite upright enough for my little one The unfold latch could be easier Although the stroller is very light I cant have baby in one arm pull the stroller out of the trunk and unfold it The unfold latch is a little difficult to operate and sometimes you think youve got it and it relatches You really need two hands to unfold the stroller  which I am fine with but I know some folks love the idea of an instant unfoldAlso I bought the sunshine kids console to go with this stroller and it works great I do not need to remove when foldingNo stroller is perfect but this one is pretty great This is the only stroller we own and I havent yet felt a need to get any other type of stroller including an umbrella This one fits the bill for a great allaround stroller\n",
      "5. I was very excited when I heard Chicco was finally coming out with a double stroller I was initially against any double stroller I just didnt want to mess with it But when our daughter was 25 years and our son was four months we were taking a month long trip abroad and I knew we wouldnt be able to corral both kids without one The Cortina Together worked wonderfully for what we needed We already had a Chicco car seat and Trevi so we knew we liked Chicco And I wanted both kids to be able to sit comfortably I knew a sit and stand would be lighter but didnt want my twoyearold to have to stand or sit on an uncomfortable tiny seat all the time After hauling this thing all over Europe here is why I love this strollerYou can easily snap the Chicco car seat into it I love that you can place it in the front seat or back seat When we want more control of our toddler we place her in the back and baby in the front But when we are just enjoying a walk she loves sitting in the front to see better and hop in and out on her own It is also a great feature that the rear seat fully reclines This is nice for a napping toddler and makes a great bassinet for a sleeping babyThe basket underneath is very large and very accessible Adding the zippered front is a huge help to be able to access things even when the back seat is fully reclined I was able to easily carry diaper bags luggage groceries etc in that thing I also like that the basket stretches in front of the rear seat If our daughter dropped anything it caught it which is nice when you are running to catch a train and not keeping track of everythingThe canopies work well They arent large but the fact that they adjust so easily means you can keep your children covered from rain or keep the sun out of their eyes no matter what angle I also love having the two cup holders for mom and dad as well as the two cup holders on the front seat A con however is that there are no cup holders for the back seat And the two cup holders on the front can be switched which is nice But if you have them turned out you cant fold the canopy up when the stroller is folded and if you have them turned in you cant fold the front seat down to accommodate the car seat But this is super easy to adjust The seats move very easily as well  one hand adjustment The brakes and wheel locks are great and easy tooEven with its large size the stroller turns on a dime The handle bar adjusts easily for pushers of different heights Sometimes we found the stroller can be a little tricky to fold up  the lock only requires one hand but you have to maneuver the stroller just right to get it to collapse on itself When folded up though its not too huge  it easily fits in our Honda CVR no problem Its great for on the go easy to set up  no adjustments neededThe stroller proved to be very durable  considering we hauled it on and off planes and trains as well as up and down cobblestone streets and offroad Like others have said it is heavy but it is a double stroller thats what you get It is lighter than many options though My close friend has a Graco double and she is super jealous of our Chicco One other negative is theres no handle or really great place to grab the stroller to carry it when its folded up The feature that allows it to still roll when folded is nice but obviously doesnt help when you are going up stairsI truly love this stroller and I would highly recommend it to anyone Coming from one mommy who didnt especially want a double is only five feet tall and not very strong but realized she needed it I would never use another double stroller This is the way to go\n",
      "\n",
      "The most negative reviews:\n",
      "1. I thought it sounded great to have different tips for different body areas  But its impossible to keep my son still enough to get a reading with the underarm one and Ive gotten more Er 1 readings rectally than I have gotten temps  I know hes a squirmy kid but the tip stays in each time and the thermometer still doesnt get a reading  That makes me wonder about the accuracy of the ones it does giveEdited on 12711 to add  Today it took me 3 hours to figure out that the extremely annoying high pitched whine coming from some object in my sons room was in fact coming from this thermometer It nearly drove me insane first It had to be from the battery being dead but this was not mentioned in the instruction book I cannot stress to you enough just how headsplittinglyannoying this was I hope that whoever designed this has to listen to this sound for the rest of their natural life and that they live to be 150 I had to check everything in the general area of the sound because there wasnt any blinking light on the thermometer to call my attention to it specifically I unplugged the clock  nope not that I checked the phone line  nope not that I looked for a bullet hole from a hunter  nope not that I moved the antenna for our satellite radio  nope not that I turned off every single electronic device in the room  nope wasnt those I was finally removing every object from the room when I discovered that the thermometer was the infernal device for which I was looking The noise stopped when it hit the wall I am well known to throw like a girl but I threw this  device hard enough to pop off the battery cover no I didnt have a COIN in the bedroom of my toddler with which to turn it You have absolutely no idea how much consternation this caused in our house this morning My head is still splitting from the noise this thermometer made Our dogs still wont go upstairs I will NEVER again buy something from Safety 1st \n",
      "2. I received this pump through insurance and I figured that free is always good  I was an idiot  I started pumping when my daughter turned one month old  For the first month or so this pump worked well  I was able to get many ounces in a fairly short period of time  I was pumping about twice a day at that point morning and night to build up a stash  However shortly before my maternity leave ended this pump started making a slightly weird noise in the motor and the suction didnt seem as good  Upon my return to work last month this pump has been horrible  I pump three times a day at work and also in the morning and night for a total of 5 sessions and Im lucky if I get three ounces total at each pumping session at nearly 30 minutes a piece  Yes I spend nearly two hours every single day using this machine to get maybe 15 ounces total  At first I thought it was a supply issue and starting drowning myself in Fenugreek and Mothers Milk but then realized that this pump is the issue  Ive replaced all the tubing and valves but theres been no change  This pump sucks but unfortunately not literally  Heres a breakdown of whyPros1 Free2 Closed system means no worries about mold3 Cheaper than the comparable alternativesCons1 Motor slowly dying after 3 months of use only one month of heavy use  A common complaint from the reviews on here2 Loud Im embarrassed to pump at work3 Closed system in theory but I commonly find milk up in the diaphragm which means it can get into the tubing easy4 About twice a day I have to stop in the middle of a pumping session because the diaphragm wont fully expand  Its easily corrected by popping off the caps and repositioning them5 Milk constantly leaks from underneath flange  I have to hold a burp cloth underneath every single time I pump and even then I end up with milk on my pants at times6 Nearly impossible to use handsfree  Because the flange is attached you either have to stretch out the opening of your bra to use hands free or just dont do hands free  Even if you stretch out the opening the suction even when it was brand new and functioning at its best wasnt strong enough to keep the flanges properly in place7  Calling it a 34double34 electric is a joke  First off read 5 above  Second off the suction is so poor that trying to split the power between two makes it even more ineffective  Because of this I spend a large part of my work day pumping one side at a timeIve read reviews that state that their customer service is awesome  I plan to call them soon to address my issues but I guess because this pump is still technically 34working34 Im lazy and am trying to procrastinate on the hassle of it  Regardless if their customer service is amazing Id still rate this one star because of serious design flaws and the fact that theres no acceptable excuse why this pump is failing so miserably in such a short period time\n",
      "3. Ok the good  During the day the quality of the video is great and the sound quality is better than any other baby monitor Ive seen or heard  I also liked that it comes with a built in temperature and humidity sensor which is a smart idea and more baby monitors should incorporate thisThings I hated about this product1 On the first night of using it I accidentally left my wifi turned off on my iPhone  I left the app open and running and I ended up streaming 16 GB of data over the course the night  16 GIGABYTES  Luckily I have an unlimited data plan if my wife had made the same mistake it would have cost her somewhere on the order of 15000 in overage charges based on her data plan2 The night vision is horrible  I can barely make my daughter out and for several hours couldnt tell her head from her stuffed bunny  Its surprising how terrible the night vision is considering this is a high end product3 This device CONSTANTLY spams you with notifications and alerts  Mostly Monitoring of your baby has ended followed in two minutes by You can now monitor your baby  Apparently whenever it loses the wifi signal for a second you need to know right away and end up getting two alerts  When I wake up in the morning Ill usually have between 8 and 12 alerts so I have to mute my phone if I want to sleep which defeats the purpose of a baby monitor  Note this is after I disabled all of the alerts I could  you can configure alerts for sound in the room movement in the room temperature and humidity  I turned all of these off because otherwise you get 20 alerts an hour and even with those off I get alerts all the damn time  If my wife accidentally leaves the monitor on after my daughters nap I get spammed with dozens of alerts in the afternoons at work  This is extremely annoying4 There is a small status bar at the bottom of the screen that you cant move or get rid of  Unfortunately the way our room is set up there is no way for us to position the camera so this bar is not at least partially obscuring our daughter when she sleeps5 The video is very choppy most of the time and usually more like a series of photos every few seconds  Also there is a noticeable delay often as much as five seconds between what is happening on the camera and what is actually happening in the roomIn general this product feels half baked and like it was released in a beta version  It wouldnt take much for this to turn into a great product but its definitely not there yet  I hated this baby monitor and returned it to the store after around 10 days\n",
      "4. This is the worst stroller you can get and its unsafe for your kids We had many issues with our Kinderwagon and last night it broke down and collapsed while the twins were sitting in it They both started screaming they couldnt get out and it wouldnt open it was stuck Lucky they were not injured  I called the company three times and left voice mails for customer service I sent emails and they wouldnt respondOther quality issues beside the fact that its unsafeThe front seat the fabric was torn near the stitches and we had to send it for repair It is NOT up to 50lb as they claim maybe 15lbThe handle foam was slowly getting tornThe cup holder brokeThe rubber leg rest is a joke once the kids get bigger they push it with their feet and it pushes down on the wheels it brings the stroller to stopThe basket underneath doesnt hold much it was also torn and we sent it for repairThe canopy doesnt cover the front childThe front seat padding is so thin the neck touches the metal frameThe wheels are SO difficult to maneuver Unless you walk on a flat paved road you are going to fight this strollerThe front seat doesnt recline and there is no head rest if the front seat child is sleeping his head is hanging down and outWe bought the Kinderwagon in mid Nov 2013 now its the end of June 2014 We used it for 75 months If you saw our stroller after using it daily with twins 21 months now and they are on the small size and not too heavy you will not believe how terrible and worn off it lookedAfter it broke on the twins yesterday and no comment from the company we returned it to the store They said that they sell many of these strollers and they never heard a complain but they will call the manufacture Keep in mind that its new item in the market so it takes time for parents to react and complainWe bought it because we liked that it folds like umbrella stroller and its light and portable for two kids We paid 300 It looks too good to be true but its REALLY UNSAFE Today we bought the City Select with two child seats its not as portable but it is such a huge upgrade move so smoothly I really wish we didnt spend 75 months straggling with this horrible stroller Dont be tempted by the price it a very very low quality stroller and you may hurt your kids by using it Beware\n",
      "5. I would recommend in the strongest possible way no one ever buy this product The other reviews of this product are all too kind and they say so in their descriptions All of them point out that the product does not work smoothly or seem to do anything magically different they also seem to give 3 stars without comparing the product to anything else I have compared the product to something elsea regular trash canand the regular trash can was better And the regular trash can didnt even have a lid on it A family friend also purchased this thing and has the exact same complaints Namely that the lid gets stuck that you have to hunch over and shove the diapers into the pail and that you have to buy replacement bags every month or few weeks In the end this thing is a waste of money and is simply worse than a regular old trash can Detailed descriptions belowThe Munchkin1 There are major issues with the lid The lid is supposed to keep out odors while sprinkling a tiny really tiny amount of baking soda as you close it and initiating a mechanical twist of the bag to further seal off the odors However the lid is constantly fighting with the mechanics that twist the bag creating starting when then bag gets about half full a series of sounds reminiscent of small arms fire Crackcrack crackcrack  You will live in constant fear of a late night gun battle playing out in the childs room leading to a screaming sleepy cranky baby Closing the lid twists the top part of the bag in a ring of rubber sharklike teeth thereby closing off the bag as well However the lid will often simply get stuck open because these rubber teeth put too much pressure on the mechanics of the lid This forces you to stick your hand into the pail itself and move the bag around to relieve the pressure so the lid will close Think about ityou have to stick your hand into the very closure intended to keep odors out Very often you have to decide between fixing the lid or picking up a now grumpy baby2 The rubber teeth are a pain Often the rubber teeth create to much counter pressure to the closing of the lid and the entire process comes to a plastic cracking halt Even if the lid works correctly you still have to shove the diaper through the rubber teeth You can not just drop a diaper in instead you have to jam it through the teeth Every time you change a diaper you have to bend down and shove your hand through a set of rubber teeth two feet off the floor And two feet off the floor is correct This thing barely comes up to my kneecaps Think about iteven when working 100 correctly you have to bend over two feet and jam your fist partially through a set of rubber teeth How is that better than dropping a diaper into a bucket3 Whats the deal with the bags I meanfor serious A bag lasts you maybe 4 days at a max and more like 48 hours Munchkin wants you to fork out whatever bucks a month for replacement bags I think this is the entire reason for the mechanical twisting of the bags and not to keep in smells The tops of the bags have plastic ring you set into the top of the pail and which then snaps into place The replacement bags are only 510 bucks a box but it seems like a real scam I have tried two things A I wondered what would happen if I reused one of the Munchkin bags Nothing bad happened at all I dumped the diapers into the outside trash and put the bag back No smells no nastiness nothing bad happened at all I used the same bag for two weeks rather than two days After two weeks of us there were still no smells B I then decided to try a regular trash bag It worked fine You just have to leave a bit of the bag sticking out beyond the lid to make sure the rubber teeth dont pull the thing completely into the pail when you close the lid4 The baking soda does nothing A novel idea sure But like the twisting of the bags it seems like a gimmick The level of baking soda dropped into the bag when you close the lid is minor and the baking soda compartment is totally closed off I do not see how either is doing much to absorb odorsAlternativesThe only alternative I have used is an old plastic trash can with an open bag in it and no lid I dropped diapers in it for 5 days without emptying it No smells whatsoever Half the time it was nice out and we had the windows open The other half of the time it was 90 degrees and the air conditioning was on In both cases it worked out fine No smellsConclusionsDo not buy this munchkin monstrosity Every time you use it you will wonder if the lid will close or start making cracking noises as it struggles to twist the bag Buy a trashcan with a lid Maybe one with a step lid And if your kid makes a smelly one Empty the trash can Why would you want to keep that stuff inside a nursery anyway The munchkin is a gimmicky thing and not worth it at all It seems like a great idea but in actuality the thing does not work\n"
     ]
    }
   ],
   "source": [
    "#c)\n",
    "reviews = list(zip(probability_predictions, reviews_test))\n",
    "sorted_reviews = sorted(reviews, key=lambda x: x[0][1])\n",
    "\n",
    "most_positive_reviews = [review[1] for review in sorted_reviews[:5]]\n",
    "most_negative_reviews = [review[1] for review in sorted_reviews[-5:]]\n",
    "\n",
    "print('The most positive reviews:')\n",
    "for x, review in enumerate(most_positive_reviews):\n",
    "    print(f'{x+1}. {review}')\n",
    "\n",
    "print('\\nThe most negative reviews:')\n",
    "for x, review in enumerate(most_negative_reviews):\n",
    "    print(f'{x+1}. {review}')\n",
    "\n",
    "#hint: use the results of b)\n",
    "\n",
    "# By using results of exercise 4b) here we are creating list of 5 most positive and negative reviews."
   ]
  },
  {
   "cell_type": "code",
   "execution_count": 15,
   "metadata": {},
   "outputs": [
    {
     "name": "stdout",
     "output_type": "stream",
     "text": [
      "Accuracy of predictions equals: 0.9294761082325849\n"
     ]
    }
   ],
   "source": [
    "#d) \n",
    "from sklearn.metrics import accuracy_score\n",
    "\n",
    "predictions_accuracy_score = accuracy_score(ratings_test, predictions)\n",
    "print('Accuracy of predictions equals:', predictions_accuracy_score)\n",
    "\n",
    "# Accuracy_score function returns value of our prediction accuracy, which is about 93% which is good."
   ]
  },
  {
   "cell_type": "markdown",
   "metadata": {},
   "source": [
    "## Exercise 5\n",
    "In this exercise we will limit the dictionary of CountVectorizer to the set of significant words, defined below.\n",
    "\n",
    "\n",
    "a) Redo exercises 2-5 using limited dictionary.   \n",
    "b) Check the impact of all the words from the dictionary.   \n",
    "c) Compare accuracy of predictions and the time of evaluation."
   ]
  },
  {
   "cell_type": "code",
   "execution_count": 16,
   "metadata": {
    "collapsed": true
   },
   "outputs": [],
   "source": [
    "significant_words = ['love','great','easy','old','little','perfect','loves','well','able','car','broke','less','even','waste','disappointed','work','product','money','would','return']"
   ]
  },
  {
   "cell_type": "code",
   "execution_count": 17,
   "metadata": {},
   "outputs": [
    {
     "name": "stdout",
     "output_type": "stream",
     "text": [
      "Most positive words: ['loves', 'perfect', 'love', 'easy', 'great', 'well', 'little', 'able', 'old', 'car']\n",
      "Most negative words: ['less', 'product', 'would', 'even', 'work', 'money', 'broke', 'waste', 'return', 'disappointed']\n",
      "[-1 -1 -1 ... -1  1 -1]\n",
      "[[0.97329915 0.02670085]\n",
      " [0.97301164 0.02698836]\n",
      " [0.88690006 0.11309994]\n",
      " ...\n",
      " [0.79718743 0.20281257]\n",
      " [0.43004588 0.56995412]\n",
      " [0.75952016 0.24047984]]\n",
      "The most positive reviews:\n",
      "1. As parents of two little ones Id like to say we are experts in appreciating different baby bottle designs and what works best for baby  Heres our criteria for a baby bottle and why the purpleredesigned Lansinoh mOmma natural wave bottle is 5 stars for usOur Baby Bottle CriteriaFirst and foremostBABY MUST LIKE ITMunchkin Latch BottleFails here because the nipple easily collapses  Just a very slight pressure with your finger and the nipple collapses  Now imagine a moving baby with a slurping motion and this nipple collapses too easilyAvent Classic BottleWe have a dozen of these from our firstborn  Unfortunately our son just wont take these  We tried all of the nipple sizes from NB to level 3 he just wont take it  We had learned long ago to just get 1 bottle of each type because different babies like different bottles no rhyme or reason  Our daughter loved theseAvent Natural Flow bottlenippleHe will actually finish a full bottle with this but the bib and burp cloth will be drenched  The widerflat design means he just drools and drools  Maybe good for others but not for himDr BrownHe was colicy at first and this is the only bottle he would take without drooling  He loves them we the parents despise them because of the cleaning  6 parts to clean  But baby first and we endured this for 67 months until we discovered the Lansinoh mOmma Natural Wave bottlesLansinoh mOmma Natural Wave bottleI put asterisks around Natural Wave because Lansinoh has an older 34Lansinoh mOmma34 that is round in shape and has orange coloring  The Lansinoh mOmma natural wave bottles look like regular bottles and are purple in coloring  So make sure you are reading about the right mOmma typeThis is the only bottle in addition to the Dr Brown that he would take  No drooling we dont even need a bib or burp cloth he finishes everything and most of all it is so easy to clean  just 4 parts more on that laterAfter baby approves the next criteria isHOW EASY IS IT TO CLEANMunchkin Latch BottleThis is pretty terrible probably 1star for cleaning along with Dr Brown  The nipple is an accordion design on the bottom that is supposed to allow for easy movement and probably why it collapses so easy under suction  Well can you imagine trying to clean in between the grooves of an accordion  What a pain  Then it has this bluevent piece at the bottom of the bottle that you have to pop out and has small crevices that you cant really fit any bottle brush into not even the Munchkin baby bottle brush set  hah  Furthermore having this 34hole34 at the bottom is terrible if you soak your bottles with water because you always have to have the bluevent piece in thereAvent ClassicProbably a 2 for cleaning because it has 5 parts  It has this blue ring that is annoying to clean  We put up with it for 2 years until we switch our daughter to cow milkAvent Natural FlowProbably a 4 for cleaning because it has 4 parts  The middle nippleholder piece is designed justso that it really tears up the sponges in your bottle brushDr BrownAll parents despise cleaning them yet babyfirst and this is the bottle we used for 67 months until we discovered the new Lansinoh mOmma redesign  If I could give negative stars for cleaning a Dr Brown bottle I would  All of the small intricate parts are a pain to clean ask anyone blehLansinoh mOmma Natural Wave purple bottleWe love it 5stars for cleaning  4 simple parts that is compatible with our bottle brush nice wide design easy to assemble super easy to cleanOVERALL DESIGN THOUGHTSMunchkin Latch BottleTerrible  The lid completely covers the middlenippleholder part  This means after you have warmed up the bottle with hot water you spin and spin the lid because theres no other surface to grab and its slippery because it is wet  If you have soapy hands and are trying to unscrew the top it will spin and spin too All of the other bottles the lid restson or at least is designed such that you can easily grip and separate the caplid  Terrible to transport must use a sealing disc else it leaksAvent ClassicHas a flat top  Easy to put down the caplid and wont roll away while adding formula etc  Easy to grip just dont like the extra 34ring34 that must be cleaned  Used this for 2 years with our first one  Smallest size is 4 ounces or 125 ML  this was too little and the 9 ounce was a big leap  5 ounces would have been perfect for a long time Easy to transport no spills nothing extra requiredAvent Natural FlowSame slippery lid issue as the Munchkin but not as bad  Rolls around the counter if you take the caplid off  Smallest size is also 4 ounces125 ml  Easy to transport no spills nothing extra requiredDr BrownThe bottle we the parents despised cleaning the most but we used it for 67 months because it DID help with a colicy baby  Sometimes you gotta do what you gotta do  Smallest size is 4 ounces 120 ml but you CANNOT overfill it will leak We despise the 9ounce version of Dr Brown  too big for our bottle brush and bleh it actually makes cleaning worse if that was possible  Another terrible design is that you have to take the cap off to install a sealingdisc if you transport this  The last thing you want to do in a public place is have to take the cap off etc exposing the milk to the elements  If you put this in an insulated cooler and the bottle is not kept vertical and tips over youll have milk everywhereLansinoh mOmma Natural Wave the purple one not the orange oneThe lid is great it has a completely flat side that is easy to put down and wont roll around  Our baby can drink an entire bottle with no bib or burp cloth  The smallest size is 5 ounces which is perfect for our babys needs Easy to transport no spills nothing extra requiredBasically all the benefits of the Dr Brown but easy to clean  Baby likes it and we don8217t even use a bib or burp cloth when using this bottle\n",
      "2. PROS1 Good to grow with a toddler Its perfect for my 8 month old  an active 28 month old who will soon grow out of sitting in a seat The second seat is easy to install  will be easy to remove later when hes older2 Compact I like this stroller because its much more compact than a typical double stroller In fact it seems to be a stroller  a half which is what I wanted I had tested some other doubles and they were so bulky and heavy I questioned if theyd even fit in the back of my 4Runner The Joovy Caboose Too fits so well in my 4Runner It would also be perfectly fine when Im just using it for one child Some of the other double strollers seemed to be a ridiculous choice for later when only one child will use it3 Easy to assemble I did it myself no problem4 GREAT shade works perfect for shading both kids Its big  easy to move When youre inside you can fold it to the top  easily see the front child This was also something I was looking for My baby jogger city mini has the best shade but this one is very comparible5 Folds in one piece It folds up in one piece unlike the baby jogger city select which you have to remove one seat to fold That was a key feature in choosing the Joovy Caboose Too because of the possibility of airplane travel Easy to unfold  snaps into place6 Value for a double stroller  its a great deal I got free shipping Babies RUS and it included a free parent organizer7 Child treat tray in the front essential for my toddler Although sometimes he chooses to sit in the back which doesnt have a tray8 Tandem style the front to back allows you to easy maneuver store aisles go through doors  easily load your kids with it parked between cars Its also not so long that you feel like youre pushing a train or bus9 Other positive features the straps are easy to use  adjust They seem to hold the child fine The seats recline which is also good The material seems very easy to clean  durableCONS1 The biggest negative is the frame doesnt feel that sturdy We have a baby jogger city mini single  absolutely LOVE that stroller The Joovy Caboose Too is a little more wobbly when walking on streets If theres an even slight slope from street to curbside then it pulls towards the slope That appears to be a result of the frame  not the wheels or shocks My husband also commented on the wobbly  nonsturdy feeling I will say that my purposes were to go to the mall  do walks not runs For the most part it works fine but the frame is the only reason I didnt give it 5 stars2 Folding It does require 2 hands to fold up It folds best when front wheels are locked so it does seem to be a step process3 When the second seat is installed  a child is sitting in that seat  the storage basket becomes pretty useless When my 28 month old sits in the back his feet are basically in the storage basket You can however put things on the step platform on the back Thats handy to do when shopping I use a mommy hook and hang the diaper bag from the handle Not sure they recommend that but my bag is not too heavy4 The push handle is not adjustable  seems a little high Im 54 but it actually doesnt bother meThats pretty much it I think its a great value for such a compact yet very usefully designed stroller\n",
      "3. Background Ive been using Grovia diapers for four years when I bought them they were called grobaby I have 6 shells and 12 inserts I purchased them for my oldest daughter and used them only part time for 25 years until she was potty trained She still needed pullups at night for a long time so I used these until she was ready to go without She was probably 30lbs when she stopped wearing them and they fit well They were stored for a year until I had my other daughter who is now 55 months and exclusively CDd I didnt use them for either girl until about a month old since I had tiny babiesPros Theyre mostly organic When they were new they were so soft and thick Now theyre definitely worn in and not so soft anymoreI love how easy they are to use As a first time CDer these were perfect Just snap the inserts in strap on baby Easy for pretty much anyone No stuffing unstuffing folding etcI love that Im able to reuse the shells a couple of times until theyre stinky or pooped in or too wet Some people didnt find this to be true but after four years of use I can confidently say its possible and happens often for meI find them easy to wash and love that the insert and shell are separate since I machine dry the inserts and line dry the shells which has helped to prolong their life Contrary to some reviews I dont find it difficult to clean poop from shells It just agitates out of the mesh in the washing machineOne size Although I didnt use these diapers for my tiny babies they are absolutely a birth to potty training diaper My oldest was 30lbs when she stopped wearing them almost four yrs old She has always been a small kid with no chunk though so Im not sure how long a thicker baby could wear them forDesigns and colours are cute nothing obnoxious and I like that the snaps match the shell colour Makes all those snaps less noticeable The snaps are very well made and strong not one has come loose or fallen offVersatile Not only can you use one shell multiple times before needing to wash it but you can also use the shells as covers for prefolds and other diapers needing covers I used prefolds quite a bit during my daughters first few months can get a more custom fit on tiny babies and I found them to be extra soft on that delicate new skin I didnt bother buying a bunch of sized covers for my prefolds and used the grovia shells instead They worked perfectlyGreat for travelshopping etc You can leave the house with an extra shell and a few inserts instead of 34 whole diapers since the shells can be reused Ive been out with only one shell before and I was glad I had these I quickly rinsed the poop out of the shell dried under the air drier in a public bathroom and snapped in a new insert in less than 5 minutesSoft shells soft elastic on the legs very few red marksFew blowouts or leaks Ive only experienced a few leaks and I think this is mainly because some inserts were too long for the shell in its smallest setting When the shell went up in size the issue was fixed Also the aplix tabs Velcro stuff makes these diapers super custom and snug great for putting a CD on a squirmy baby The aplix also happens to be a conCons the Velcro tabs This is probably due to the fact that theyre 4 years old but the tabs are starting to curl up and not stick so well This only began to happen but may have began sooner if I had CDd exclusively the first time I can switch them out for snaps so I may do that eventually since the rest of the shell is in perfect conditionHolds stink The inserts are still in good condition but Ive had problems with the nasty ammonia smell They really seem to hold the stink so stripping and a religious wash routine has been key to keep them fresh smelling Maybe this has been my own fault because I had no idea what I was doing in the beginning but who knowsI sun bleach them regularly so they still look good but they need to be machine dried for at least 20 minutes to stay softAbsorbency My biggest issue with these diapers is that they arent absorbent enough My kids are heavy wetters so Ive never been able to use these at night Even with the booster Also when wet the inserts ripple up or buckle and dont seem very comfortable My babys bum gets red marks on it if left on too long from the ripples of the top layer of the insert I use the bumgenius freetimes with microfiber inserts at night and have no issues Although Id rather have a natural fabric next to my daughters bum at night the microfiber wicks the moisture away so well and we dont have to double upConsistency On the smallest size some inserts are too long for the rise of the diaper and poke out which can cause leakage The inserts arent uniform in size which isnt a huge issue but some are longer or wider than others which is just a bit annoyingOn the bulky side My bumgenius freetimes are less bulky but not by much This doesnt bother me too much since it makes perfect sense that a cloth diaper be bulkier than an uber trim disposableVerdict love them enough to buy more but would probably get the snaps next time I love that Velcro is easier to use but the diapers would last much longer with snaps Im also curious as to how the new grovias compare to the old ones I very much recommend these\n",
      "4. I was very excited when I heard Chicco was finally coming out with a double stroller I was initially against any double stroller I just didnt want to mess with it But when our daughter was 25 years and our son was four months we were taking a month long trip abroad and I knew we wouldnt be able to corral both kids without one The Cortina Together worked wonderfully for what we needed We already had a Chicco car seat and Trevi so we knew we liked Chicco And I wanted both kids to be able to sit comfortably I knew a sit and stand would be lighter but didnt want my twoyearold to have to stand or sit on an uncomfortable tiny seat all the time After hauling this thing all over Europe here is why I love this strollerYou can easily snap the Chicco car seat into it I love that you can place it in the front seat or back seat When we want more control of our toddler we place her in the back and baby in the front But when we are just enjoying a walk she loves sitting in the front to see better and hop in and out on her own It is also a great feature that the rear seat fully reclines This is nice for a napping toddler and makes a great bassinet for a sleeping babyThe basket underneath is very large and very accessible Adding the zippered front is a huge help to be able to access things even when the back seat is fully reclined I was able to easily carry diaper bags luggage groceries etc in that thing I also like that the basket stretches in front of the rear seat If our daughter dropped anything it caught it which is nice when you are running to catch a train and not keeping track of everythingThe canopies work well They arent large but the fact that they adjust so easily means you can keep your children covered from rain or keep the sun out of their eyes no matter what angle I also love having the two cup holders for mom and dad as well as the two cup holders on the front seat A con however is that there are no cup holders for the back seat And the two cup holders on the front can be switched which is nice But if you have them turned out you cant fold the canopy up when the stroller is folded and if you have them turned in you cant fold the front seat down to accommodate the car seat But this is super easy to adjust The seats move very easily as well  one hand adjustment The brakes and wheel locks are great and easy tooEven with its large size the stroller turns on a dime The handle bar adjusts easily for pushers of different heights Sometimes we found the stroller can be a little tricky to fold up  the lock only requires one hand but you have to maneuver the stroller just right to get it to collapse on itself When folded up though its not too huge  it easily fits in our Honda CVR no problem Its great for on the go easy to set up  no adjustments neededThe stroller proved to be very durable  considering we hauled it on and off planes and trains as well as up and down cobblestone streets and offroad Like others have said it is heavy but it is a double stroller thats what you get It is lighter than many options though My close friend has a Graco double and she is super jealous of our Chicco One other negative is theres no handle or really great place to grab the stroller to carry it when its folded up The feature that allows it to still roll when folded is nice but obviously doesnt help when you are going up stairsI truly love this stroller and I would highly recommend it to anyone Coming from one mommy who didnt especially want a double is only five feet tall and not very strong but realized she needed it I would never use another double stroller This is the way to go\n",
      "5. I should probably start out by saying that I am a stroller junkie The Peg Perego GT3 is at last count my 16th stroller And it is by far the most luxurious one I have used yet Seriously I think it might be almost perfect Ill explain why only 4 stars in a minuteThis stroller is serious luxury It pushes like a dream and is FAR lighter than the Phil and Teds or any sidebyside double that I have tried It runs SO smoothly even over rough terrain that my alwaysawake oneyearold usually passes out in the first 10 minutes And the front wheel never jams or catches a problem I had with BOTH my Phil and Teds Vibe and Sport models And for jogging it practically goes by itself I do agree that the front wheel wobbles a bit when you get going but that is why you are supposed to lock it  and the lock mechanism is SO handy  you dont have to crouch down at the front of the stroller its right there in front of your knee Which is also nice when you want to switch back and forth  for example when you are out for a leisurely walk and your fouryearold takes off on his bikeThe other feature I love and love about all the Peg strollers is the sun visor It pulls all the way down to the bumper bar Which is great because your child is never facing into the glare of the sun AND if you forget your rain cover your little one generally will stay dry tooThe second seat on this stroller is genius Its so compact and light that its really easy to switch the stroller between double and single  even while out and about the GT3 for two is the same as the single you just have a second seat that zips into the storage basket When in single mode the storage basket is HUGE and I love how it folds up to keep your stuff secure and to make space for the rideonstep My older son doesnt always want to be seen riding in the stroller and likes the surfboard expressly for that purpose I also like that it is a little more difficult for him to climb in and out of the Peg backseat With my Phil and Teds both my kids could easily swing their legs out and try to climb out and then get tangled in their straps I also LOVE LOVE LOVE the longer handlebars When both kids are in there is not a lot of storage but with the GT3 you still have room to hang your diaper bag along with the parent console that comes with itThe only things I dont love about this stroller are and thus 4 stars instead of 51 lack of a food tray for the kids It would be SO easy to have this as an addition and it would make it that much more perfect The cup holders on the side are okay but for a big stroller it just makes it that much wider2 It is a BIG stroller I am 56 and can lift it easily enough but my Mom who is 52 cannot lift it in and out of the car by herself And its a bit cumbersome when folded My solution for this is to keep an old Pliko in my trunk and use the GT3 for daytoday travels without the car or to only put it in the car for longer missions like to the zoo or cottage where I will need it all day Would be totally fine with an SUV but for a regular car its bit challengingThat being said I cannot understand the other negative reviews I seriously dont believe anymore that there is ONE perfect stroller out there but for a double stroller that can be used as a jogger this one is pretty close\n",
      "\n",
      "The most negative reviews:\n",
      "1. I recieved this chair as a gift my husband put it together and we decided to return it in minutes The front side wasnt painted or finish the cushions were not even an inch thick and extremely hard and overall this looked and felt extremely cheap Very disappointed in this purchase Do not waste your money on this chair you will only be disappointed Also doesnt have a lock for when chair isnt in use so your little one is likely to get their fingers caught in it\n",
      "2. I received this glider and it was broke and wood was chipped off on the seat  It looked like it was poorly packaged since the two glider bases were side by side without foam between them  Amazon would not let me choose a preprinted return label as one of my options for return  I could only take it to UPS  The box was huge and heavy and very difficult to transport  It cost 86 to return well over the 34 Amazon said they would reimburse  I am now waiting to see if I will get the full amount refunded when my return was recieved by Amazon  I was very unhappy with what I had to go through when the chair was broken when received\n",
      "3. I added this product Dr Browns BPA Free Deluxe Gift Set to my baby registry that I created prior to my baby being born A friend purchased and gave me this gift set at my baby shower I was really excited because this is an expensive item and I have heard from many friends that Dr Browns are great for babies that have colic or gas problems I also figured that I would just buy a single Dr Browns bottle to test and make sure my baby liked it once he arrived and if he didnt I could return the set for a credit or a different bottle set Well  turns out my baby does not like the nipple type on these Dr Brown bottles he likes a wider base nipple But when I went to return this item I discovered that because it was purchased from Uncle Festers Attic I would have to work with them not Amazon on the return Uncle Festers Attic refused to help me with any kind of return for credit or another item and just stopped returning my emails about this issue DO NOT purchase anything from Uncle Festers Attic unless you are 100 sure you do not need to return it They are unhelpful and unprofessional  even stooping to ignoring repeated emails to try to figure out some sort of compromise Now I am stuck with a great expensive bottle set still in the box never opened that my baby will not use What a waste\n",
      "4. This is a long review but if you read the whole thing it may save you some money and frustration If you just want to read the bit about the Bottles jump down to the 6th Paragraph and read from thereI used Avent products with my first child 5 years ago and was absolutely thrilled Back then I was a solomother on welfare so the cost was a real struggle for me but I was so thrilled with the product that I found the money to buy the things I needed for my childFive years on and oh how things have changed This time around I am married and have the funds to be able to buy whichever brand I want without money being a consideration So I eagerly stocked up on all things Avent I bought the 4 oz bottles 9 oz bottles disposable bottle kit Isis Electric Breast Pump pacifiers Bottle  Food Warmer Bottle Tote Formula Dispeser Microwave Steam Steriliser  the whole shebangThe first thing to go wrong was the Isis Breast Pump US150 from BabiesRUs It would work fine for anywhere between 2 and 10 minutes and then the suction would slack off and the rhythm would go out of whack stopping the flow of milk from my breast I would then have to turn off the machine and pump manually instead or be left only partially expressed I was reliant on the pump to take off my milk as my baby would not latch and I really wanted to keep giving her breast milk When the machine broke down I contacted Avent and asked for a refund as I was going to have to replace the machine Avent told me that it was a nonrefundable item but if I waited a week they would send out a label for me to ship the pump back to them and then IF THEY FOUND A FAULT they would then repair it and return it to me They said it would take 24 weeks And what was I to do without a breast pump for a month I asked The lady on the phone suggested that I purchase their manual pump to use in the meantime and boasted that it would only cost me about US50 Needlesstosay I lost a lot of money on this and was absolutely furious I threw the worthless pump in the trash and ended up 100 formulafeeding my babyThen there were issues with some of the nipples tearing and they were less than a month old I figured this was just my misfortune so rather than make a fuss about it I simply replaced the nipples at my own expenseNext came the distorted bottles I noticed one day that the plastic of one of the 4 oz bottles was warped I thought it a little odd but again thought that I had probably just caught a wonky batch and didnt think too much about it Then another bottle warped and another and another and another  fairly soon I had 5 warped bottles some 4 oz some 9 oz Enough was enough I called Avent again and complained only to have the woman on the phone tell me that I mustnt have read the instrustions on the MICROWAVE STEAM STERILISER properly The woman asked me to confirm the wattage of my microwave the amount of time I was putting the bottles in for and how much water I was using 900W 5 minutes 200 mls After telling her she confirmed that yes that was all correct but she still said that I must have been doing something wrong during the sterilising processThe lady sent me out a label to send the bottles back to them for testing She said that once the bottles had been tested then they would get back to me Well while waiting for the label to arrive I ensured that I absolutely was following the instructions correctly when I used the Steriliser but I still managed to have two more bottles warp on me giving me a total of 7 warped bottles to returnI finally got the label and sent the bottles back About a week later Avent called and said that the tests showed I had overloaded the Steriliser and that had caused the bottles to warp She said that as a oneoff courtesy they would replace the five 9oz bottles I pointed out to her that I had stacked the Steriliser as told to do so in the illustrations of the instruction booklet and when I asked about the two 4 oz bottles I had also returned she denied that they had received them even though I put them all in the package myself and refused to discuss the matter any further So I have lost 2 bottles and have a steriliser that apparently likes to melt bottles regardless of how cautious I am about follwing the directionsThe other things I have had issues with are the pacifiers and the Bottle Tote The pacifiers had a hard edge on the silicone which was very uncomfortable for my newborn I ended up replacing these with a different brand as Avent wanted me to return the pacifiers to them at my own expense before they would consider replacing them The Bottle Tote packaging states that it will keep bottles warm or cold for up to 4 hours This is more like up to 2 hours but even that is dubious In order to get the bottles hot enough to stay warm for 4 hours it would have to be boiling water but if you put boiling water into the bottles the pressure becomes too much for them to handle so thats not an option I have ended up throwing out the Bottle Tote which cost me 15 and purchasing a midsize Thermos I put the water of about the right temperature into the Thermos and take empty bottles with me I even use the Thermos at home so that I do not have to wait for the Avent Bottle Warmer to hurry up and do its thing at 3amI also have the Via Nurser Kit and addtional containers but have found that the lids sometimes do not seal properly and therefore leak Very annoying especially when you had premixed formula in the container your baby is hungry and youre an hour drive from homeI am absolutely disappointed with Avent Almost every product of theirs that I have purchased this time around has been defective in one way or another and their cutomer service level has been absolutely pathetic They have obviously never heard the customer is always right because the have continually placed the blame solely on me for the issues that I have hadAvent used to be a great company with a great product and now it seems that they are simply relying on their good reputation of the past to carry them through the future Its not good enough Their products are NOT worth the money anymore and I strongly recommend that no one buy any of their products There are tons of very good better products available on the market and I will be replacing all of my Avent equipment with another brand as soon as I can I noticed while at Target the other day that Circo are now making wide neck bottles that look exactly like the Avent ones but at almost half the price  I think Ill give them a go Maybe you should too\n",
      "5. Looks really cute however the cloth smells funny and gave my baby some rash after 15 mins wearingRequested a return need to pay 25 restocking fee plus shipping25 order maybe 5 back eventuallyAlso the return must be brand new condition Really UnbelievableDo yourself a favor and See the return policy by yourself before making an orderHelloBelow is return instructions this item must not be worn or used or the return will not be refundedThank you for ordering from us Here is your RMA as well as return instructions All returns must be in brand new original condition Please read our return policy Return policy link is provided for you in this emailAll refunds issued are determined by the outcome of inspections Any return of costumes used worn signs of pet hair human hair or washed will void all refund All boxes for shoes NEED to be unmarked and in original condition ALL returns NEED to be in original packaging to qualify for an authorized returnPlease note If you are returning a costume and need a different size we suggest that you place a new order for the item you need This will insure that you get the item quicker If you order from us simply email us your new order and we will waive the restocking fee on your returnsReturn Instructions ALL RETURNS NEED TO BE IN ORIGINAL PACKAGINGItems MUST BE POSTMARKED WITHIN 3 DAYS of  RECEIVING RMA TodaySimply repackage itemon the outside of the packaging please write RMAWe do not cover shipping so please feel free to use any shippingmethod you likeItem is also subject to a 25 restocking fee and all incurred shipping costs associated  with this returnShip to Brands on Sale\n",
      "\n",
      "Accuracy of predictions equals: 0.8682114757244291\n"
     ]
    }
   ],
   "source": [
    "#a)\n",
    "ratings_train, ratings_test, reviews_train, reviews_test = train_test_split(baby_df.rating, baby_df.review)\n",
    "\n",
    "vectorizer = CountVectorizer(vocabulary=significant_words)\n",
    "vector_train_rev = vectorizer.fit_transform(list(reviews_train))\n",
    "vector_test_rev = vectorizer.transform(list(reviews_test))\n",
    "\n",
    "model = LogisticRegression()\n",
    "model.fit(vector_train_rev, ratings_train)\n",
    "\n",
    "words = list(zip(model.coef_[0], vectorizer.get_feature_names()))\n",
    "sorted_words = sorted(words, key=lambda x: x[0])\n",
    "\n",
    "most_positive_words = [word[1] for word in sorted_words[:10]]\n",
    "most_negative_words = [word[1] for word in sorted_words[-10:]]\n",
    "\n",
    "print('Most positive words:', most_positive_words)\n",
    "print('Most negative words:', most_negative_words)\n",
    "\n",
    "begin = time.time()\n",
    "predictions_small = model.predict(vector_test_rev)\n",
    "predictions_small_time_to_do = time.time() - begin\n",
    "print(predictions_small)\n",
    "\n",
    "probability_predictions = model.predict_proba(vector_test_rev)\n",
    "print(probability_predictions)\n",
    "\n",
    "reviews = list(zip(probability_predictions, reviews_test))\n",
    "sorted_reviews = sorted(reviews, key=lambda x: x[0][1])\n",
    "\n",
    "most_positive_reviews = [review[1] for review in sorted_reviews[:5]]\n",
    "most_negative_reviews = [review[1] for review in sorted_reviews[-5:]]\n",
    "\n",
    "print('The most positive reviews:')\n",
    "for x, review in enumerate(most_positive_reviews):\n",
    "    print(f'{x+1}. {review}')\n",
    "\n",
    "print('\\nThe most negative reviews:')\n",
    "for x, review in enumerate(most_negative_reviews):\n",
    "    print(f'{x+1}. {review}')\n",
    "\n",
    "predictions_small_accuracy_score = accuracy_score(ratings_test, predictions_small)\n",
    "print('\\nAccuracy of predictions equals:', predictions_small_accuracy_score)\n",
    "\n",
    "# Here we are doing the same things as we made in previous exercise but just changing some things to make it all suitable\n",
    "# for smaller dictionary. As we can see we are getting much worse accuracy of predictions than we got previously for bigger\n",
    "# dictionary."
   ]
  },
  {
   "cell_type": "code",
   "execution_count": 18,
   "metadata": {},
   "outputs": [
    {
     "name": "stdout",
     "output_type": "stream",
     "text": [
      "Word love has impact 1.39464\n",
      "Word great has impact 0.93729\n",
      "Word easy has impact 1.18922\n",
      "Word old has impact 0.08672\n",
      "Word little has impact 0.49968\n",
      "Word perfect has impact 1.47738\n",
      "Word loves has impact 1.68581\n",
      "Word well has impact 0.51642\n",
      "Word able has impact 0.18310\n",
      "Word car has impact 0.07277\n",
      "Word broke has impact 1.63485\n",
      "Word less has impact 0.17046\n",
      "Word even has impact 0.53084\n",
      "Word waste has impact 1.92660\n",
      "Word disappointed has impact 2.36668\n",
      "Word work has impact 0.63175\n",
      "Word product has impact 0.32060\n",
      "Word money has impact 0.94596\n",
      "Word would has impact 0.34181\n",
      "Word return has impact 2.09393\n"
     ]
    }
   ],
   "source": [
    "#b)\n",
    "for word, coeff in zip(vectorizer.get_feature_names(), model.coef_[0]):\n",
    "    print('Word {0} has impact {1:.5f}'.format(word, abs(coeff)))\n",
    "\n",
    "# Here we can see what impact every word from our smaller dictionary had."
   ]
  },
  {
   "cell_type": "code",
   "execution_count": 19,
   "metadata": {},
   "outputs": [
    {
     "name": "stdout",
     "output_type": "stream",
     "text": [
      "+--------------------+---------------------------+-------------------------------+-------------------------------------------------+\n",
      "|                    | Dictionary with all words | Dictionary with limited words | All words difference with limited dictionary by |\n",
      "+--------------------+---------------------------+-------------------------------+-------------------------------------------------+\n",
      "|      Accuracy      |           92.95%          |             86.82%            |                  6.13% / 1.07x                  |\n",
      "| Time of evaluation |          12.04ms          |             2.38ms            |                  9.66ms / 5.05x                 |\n",
      "+--------------------+---------------------------+-------------------------------+-------------------------------------------------+\n"
     ]
    }
   ],
   "source": [
    "#c)\n",
    "from prettytable import PrettyTable\n",
    "accuracy_all = predictions_accuracy_score * 100\n",
    "accuracy_limited = predictions_small_accuracy_score * 100\n",
    "accuracy_diff = accuracy_all - accuracy_limited\n",
    "accuracy_diff_x = accuracy_all / accuracy_limited\n",
    "time_all = predictions_time_to_do * 1000\n",
    "time_limited = predictions_small_time_to_do * 1000\n",
    "time_diff = (time_all - time_limited)\n",
    "time_diff_x = time_all / time_limited\n",
    "\n",
    "t = PrettyTable(['', 'Dictionary with all words', 'Dictionary with limited words', 'All words difference with limited dictionary by'])\n",
    "t.add_row(['Accuracy', f'{accuracy_all:.2f}%', f'{accuracy_limited:.2f}%', f'{accuracy_diff:.2f}% / {accuracy_diff_x:.2f}x'])\n",
    "t.add_row(['Time of evaluation', f'{time_all:.2f}ms', f'{time_limited:.2f}ms', f'{time_diff:.2f}ms / {time_diff_x:.2f}x'])\n",
    "print(t)\n",
    "\n",
    "#hint: %time, %timeit\n",
    "\n",
    "# As we can see in simple table shown below using dictionary with all words has about 6% better accuracy of prediction\n",
    "# but on the other hand it is also about 5x times slower to predict it than on dictionary with only 20 words.\n"
   ]
  }
 ],
 "metadata": {
  "anaconda-cloud": {},
  "kernelspec": {
   "display_name": "PyCharm (Analityka)",
   "language": "python",
   "name": "pycharm-ce64a35d"
  },
  "language_info": {
   "codemirror_mode": {
    "name": "ipython",
    "version": 3
   },
   "file_extension": ".py",
   "mimetype": "text/x-python",
   "name": "python",
   "nbconvert_exporter": "python",
   "pygments_lexer": "ipython3",
   "version": "3.9.6"
  }
 },
 "nbformat": 4,
 "nbformat_minor": 4
}