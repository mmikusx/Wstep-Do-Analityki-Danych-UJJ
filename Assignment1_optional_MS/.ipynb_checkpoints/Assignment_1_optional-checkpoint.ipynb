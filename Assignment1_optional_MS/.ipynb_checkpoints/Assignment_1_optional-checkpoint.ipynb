{
 "cells": [
  {
   "cell_type": "code",
   "execution_count": null,
   "metadata": {
    "collapsed": true,
    "pycharm": {
     "is_executing": true,
     "name": "#%%\n"
    }
   },
   "outputs": [],
   "source": [
    "# importing libraries used in cells below\n",
    "import pandas as pd\n",
    "import numpy as np\n",
    "import matplotlib.pyplot as plt\n",
    "import seaborn as sb\n",
    "import plotly.express as px\n",
    "import textwrap\n",
    "from palettable.colorbrewer.qualitative import Pastel1_7\n",
    "import warnings\n",
    "# command to ignore one warning about deleting one option in future versions of one library\n",
    "warnings.simplefilter(action='ignore', category=FutureWarning)"
   ]
  },
  {
   "cell_type": "markdown",
   "metadata": {},
   "source": [
    "## Assignment 1 - Stackoverflow survey from 2022 - optional dataset"
   ]
  },
  {
   "cell_type": "markdown",
   "metadata": {
    "pycharm": {
     "name": "#%% md\n"
    }
   },
   "source": [
    "### Loading data from csv\n",
    "\n",
    "First of all, I will just load data from csv file with survey schema, results and list of European\n",
    "countries which will be used later. On results I will use use .head() function to load first 5\n",
    "records (which is made by default but we can change the number by enteringit between brackets)."
   ]
  },
  {
   "cell_type": "code",
   "execution_count": null,
   "metadata": {
    "pycharm": {
     "is_executing": true,
     "name": "#%%\n"
    }
   },
   "outputs": [],
   "source": [
    "df = pd.read_csv('survey_results_public.csv')\n",
    "df_schema = pd.read_csv('survey_results_schema.csv')\n",
    "eu_countries = pd.read_csv('Countries-Europe.csv')\n",
    "df.head()"
   ]
  },
  {
   "cell_type": "markdown",
   "metadata": {},
   "source": [
    "Now I will take a look on number of rows and columns in this loaded data (number of columns\n",
    "should be equal to the number given in cell above)"
   ]
  },
  {
   "cell_type": "code",
   "execution_count": null,
   "metadata": {
    "pycharm": {
     "is_executing": true,
     "name": "#%%\n"
    }
   },
   "outputs": [],
   "source": [
    "print('Number of rows', len(df.index))\n",
    "print('Number of columns', len(df.columns))"
   ]
  },
  {
   "cell_type": "markdown",
   "metadata": {},
   "source": [
    "I will start presenting some information from this survey by analyzing the distribution of respondents age.\n",
    "\n",
    "## Age of respondents\n",
    "As we can see on chart below most respondents are in the age between 25 and 34 years old\n",
    "and the second-largest group is between 18 and 24 years old.\n",
    "It shows that respondents are mostly looking for answers during learning how to code or\n",
    "for example looking for problem solutions in their first job."
   ]
  },
  {
   "cell_type": "code",
   "execution_count": null,
   "metadata": {
    "pycharm": {
     "is_executing": true,
     "name": "#%%\n"
    }
   },
   "outputs": [],
   "source": [
    "age_counts = df[\"Age\"].value_counts()\n",
    "print(age_counts)\n",
    "# Because it was a survey then we had only few response options so we can count\n",
    "# the number of responses for each option by using .value_counts() function and\n",
    "# then print a counted values in the decreasing order.\n",
    "\n",
    "fig = px.bar(age_counts, title=\"Age of respondents\")\n",
    "# For only a few options in survey we can use simple bar chart.\n",
    "\n",
    "fig.update_layout(\n",
    "    xaxis_title = \"Age\",\n",
    "    yaxis_title = \"Frequency\",\n",
    "    title_x = 0.5,\n",
    "    showlegend = False\n",
    ")\n",
    "# Preparing chart options\n",
    "\n",
    "fig.show()\n",
    "# Showing the complete chart"
   ]
  },
  {
   "cell_type": "markdown",
   "metadata": {},
   "source": [
    "## Respondents' gender\n",
    "Another basic information about respondents shows that this website is mostly used\n",
    "by men. Personally, I thought there will be more women, and it is a little shocking."
   ]
  },
  {
   "cell_type": "code",
   "execution_count": null,
   "metadata": {
    "pycharm": {
     "is_executing": true,
     "name": "#%%\n"
    }
   },
   "outputs": [],
   "source": [
    "# I am separating options which were given by respondent because I had responds like\n",
    "# Man;Or in your own words\n",
    "genders = df['Gender'].str.get_dummies(';').sum()\n",
    "data = genders.sort_values(ascending=False).head(4)#count the number of women and men\n",
    "\n",
    "# Creating white circle to make pie chart looking like donut chart\n",
    "white_circle = plt.Circle( (0,0), 0.4, color='white')\n",
    "\n",
    "data.plot(kind='pie', autopct='%1.1f%%', colors=Pastel1_7.hex_colors)\n",
    "p = plt.gcf()\n",
    "p.gca().add_artist(white_circle)\n",
    "\n",
    "plt.title('Percentage of respondents gender', loc='center', x=1, y=0.95)\n",
    "plt.ylabel('')\n",
    "\n",
    "plt.show()"
   ]
  },
  {
   "cell_type": "markdown",
   "metadata": {},
   "source": [
    "## Country of responders\n",
    "From the chart below we can see that almost every fifth stackoverflow is from the USA, and they\n",
    "are the biggest group. The second-biggest group is from India. What is interesting that Poland\n",
    "users are 8th biggest group worldwide and 4th european, it shows that in our country we have big\n",
    "group of people interested in coding."
   ]
  },
  {
   "cell_type": "code",
   "execution_count": null,
   "metadata": {
    "pycharm": {
     "is_executing": true,
     "name": "#%%\n"
    }
   },
   "outputs": [],
   "source": [
    "# Function to display values on bar\n",
    "def addValuesOnBar(x,y):\n",
    "    for i in range(len(x)):\n",
    "        plt.text(i, y[i]//2, y[i], ha = 'center')\n",
    "\n",
    "# Function to wrap text in x labels to make chart better looking\n",
    "def wrap_labels(ax, width, break_long_words=False):\n",
    "    labels = []\n",
    "    for label in ax.get_xticklabels():\n",
    "        text = label.get_text()\n",
    "        labels.append(textwrap.fill(text, width=width,\n",
    "                      break_long_words=break_long_words))\n",
    "    ax.set_xticklabels(labels, rotation=0)\n",
    "\n",
    "# Preparing data to make chart\n",
    "countries_counts = df['Country'].value_counts().head(14)\n",
    "countries_counts_sum = sum(df['Country'].value_counts())\n",
    "countries_counts_by_percent = (countries_counts * 100) / countries_counts_sum\n",
    "\n",
    "ax = countries_counts_by_percent.plot(kind=\"bar\", figsize=(15,6), edgecolor=None, color=\"steelblue\")\n",
    "plt.ylabel(\"Respondents %\")\n",
    "plt.title(f\"Respondents % by Country: Total {df['Country'].dropna().shape[0]}\")\n",
    "plt.xticks(fontsize=10)\n",
    "addValuesOnBar(countries_counts.head(14), countries_counts_by_percent.round(1))\n",
    "wrap_labels(ax, 12)"
   ]
  },
  {
   "cell_type": "code",
   "execution_count": null,
   "metadata": {
    "pycharm": {
     "is_executing": true,
     "name": "#%%\n"
    }
   },
   "outputs": [],
   "source": [
    "# Looking if respondent is from Europe\n",
    "inEurope = df[df['Country'].isin(eu_countries['name'])]\n",
    "\n",
    "# Preparing data to make chart\n",
    "europe_counts_by_percent = (inEurope['Country'].value_counts().head(14) * 100) / sum(inEurope['Country'].value_counts())\n",
    "\n",
    "ax = europe_counts_by_percent.plot(kind=\"bar\", figsize=(17,6), edgecolor=None, color=\"steelblue\")\n",
    "plt.ylabel(\"Respondents %\")\n",
    "plt.title(f\"Respondents % in Europe: Total {inEurope['Country'].dropna().shape[0]}\")\n",
    "plt.xticks(fontsize=10)\n",
    "addValuesOnBar(inEurope['Country'].value_counts().head(14), europe_counts_by_percent.round(1))"
   ]
  },
  {
   "cell_type": "markdown",
   "metadata": {},
   "source": [
    "## Programming languages users worked with\n",
    "Chart below is showing us the most popular used by respondents programming languages. First two\n",
    "languages are correlated with each other because usually if you are using HTML/CSS then you are\n",
    "adding some JavaScript scripts to it. Third place is also correlated with them because you need\n",
    "SQL to store data etc."
   ]
  },
  {
   "cell_type": "code",
   "execution_count": null,
   "metadata": {
    "pycharm": {
     "is_executing": true,
     "name": "#%%\n"
    }
   },
   "outputs": [],
   "source": [
    "# As somewhere above I'm separating options which were multiple choice for example JavaScript;Python\n",
    "coding_language_used_counts = df['LanguageHaveWorkedWith'].str.get_dummies(';').sum()\n",
    "# Sorting data descending\n",
    "coding_language_used_counts2 = coding_language_used_counts.sort_values(ascending=False)\n",
    "\n",
    "fig = px.bar(coding_language_used_counts2.head(10), title=\"Languages respondents' worked with\")\n",
    "\n",
    "# Setting chart options\n",
    "fig.update_layout(\n",
    "    xaxis_title = \"Language\",\n",
    "    yaxis_title = \"Frequency\",\n",
    "    title_x = 0.5,\n",
    "    showlegend = False\n",
    ")"
   ]
  },
  {
   "cell_type": "markdown",
   "metadata": {},
   "source": [
    "## Difference between time coding and coding on pro level\n",
    "Chart below shows that for most users it usually took about 3 years to become pro coder\n",
    "in their opinion. It is possible to become pro in three years if you are learning usually one\n",
    "language in which you are feeling the best but in IT you have to learn all the time because\n",
    "new things are appearing every few weeks or months."
   ]
  },
  {
   "cell_type": "code",
   "execution_count": null,
   "metadata": {
    "pycharm": {
     "is_executing": true,
     "name": "#%%\n"
    }
   },
   "outputs": [],
   "source": [
    "# Preparing data to make chart, here I had to delete rows with NaN values and delete options\n",
    "# about coding more than 50 years or less than 1 year because there were few of them and they\n",
    "# were spoiling the apperance of chart.\n",
    "data2 = pd.DataFrame()\n",
    "data2 = df.drop(df.columns.difference(['YearsCode','YearsCodePro']), 1, inplace=True)\n",
    "data2 = df.dropna(subset=['YearsCode', 'YearsCodePro'])\n",
    "data21 = data2[data2['YearsCode'].str.contains('More than 50 years')==False]\n",
    "data22 = data21[data21['YearsCodePro'].str.contains('More than 50 years')==False]\n",
    "data23 = data22[data22['YearsCode'].str.contains('Less than 1 year')==False]\n",
    "data24 = data23[data23['YearsCodePro'].str.contains('Less than 1 year')==False]\n",
    "data25 = data24.sort_values(by=['YearsCode', 'YearsCodePro'], ascending=True)\n",
    "\n",
    "# Changing two columns to be numerical because they contain only numbers\n",
    "data25['YearsCode'] = pd.to_numeric(data25['YearsCode'])\n",
    "data25['YearsCodePro'] = pd.to_numeric(data25['YearsCodePro'])\n",
    "\n",
    "sb.kdeplot(data = data25, x=\"YearsCode\", y=\"YearsCodePro\", cmap=\"Reds\", shade=True)\n",
    "\n",
    "# Setting plot options to display x and y labels every 5 years to better show the meaning of that point\n",
    "plt.xlabel('Years of coding')\n",
    "plt.xticks(np.arange(data25['YearsCode'].min(), data25['YearsCode'].max(), 5))\n",
    "plt.ylabel('Years of pro coding')\n",
    "plt.yticks(np.arange(data25['YearsCodePro'].min(), data25['YearsCodePro'].max(), 5))\n",
    "plt.title('Years of coding to pro coding comparison', loc='center')\n",
    "\n",
    "plt.show()"
   ]
  },
  {
   "cell_type": "markdown",
   "metadata": {},
   "source": [
    "## IDEs used to programme in different languages"
   ]
  },
  {
   "cell_type": "code",
   "execution_count": null,
   "metadata": {
    "pycharm": {
     "is_executing": true,
     "name": "#%%\n"
    }
   },
   "outputs": [],
   "source": [
    "data3 = pd.DataFrame()\n",
    "# data3 = df.drop(df.columns.difference(['NEWCollabToolsHaveWorkedWith','LanguageHaveWorkedWith']), 1, inplace=True)\n",
    "data3 = df.dropna(subset=['NEWCollabToolsHaveWorkedWith','LanguageHaveWorkedWith'])\n",
    "data31 = data3[data3['LanguageHaveWorkedWith'].str.contains('JavaScript')==True]\n",
    "xa = data31['NEWCollabToolsHaveWorkedWith'].str.get_dummies(';')\n",
    "# print(xa.value_counts())\n",
    "\n",
    "x_pos = np.arange(len(xa['NEWCollabToolsHaveWorkedWith']))\n",
    "\n",
    "# Create bars and choose color\n",
    "plt.bar(x_pos, xa['LanguageHaveWorkedWith'].value_counts(), color = (0.5,0.1,0.5,0.6))\n",
    "\n",
    "# Add title and axis names\n",
    "plt.title('My title')\n",
    "plt.xlabel('categories')\n",
    "plt.ylabel('values')\n",
    "\n",
    "# Create names on the x axis\n",
    "plt.xticks(x_pos, xa['LanguageHaveWorkedWith'].value_counts())\n",
    "\n",
    "# Show graph\n",
    "plt.show()\n"
   ]
  },
  {
   "cell_type": "markdown",
   "metadata": {},
   "source": [
    "## IDEs used by users\n",
    "Chart below is showing us the most popular used by respondents IDEs. As we can see first IDE Visual\n",
    "Studio Code have much more users than other IDEs, that's because you can write there in almost\n",
    "every programming language by installing packages. In other IDEs you are usually limited to\n",
    "write in only one or few of them."
   ]
  },
  {
   "cell_type": "code",
   "execution_count": null,
   "metadata": {
    "pycharm": {
     "is_executing": true,
     "name": "#%%\n"
    }
   },
   "outputs": [],
   "source": [
    "# As somewhere above I'm separating options which were multiple choice for example JavaScript;Python\n",
    "ides_used_counts = df['NEWCollabToolsHaveWorkedWith'].str.get_dummies(';').sum()\n",
    "# Sorting data descending\n",
    "ides_used_counts2 = ides_used_counts.sort_values(ascending=False)\n",
    "\n",
    "fig = px.bar(ides_used_counts2.head(10), title=\"IDEs respondents' worked with\")\n",
    "\n",
    "# Setting chart options\n",
    "fig.update_layout(\n",
    "    xaxis_title = \"IDE\",\n",
    "    yaxis_title = \"Frequency\",\n",
    "    title_x = 0.5,\n",
    "    showlegend = False\n",
    ")"
   ]
  }
 ],
 "metadata": {
  "kernelspec": {
   "display_name": "PyCharm (Analityka)",
   "language": "python",
   "name": "pycharm-ce64a35d"
  },
  "language_info": {
   "codemirror_mode": {
    "name": "ipython",
    "version": 3
   },
   "file_extension": ".py",
   "mimetype": "text/x-python",
   "name": "python",
   "nbconvert_exporter": "python",
   "pygments_lexer": "ipython3",
   "version": "3.9.6"
  }
 },
 "nbformat": 4,
 "nbformat_minor": 1
}
